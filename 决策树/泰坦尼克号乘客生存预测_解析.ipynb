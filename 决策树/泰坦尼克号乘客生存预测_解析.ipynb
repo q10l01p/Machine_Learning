{
 "cells": [
  {
   "cell_type": "markdown",
   "id": "3d7a9b3e-58fe-4060-b44d-50ffc2d41b39",
   "metadata": {},
   "source": [
    "# 1. 数据读取"
   ]
  },
  {
   "cell_type": "code",
   "execution_count": 1,
   "id": "a591c361-dfde-4422-9011-e070a5774812",
   "metadata": {
    "tags": []
   },
   "outputs": [],
   "source": [
    "import warnings\n",
    "warnings.filterwarnings(\"ignore\")  # 忽略警告信息\n",
    "\n",
    "import matplotlib.pyplot as plt  # 导入matplotlib.pyplot模块，用于数据可视化\n",
    "\n",
    "# 设置中文编码和负号的正常显示\n",
    "plt.rcParams['font.family'] = 'Microsoft YaHei'  # 设置字体为微软雅黑\n",
    "plt.rcParams['axes.unicode_minus'] = False  # 解决负号显示问题\n",
    "\n",
    "import pandas as pd  # 导入pandas库，用于数据处理和分析\n",
    "import numpy as np  # 导入numpy库，用于科学计算"
   ]
  },
  {
   "cell_type": "markdown",
   "id": "3e47d154-5ebd-491b-802f-e691879d88c4",
   "metadata": {},
   "source": [
    "这段代码主要完成以下操作：\n",
    "\n",
    "1. 导入`warnings`模块，用于控制警告信息的显示与忽略。\n",
    "2. 调用`filterwarnings`函数，设置忽略警告信息，避免警告信息的输出。\n",
    "3. 导入`matplotlib.pyplot`模块，用于绘制数据可视化图形。\n",
    "4. 设置中文编码和负号的正常显示。通过`plt.rcParams`字典来配置`matplotlib`的全局参数。\n",
    "   - `'font.family'`用于设置字体族，这里将其设置为\"Microsoft YaHei\"，即微软雅黑字体。\n",
    "   - `'axes.unicode_minus'`用于解决负号显示问题，将其设置为`False`，表示显示正常的负号。\n",
    "5. 导入`pandas`库，用于数据处理和分析。\n",
    "6. 导入`numpy`库，用于进行科学计算。"
   ]
  },
  {
   "cell_type": "code",
   "execution_count": 2,
   "id": "596c77af-2c87-4cf9-899b-5b2c419cab07",
   "metadata": {
    "tags": []
   },
   "outputs": [
    {
     "data": {
      "text/html": [
       "<div>\n",
       "<style scoped>\n",
       "    .dataframe tbody tr th:only-of-type {\n",
       "        vertical-align: middle;\n",
       "    }\n",
       "\n",
       "    .dataframe tbody tr th {\n",
       "        vertical-align: top;\n",
       "    }\n",
       "\n",
       "    .dataframe thead th {\n",
       "        text-align: right;\n",
       "    }\n",
       "</style>\n",
       "<table border=\"1\" class=\"dataframe\">\n",
       "  <thead>\n",
       "    <tr style=\"text-align: right;\">\n",
       "      <th></th>\n",
       "      <th>PassengerId</th>\n",
       "      <th>Survived</th>\n",
       "      <th>Pclass</th>\n",
       "      <th>Name</th>\n",
       "      <th>Sex</th>\n",
       "      <th>Age</th>\n",
       "      <th>SibSp</th>\n",
       "      <th>Parch</th>\n",
       "      <th>Ticket</th>\n",
       "      <th>Fare</th>\n",
       "      <th>Cabin</th>\n",
       "      <th>Embarked</th>\n",
       "    </tr>\n",
       "  </thead>\n",
       "  <tbody>\n",
       "    <tr>\n",
       "      <th>0</th>\n",
       "      <td>1</td>\n",
       "      <td>0</td>\n",
       "      <td>3</td>\n",
       "      <td>Braund, Mr. Owen Harris</td>\n",
       "      <td>male</td>\n",
       "      <td>22.0</td>\n",
       "      <td>1</td>\n",
       "      <td>0</td>\n",
       "      <td>A/5 21171</td>\n",
       "      <td>7.2500</td>\n",
       "      <td>NaN</td>\n",
       "      <td>S</td>\n",
       "    </tr>\n",
       "    <tr>\n",
       "      <th>1</th>\n",
       "      <td>2</td>\n",
       "      <td>1</td>\n",
       "      <td>1</td>\n",
       "      <td>Cumings, Mrs. John Bradley (Florence Briggs Th...</td>\n",
       "      <td>female</td>\n",
       "      <td>38.0</td>\n",
       "      <td>1</td>\n",
       "      <td>0</td>\n",
       "      <td>PC 17599</td>\n",
       "      <td>71.2833</td>\n",
       "      <td>C85</td>\n",
       "      <td>C</td>\n",
       "    </tr>\n",
       "    <tr>\n",
       "      <th>2</th>\n",
       "      <td>3</td>\n",
       "      <td>1</td>\n",
       "      <td>3</td>\n",
       "      <td>Heikkinen, Miss. Laina</td>\n",
       "      <td>female</td>\n",
       "      <td>26.0</td>\n",
       "      <td>0</td>\n",
       "      <td>0</td>\n",
       "      <td>STON/O2. 3101282</td>\n",
       "      <td>7.9250</td>\n",
       "      <td>NaN</td>\n",
       "      <td>S</td>\n",
       "    </tr>\n",
       "    <tr>\n",
       "      <th>3</th>\n",
       "      <td>4</td>\n",
       "      <td>1</td>\n",
       "      <td>1</td>\n",
       "      <td>Futrelle, Mrs. Jacques Heath (Lily May Peel)</td>\n",
       "      <td>female</td>\n",
       "      <td>35.0</td>\n",
       "      <td>1</td>\n",
       "      <td>0</td>\n",
       "      <td>113803</td>\n",
       "      <td>53.1000</td>\n",
       "      <td>C123</td>\n",
       "      <td>S</td>\n",
       "    </tr>\n",
       "    <tr>\n",
       "      <th>4</th>\n",
       "      <td>5</td>\n",
       "      <td>0</td>\n",
       "      <td>3</td>\n",
       "      <td>Allen, Mr. William Henry</td>\n",
       "      <td>male</td>\n",
       "      <td>35.0</td>\n",
       "      <td>0</td>\n",
       "      <td>0</td>\n",
       "      <td>373450</td>\n",
       "      <td>8.0500</td>\n",
       "      <td>NaN</td>\n",
       "      <td>S</td>\n",
       "    </tr>\n",
       "    <tr>\n",
       "      <th>...</th>\n",
       "      <td>...</td>\n",
       "      <td>...</td>\n",
       "      <td>...</td>\n",
       "      <td>...</td>\n",
       "      <td>...</td>\n",
       "      <td>...</td>\n",
       "      <td>...</td>\n",
       "      <td>...</td>\n",
       "      <td>...</td>\n",
       "      <td>...</td>\n",
       "      <td>...</td>\n",
       "      <td>...</td>\n",
       "    </tr>\n",
       "    <tr>\n",
       "      <th>886</th>\n",
       "      <td>887</td>\n",
       "      <td>0</td>\n",
       "      <td>2</td>\n",
       "      <td>Montvila, Rev. Juozas</td>\n",
       "      <td>male</td>\n",
       "      <td>27.0</td>\n",
       "      <td>0</td>\n",
       "      <td>0</td>\n",
       "      <td>211536</td>\n",
       "      <td>13.0000</td>\n",
       "      <td>NaN</td>\n",
       "      <td>S</td>\n",
       "    </tr>\n",
       "    <tr>\n",
       "      <th>887</th>\n",
       "      <td>888</td>\n",
       "      <td>1</td>\n",
       "      <td>1</td>\n",
       "      <td>Graham, Miss. Margaret Edith</td>\n",
       "      <td>female</td>\n",
       "      <td>19.0</td>\n",
       "      <td>0</td>\n",
       "      <td>0</td>\n",
       "      <td>112053</td>\n",
       "      <td>30.0000</td>\n",
       "      <td>B42</td>\n",
       "      <td>S</td>\n",
       "    </tr>\n",
       "    <tr>\n",
       "      <th>888</th>\n",
       "      <td>889</td>\n",
       "      <td>0</td>\n",
       "      <td>3</td>\n",
       "      <td>Johnston, Miss. Catherine Helen \"Carrie\"</td>\n",
       "      <td>female</td>\n",
       "      <td>NaN</td>\n",
       "      <td>1</td>\n",
       "      <td>2</td>\n",
       "      <td>W./C. 6607</td>\n",
       "      <td>23.4500</td>\n",
       "      <td>NaN</td>\n",
       "      <td>S</td>\n",
       "    </tr>\n",
       "    <tr>\n",
       "      <th>889</th>\n",
       "      <td>890</td>\n",
       "      <td>1</td>\n",
       "      <td>1</td>\n",
       "      <td>Behr, Mr. Karl Howell</td>\n",
       "      <td>male</td>\n",
       "      <td>26.0</td>\n",
       "      <td>0</td>\n",
       "      <td>0</td>\n",
       "      <td>111369</td>\n",
       "      <td>30.0000</td>\n",
       "      <td>C148</td>\n",
       "      <td>C</td>\n",
       "    </tr>\n",
       "    <tr>\n",
       "      <th>890</th>\n",
       "      <td>891</td>\n",
       "      <td>0</td>\n",
       "      <td>3</td>\n",
       "      <td>Dooley, Mr. Patrick</td>\n",
       "      <td>male</td>\n",
       "      <td>32.0</td>\n",
       "      <td>0</td>\n",
       "      <td>0</td>\n",
       "      <td>370376</td>\n",
       "      <td>7.7500</td>\n",
       "      <td>NaN</td>\n",
       "      <td>Q</td>\n",
       "    </tr>\n",
       "  </tbody>\n",
       "</table>\n",
       "<p>891 rows × 12 columns</p>\n",
       "</div>"
      ],
      "text/plain": [
       "     PassengerId  Survived  Pclass  \\\n",
       "0              1         0       3   \n",
       "1              2         1       1   \n",
       "2              3         1       3   \n",
       "3              4         1       1   \n",
       "4              5         0       3   \n",
       "..           ...       ...     ...   \n",
       "886          887         0       2   \n",
       "887          888         1       1   \n",
       "888          889         0       3   \n",
       "889          890         1       1   \n",
       "890          891         0       3   \n",
       "\n",
       "                                                  Name     Sex   Age  SibSp  \\\n",
       "0                              Braund, Mr. Owen Harris    male  22.0      1   \n",
       "1    Cumings, Mrs. John Bradley (Florence Briggs Th...  female  38.0      1   \n",
       "2                               Heikkinen, Miss. Laina  female  26.0      0   \n",
       "3         Futrelle, Mrs. Jacques Heath (Lily May Peel)  female  35.0      1   \n",
       "4                             Allen, Mr. William Henry    male  35.0      0   \n",
       "..                                                 ...     ...   ...    ...   \n",
       "886                              Montvila, Rev. Juozas    male  27.0      0   \n",
       "887                       Graham, Miss. Margaret Edith  female  19.0      0   \n",
       "888           Johnston, Miss. Catherine Helen \"Carrie\"  female   NaN      1   \n",
       "889                              Behr, Mr. Karl Howell    male  26.0      0   \n",
       "890                                Dooley, Mr. Patrick    male  32.0      0   \n",
       "\n",
       "     Parch            Ticket     Fare Cabin Embarked  \n",
       "0        0         A/5 21171   7.2500   NaN        S  \n",
       "1        0          PC 17599  71.2833   C85        C  \n",
       "2        0  STON/O2. 3101282   7.9250   NaN        S  \n",
       "3        0            113803  53.1000  C123        S  \n",
       "4        0            373450   8.0500   NaN        S  \n",
       "..     ...               ...      ...   ...      ...  \n",
       "886      0            211536  13.0000   NaN        S  \n",
       "887      0            112053  30.0000   B42        S  \n",
       "888      2        W./C. 6607  23.4500   NaN        S  \n",
       "889      0            111369  30.0000  C148        C  \n",
       "890      0            370376   7.7500   NaN        Q  \n",
       "\n",
       "[891 rows x 12 columns]"
      ]
     },
     "execution_count": 2,
     "metadata": {},
     "output_type": "execute_result"
    }
   ],
   "source": [
    "data_train = pd.read_csv(\"./datasets/train.csv\")\n",
    "data_test = pd.read_csv(\"./datasets/test.csv\")\n",
    "data_train"
   ]
  },
  {
   "cell_type": "code",
   "execution_count": 3,
   "id": "3c0a3514-4c59-44a7-8401-7ad3898148c1",
   "metadata": {
    "tags": []
   },
   "outputs": [
    {
     "name": "stdout",
     "output_type": "stream",
     "text": [
      "训练数据的形状（行数，列数）:\n",
      " (891, 12)\n",
      "\n",
      "测试数据的形状(行数，列数）:\n",
      " (418, 11)\n",
      "\n",
      "训练数据的列名:\n",
      " Index(['PassengerId', 'Survived', 'Pclass', 'Name', 'Sex', 'Age', 'SibSp',\n",
      "       'Parch', 'Ticket', 'Fare', 'Cabin', 'Embarked'],\n",
      "      dtype='object')\n"
     ]
    }
   ],
   "source": [
    "print(\"训练数据的形状（行数，列数）:\\n\", data_train.shape)  # 输出训练数据的形状（行数，列数）\n",
    "\n",
    "print(\"\\n测试数据的形状(行数，列数）:\\n\", data_test.shape)  # 输出测试数据的形状（行数，列数）\n",
    "\n",
    "print(\"\\n训练数据的列名:\\n\", data_train.columns)  # 输出训练数据的列名"
   ]
  },
  {
   "cell_type": "markdown",
   "id": "f1210e4e-963e-4160-92cc-56279c5843bb",
   "metadata": {},
   "source": [
    "可以看到训练集总共有12列891行数据，其中Survived字段表示的是乘客是否获救，其余都是乘客个人信息，包括：\n",
    "- PassengerId --- 乘客ID\n",
    "- Survived --- 获救情况（二分类，因变量）\n",
    "- Pclass --- 乘客等级(1/2/3等舱位)\n",
    "- Name --- 乘客姓名\n",
    "- Sex --- 性别\n",
    "- Age --- 年龄\n",
    "- SibSp --- 堂兄弟/妹个数\n",
    "- Parch --- 父母与小孩个数\n",
    "- Ticket --- 船票信息\n",
    "- Fare --- 票价\n",
    "- Cabin --- 客舱\n",
    "- Embarked --- 登船港口"
   ]
  },
  {
   "cell_type": "markdown",
   "id": "49523035-7ff6-46f5-9d5f-a70e7c8be500",
   "metadata": {},
   "source": [
    "## 1.2 简单描述性分析"
   ]
  },
  {
   "cell_type": "code",
   "execution_count": 4,
   "id": "b9c9c987-052b-43c9-bac1-fa5e1cf98a2b",
   "metadata": {
    "tags": []
   },
   "outputs": [
    {
     "name": "stdout",
     "output_type": "stream",
     "text": [
      "----------------------------\n",
      "训练集\n",
      "PassengerId      0\n",
      "Survived         0\n",
      "Pclass           0\n",
      "Name             0\n",
      "Sex              0\n",
      "Age            177\n",
      "SibSp            0\n",
      "Parch            0\n",
      "Ticket           0\n",
      "Fare             0\n",
      "Cabin          687\n",
      "Embarked         2\n",
      "dtype: int64\n",
      "----------------------------\n",
      "测试集\n",
      "PassengerId      0\n",
      "Pclass           0\n",
      "Name             0\n",
      "Sex              0\n",
      "Age             86\n",
      "SibSp            0\n",
      "Parch            0\n",
      "Ticket           0\n",
      "Fare             1\n",
      "Cabin          327\n",
      "Embarked         0\n",
      "dtype: int64\n"
     ]
    }
   ],
   "source": [
    "# data_train.info() \n",
    "print(\"----------------------------\\n训练集\")\n",
    "print(data_train.isnull().sum()) # 看一下数据类型及缺失情况\n",
    "print(\"----------------------------\\n测试集\")\n",
    "print(data_test.isnull().sum())"
   ]
  },
  {
   "cell_type": "markdown",
   "id": "187649aa-1348-4e8a-9154-f083fcc92db2",
   "metadata": {},
   "source": [
    "数据显示，\n",
    "\n",
    "训练数据集中12列特征，其中有三列数据存在缺失：\n",
    "- Age(年龄)：有177条记录缺失；\n",
    "- Cabin(客舱)：有687条记录缺失，缺失较多！；\n",
    "- Embarked(登船港口)：只有两条记录缺失；\n",
    "\n",
    "训练数据集中12列特征，其中有两列数据存在缺失：\n",
    "- Age(年龄)：有86条记录缺失；\n",
    "- Cabin(客舱)：有327条记录缺失，缺失较多！；"
   ]
  },
  {
   "cell_type": "code",
   "execution_count": 5,
   "id": "3d53cb34-787b-4758-aa73-229dfbf8af54",
   "metadata": {
    "tags": []
   },
   "outputs": [
    {
     "data": {
      "text/html": [
       "<div>\n",
       "<style scoped>\n",
       "    .dataframe tbody tr th:only-of-type {\n",
       "        vertical-align: middle;\n",
       "    }\n",
       "\n",
       "    .dataframe tbody tr th {\n",
       "        vertical-align: top;\n",
       "    }\n",
       "\n",
       "    .dataframe thead th {\n",
       "        text-align: right;\n",
       "    }\n",
       "</style>\n",
       "<table border=\"1\" class=\"dataframe\">\n",
       "  <thead>\n",
       "    <tr style=\"text-align: right;\">\n",
       "      <th></th>\n",
       "      <th>PassengerId</th>\n",
       "      <th>Survived</th>\n",
       "      <th>Pclass</th>\n",
       "      <th>Age</th>\n",
       "      <th>SibSp</th>\n",
       "      <th>Parch</th>\n",
       "      <th>Fare</th>\n",
       "    </tr>\n",
       "  </thead>\n",
       "  <tbody>\n",
       "    <tr>\n",
       "      <th>count</th>\n",
       "      <td>891.000000</td>\n",
       "      <td>891.000000</td>\n",
       "      <td>891.000000</td>\n",
       "      <td>714.000000</td>\n",
       "      <td>891.000000</td>\n",
       "      <td>891.000000</td>\n",
       "      <td>891.000000</td>\n",
       "    </tr>\n",
       "    <tr>\n",
       "      <th>mean</th>\n",
       "      <td>446.000000</td>\n",
       "      <td>0.383838</td>\n",
       "      <td>2.308642</td>\n",
       "      <td>29.699118</td>\n",
       "      <td>0.523008</td>\n",
       "      <td>0.381594</td>\n",
       "      <td>32.204208</td>\n",
       "    </tr>\n",
       "    <tr>\n",
       "      <th>std</th>\n",
       "      <td>257.353842</td>\n",
       "      <td>0.486592</td>\n",
       "      <td>0.836071</td>\n",
       "      <td>14.526497</td>\n",
       "      <td>1.102743</td>\n",
       "      <td>0.806057</td>\n",
       "      <td>49.693429</td>\n",
       "    </tr>\n",
       "    <tr>\n",
       "      <th>min</th>\n",
       "      <td>1.000000</td>\n",
       "      <td>0.000000</td>\n",
       "      <td>1.000000</td>\n",
       "      <td>0.420000</td>\n",
       "      <td>0.000000</td>\n",
       "      <td>0.000000</td>\n",
       "      <td>0.000000</td>\n",
       "    </tr>\n",
       "    <tr>\n",
       "      <th>25%</th>\n",
       "      <td>223.500000</td>\n",
       "      <td>0.000000</td>\n",
       "      <td>2.000000</td>\n",
       "      <td>20.125000</td>\n",
       "      <td>0.000000</td>\n",
       "      <td>0.000000</td>\n",
       "      <td>7.910400</td>\n",
       "    </tr>\n",
       "    <tr>\n",
       "      <th>50%</th>\n",
       "      <td>446.000000</td>\n",
       "      <td>0.000000</td>\n",
       "      <td>3.000000</td>\n",
       "      <td>28.000000</td>\n",
       "      <td>0.000000</td>\n",
       "      <td>0.000000</td>\n",
       "      <td>14.454200</td>\n",
       "    </tr>\n",
       "    <tr>\n",
       "      <th>75%</th>\n",
       "      <td>668.500000</td>\n",
       "      <td>1.000000</td>\n",
       "      <td>3.000000</td>\n",
       "      <td>38.000000</td>\n",
       "      <td>1.000000</td>\n",
       "      <td>0.000000</td>\n",
       "      <td>31.000000</td>\n",
       "    </tr>\n",
       "    <tr>\n",
       "      <th>max</th>\n",
       "      <td>891.000000</td>\n",
       "      <td>1.000000</td>\n",
       "      <td>3.000000</td>\n",
       "      <td>80.000000</td>\n",
       "      <td>8.000000</td>\n",
       "      <td>6.000000</td>\n",
       "      <td>512.329200</td>\n",
       "    </tr>\n",
       "  </tbody>\n",
       "</table>\n",
       "</div>"
      ],
      "text/plain": [
       "       PassengerId    Survived      Pclass         Age       SibSp  \\\n",
       "count   891.000000  891.000000  891.000000  714.000000  891.000000   \n",
       "mean    446.000000    0.383838    2.308642   29.699118    0.523008   \n",
       "std     257.353842    0.486592    0.836071   14.526497    1.102743   \n",
       "min       1.000000    0.000000    1.000000    0.420000    0.000000   \n",
       "25%     223.500000    0.000000    2.000000   20.125000    0.000000   \n",
       "50%     446.000000    0.000000    3.000000   28.000000    0.000000   \n",
       "75%     668.500000    1.000000    3.000000   38.000000    1.000000   \n",
       "max     891.000000    1.000000    3.000000   80.000000    8.000000   \n",
       "\n",
       "            Parch        Fare  \n",
       "count  891.000000  891.000000  \n",
       "mean     0.381594   32.204208  \n",
       "std      0.806057   49.693429  \n",
       "min      0.000000    0.000000  \n",
       "25%      0.000000    7.910400  \n",
       "50%      0.000000   14.454200  \n",
       "75%      0.000000   31.000000  \n",
       "max      6.000000  512.329200  "
      ]
     },
     "execution_count": 5,
     "metadata": {},
     "output_type": "execute_result"
    }
   ],
   "source": [
    "data_train.describe()"
   ]
  },
  {
   "cell_type": "markdown",
   "id": "17cd0b3e-1e3f-46b0-9a78-65d6e77258ef",
   "metadata": {},
   "source": [
    "根据表格，我们可以得出一些基本信息：\n",
    "- Survived：大概有0.383838比例的人最后获救了；\n",
    "- Pclass: 2号和3号舱的人要比1号舱的人多；\n",
    "- Age：所有乘客的平均年龄大概再29.7岁，最小的乘客0.42岁，最大的乘客80岁；\n",
    "- Fare：平均票价在32元，最高的票价在512元；\n",
    "- ...."
   ]
  },
  {
   "cell_type": "code",
   "execution_count": 6,
   "id": "d3218960-3b67-44ef-bb25-28d263d77afa",
   "metadata": {
    "tags": []
   },
   "outputs": [
    {
     "data": {
      "text/html": [
       "<div>\n",
       "<style scoped>\n",
       "    .dataframe tbody tr th:only-of-type {\n",
       "        vertical-align: middle;\n",
       "    }\n",
       "\n",
       "    .dataframe tbody tr th {\n",
       "        vertical-align: top;\n",
       "    }\n",
       "\n",
       "    .dataframe thead th {\n",
       "        text-align: right;\n",
       "    }\n",
       "</style>\n",
       "<table border=\"1\" class=\"dataframe\">\n",
       "  <thead>\n",
       "    <tr style=\"text-align: right;\">\n",
       "      <th></th>\n",
       "      <th>PassengerId</th>\n",
       "      <th>Pclass</th>\n",
       "      <th>Age</th>\n",
       "      <th>SibSp</th>\n",
       "      <th>Parch</th>\n",
       "      <th>Fare</th>\n",
       "    </tr>\n",
       "  </thead>\n",
       "  <tbody>\n",
       "    <tr>\n",
       "      <th>count</th>\n",
       "      <td>418.000000</td>\n",
       "      <td>418.000000</td>\n",
       "      <td>332.000000</td>\n",
       "      <td>418.000000</td>\n",
       "      <td>418.000000</td>\n",
       "      <td>417.000000</td>\n",
       "    </tr>\n",
       "    <tr>\n",
       "      <th>mean</th>\n",
       "      <td>1100.500000</td>\n",
       "      <td>2.265550</td>\n",
       "      <td>30.272590</td>\n",
       "      <td>0.447368</td>\n",
       "      <td>0.392344</td>\n",
       "      <td>35.627188</td>\n",
       "    </tr>\n",
       "    <tr>\n",
       "      <th>std</th>\n",
       "      <td>120.810458</td>\n",
       "      <td>0.841838</td>\n",
       "      <td>14.181209</td>\n",
       "      <td>0.896760</td>\n",
       "      <td>0.981429</td>\n",
       "      <td>55.907576</td>\n",
       "    </tr>\n",
       "    <tr>\n",
       "      <th>min</th>\n",
       "      <td>892.000000</td>\n",
       "      <td>1.000000</td>\n",
       "      <td>0.170000</td>\n",
       "      <td>0.000000</td>\n",
       "      <td>0.000000</td>\n",
       "      <td>0.000000</td>\n",
       "    </tr>\n",
       "    <tr>\n",
       "      <th>25%</th>\n",
       "      <td>996.250000</td>\n",
       "      <td>1.000000</td>\n",
       "      <td>21.000000</td>\n",
       "      <td>0.000000</td>\n",
       "      <td>0.000000</td>\n",
       "      <td>7.895800</td>\n",
       "    </tr>\n",
       "    <tr>\n",
       "      <th>50%</th>\n",
       "      <td>1100.500000</td>\n",
       "      <td>3.000000</td>\n",
       "      <td>27.000000</td>\n",
       "      <td>0.000000</td>\n",
       "      <td>0.000000</td>\n",
       "      <td>14.454200</td>\n",
       "    </tr>\n",
       "    <tr>\n",
       "      <th>75%</th>\n",
       "      <td>1204.750000</td>\n",
       "      <td>3.000000</td>\n",
       "      <td>39.000000</td>\n",
       "      <td>1.000000</td>\n",
       "      <td>0.000000</td>\n",
       "      <td>31.500000</td>\n",
       "    </tr>\n",
       "    <tr>\n",
       "      <th>max</th>\n",
       "      <td>1309.000000</td>\n",
       "      <td>3.000000</td>\n",
       "      <td>76.000000</td>\n",
       "      <td>8.000000</td>\n",
       "      <td>9.000000</td>\n",
       "      <td>512.329200</td>\n",
       "    </tr>\n",
       "  </tbody>\n",
       "</table>\n",
       "</div>"
      ],
      "text/plain": [
       "       PassengerId      Pclass         Age       SibSp       Parch        Fare\n",
       "count   418.000000  418.000000  332.000000  418.000000  418.000000  417.000000\n",
       "mean   1100.500000    2.265550   30.272590    0.447368    0.392344   35.627188\n",
       "std     120.810458    0.841838   14.181209    0.896760    0.981429   55.907576\n",
       "min     892.000000    1.000000    0.170000    0.000000    0.000000    0.000000\n",
       "25%     996.250000    1.000000   21.000000    0.000000    0.000000    7.895800\n",
       "50%    1100.500000    3.000000   27.000000    0.000000    0.000000   14.454200\n",
       "75%    1204.750000    3.000000   39.000000    1.000000    0.000000   31.500000\n",
       "max    1309.000000    3.000000   76.000000    8.000000    9.000000  512.329200"
      ]
     },
     "execution_count": 6,
     "metadata": {},
     "output_type": "execute_result"
    }
   ],
   "source": [
    "data_test.describe()"
   ]
  },
  {
   "cell_type": "markdown",
   "id": "961a8737-cfc0-402e-b3b1-da137660fcb5",
   "metadata": {},
   "source": [
    "训练集和测试集大致的分布相差不大；\n",
    "\n",
    "## 1.3 探索性分析\n",
    "### 1.3.1 乘客不同特征的描述性统计"
   ]
  },
  {
   "cell_type": "code",
   "execution_count": 7,
   "id": "40d8c3ef-3919-43ea-afa0-ba584a194ae7",
   "metadata": {
    "tags": []
   },
   "outputs": [
    {
     "data": {
      "text/plain": [
       "Text(0, 0.5, '人数')"
      ]
     },
     "execution_count": 7,
     "metadata": {},
     "output_type": "execute_result"
    },
    {
     "data": {
      "image/png": "[encoded data removed]",
      "text/plain": [
       "<Figure size 1500x1000 with 5 Axes>"
      ]
     },
     "metadata": {},
     "output_type": "display_data"
    }
   ],
   "source": [
    "import matplotlib.pyplot as plt\n",
    "%matplotlib inline\n",
    "\n",
    "fig = plt.figure(figsize=(15,10))\n",
    "fig.set(alpha=0.2) # 设定图标透明度\n",
    "\n",
    "plt.subplot2grid((2,3),(0,0)) # 分为2行3列，从(0,0)算起\n",
    "data_train.Survived.value_counts().plot(kind='bar')\n",
    "plt.title('获救情况(1为获救)')\n",
    "plt.ylabel('人数')\n",
    "\n",
    "plt.subplot2grid((2,3),(0,1))\n",
    "data_train.Pclass.value_counts().plot(kind=\"bar\")\n",
    "plt.ylabel(\"人数\")\n",
    "plt.title(\"乘客等级分布\")\n",
    "\n",
    "plt.subplot2grid((2,3),(0,2))\n",
    "plt.scatter(data_train.Survived, data_train.Age)\n",
    "plt.ylabel(\"年龄\")                         \n",
    "plt.grid(True, which='major', axis='y') # 绘制网格线\n",
    "plt.title(\"按年龄看获救分布 (1为获救)\")\n",
    "\n",
    "plt.subplot2grid((2,3),(1,0), colspan=2)\n",
    "data_train.Age[data_train.Pclass == 1].plot(kind='kde')  # 绘制密度图\n",
    "data_train.Age[data_train.Pclass == 2].plot(kind='kde')\n",
    "data_train.Age[data_train.Pclass == 3].plot(kind='kde')\n",
    "plt.xlabel(\"年龄\")\n",
    "plt.ylabel(\"密度\") \n",
    "plt.title(\"各等级的乘客年龄分布\")\n",
    "plt.legend(('头等舱', '2等舱', '3等舱'),loc='best')\n",
    "\n",
    "plt.subplot2grid((2,3),(1,2))\n",
    "data_train.Embarked.value_counts().plot(kind='bar')\n",
    "plt.title(\"各登船口岸上船人数\")\n",
    "plt.ylabel(\"人数\")"
   ]
  },
  {
   "cell_type": "markdown",
   "id": "ecf53b43-9763-4520-af26-726529fb1594",
   "metadata": {
    "tags": []
   },
   "source": [
    "- 根据训练集数据绘制如上图所示，从图中我们可以得到一些信息：\n",
    "    - 未能获救的人有500+，而获救的人大概有300+，不到人数的一半；\n",
    "    - 三等舱乘客最多，接近500人，而一等和二等舱的乘客相对较少，都在200人左右；\n",
    "    - 从年龄分布可以看出，遇难和获救的乘客年龄分布都比较离散，跨度大；\n",
    "    - 三个不同舱的乘客年龄总体趋势大致相同，其中20岁左右的乘客主要集中再二三等舱，一等舱中40岁左右的最多；\n",
    "    - 再登船港口中，其中S港口上传人数最多，有600+人，另外两个C和Q港口，都不到200人，要远远小于C港口；\n",
    "- 根据以上结论，提出一些假设：\n",
    "    - 不同舱位/乘客等级可能和财富/地位有关系，最后获救概率可能会不一样；\n",
    "    - 年龄对获救概率也一定是有影响的，毕竟背景知识提到，副船长还说『小孩和女士先走』呢；\n",
    "    - 获救概率与登船港口是不是有关系呢？也许登船港口不同，人的出身地位不同？\n",
    "    - ...\n",
    "    \n",
    "### 1.3.2 看看各乘客等级的获救情况"
   ]
  },
  {
   "cell_type": "code",
   "execution_count": 8,
   "id": "659695c9-b76f-4441-8e1d-68bbceedf06d",
   "metadata": {
    "tags": []
   },
   "outputs": [
    {
     "data": {
      "text/plain": [
       "<Figure size 640x480 with 0 Axes>"
      ]
     },
     "metadata": {},
     "output_type": "display_data"
    },
    {
     "data": {
      "image/png": "[encoded data removed]",
      "text/plain": [
       "<Figure size 640x480 with 1 Axes>"
      ]
     },
     "metadata": {},
     "output_type": "display_data"
    }
   ],
   "source": [
    "fig = plt.figure()\n",
    "fig.set(alpha=0.2)  # 设定图表颜色alpha参数\n",
    "\n",
    "Survived_0 = data_train.Pclass[data_train.Survived == 0].value_counts()\n",
    "Survived_1 = data_train.Pclass[data_train.Survived == 1].value_counts()\n",
    "df = pd.DataFrame({u'未获救':Survived_0, u'获救':Survived_1})\n",
    "df.plot(kind='bar', stacked=True)\n",
    "plt.title(u'不同等级乘客获救情况')\n",
    "plt.xlabel(u'乘客等级')\n",
    "plt.ylabel(u'人数')\n",
    "plt.show()"
   ]
  },
  {
   "cell_type": "code",
   "execution_count": 9,
   "id": "8339deac-a4ca-4de9-87db-3615421a9956",
   "metadata": {
    "tags": []
   },
   "outputs": [
    {
     "data": {
      "text/html": [
       "<div>\n",
       "<style scoped>\n",
       "    .dataframe tbody tr th:only-of-type {\n",
       "        vertical-align: middle;\n",
       "    }\n",
       "\n",
       "    .dataframe tbody tr th {\n",
       "        vertical-align: top;\n",
       "    }\n",
       "\n",
       "    .dataframe thead th {\n",
       "        text-align: right;\n",
       "    }\n",
       "</style>\n",
       "<table border=\"1\" class=\"dataframe\">\n",
       "  <thead>\n",
       "    <tr style=\"text-align: right;\">\n",
       "      <th></th>\n",
       "      <th>Survived</th>\n",
       "    </tr>\n",
       "    <tr>\n",
       "      <th>Pclass</th>\n",
       "      <th></th>\n",
       "    </tr>\n",
       "  </thead>\n",
       "  <tbody>\n",
       "    <tr>\n",
       "      <th>1</th>\n",
       "      <td>0.629630</td>\n",
       "    </tr>\n",
       "    <tr>\n",
       "      <th>2</th>\n",
       "      <td>0.472826</td>\n",
       "    </tr>\n",
       "    <tr>\n",
       "      <th>3</th>\n",
       "      <td>0.242363</td>\n",
       "    </tr>\n",
       "  </tbody>\n",
       "</table>\n",
       "</div>"
      ],
      "text/plain": [
       "        Survived\n",
       "Pclass          \n",
       "1       0.629630\n",
       "2       0.472826\n",
       "3       0.242363"
      ]
     },
     "execution_count": 9,
     "metadata": {},
     "output_type": "execute_result"
    }
   ],
   "source": [
    "data_train[['Pclass', 'Survived']].groupby('Pclass').mean()"
   ]
  },
  {
   "cell_type": "markdown",
   "id": "9826ec0b-ca3e-4239-807d-fb895cb8c8cb",
   "metadata": {},
   "source": [
    "从图中可以看出，等级为1的乘客，获救的概率最大，并且随着等级的递减，获救的概率也是递减状态！所以，乘客等级这必然是一个影响乘获救的重要特征！！\n",
    "\n",
    "### 1.3.3 查看各性别的获救情况"
   ]
  },
  {
   "cell_type": "code",
   "execution_count": 10,
   "id": "c88c4082-ffe4-4f44-ac80-83b5f374d2f2",
   "metadata": {
    "tags": []
   },
   "outputs": [
    {
     "data": {
      "text/plain": [
       "<Figure size 640x480 with 0 Axes>"
      ]
     },
     "metadata": {},
     "output_type": "display_data"
    },
    {
     "data": {
      "image/png": "[encoded data removed]",
      "text/plain": [
       "<Figure size 640x480 with 1 Axes>"
      ]
     },
     "metadata": {},
     "output_type": "display_data"
    }
   ],
   "source": [
    "fig = plt.figure()\n",
    "fig.set(alpha=0.2)\n",
    "\n",
    "Survived_0 = data_train.Survived[data_train.Sex == 'male'].value_counts()\n",
    "Survived_1 = data_train.Survived[data_train.Sex == 'female'].value_counts()\n",
    "df = pd.DataFrame({u'男性':Survived_0, u'女性':Survived_1})\n",
    "df.plot(kind='bar', stacked=True)\n",
    "plt.title(u'不同性别乘客获救情况')\n",
    "plt.xlabel(u'获救与否')\n",
    "plt.ylabel(u'人数')\n",
    "plt.show()"
   ]
  },
  {
   "cell_type": "code",
   "execution_count": 11,
   "id": "f092b947-81bb-40ac-87b5-d64160687a95",
   "metadata": {
    "tags": []
   },
   "outputs": [
    {
     "data": {
      "text/html": [
       "<div>\n",
       "<style scoped>\n",
       "    .dataframe tbody tr th:only-of-type {\n",
       "        vertical-align: middle;\n",
       "    }\n",
       "\n",
       "    .dataframe tbody tr th {\n",
       "        vertical-align: top;\n",
       "    }\n",
       "\n",
       "    .dataframe thead th {\n",
       "        text-align: right;\n",
       "    }\n",
       "</style>\n",
       "<table border=\"1\" class=\"dataframe\">\n",
       "  <thead>\n",
       "    <tr style=\"text-align: right;\">\n",
       "      <th></th>\n",
       "      <th>Survived</th>\n",
       "    </tr>\n",
       "    <tr>\n",
       "      <th>Sex</th>\n",
       "      <th></th>\n",
       "    </tr>\n",
       "  </thead>\n",
       "  <tbody>\n",
       "    <tr>\n",
       "      <th>female</th>\n",
       "      <td>0.742038</td>\n",
       "    </tr>\n",
       "    <tr>\n",
       "      <th>male</th>\n",
       "      <td>0.188908</td>\n",
       "    </tr>\n",
       "  </tbody>\n",
       "</table>\n",
       "</div>"
      ],
      "text/plain": [
       "        Survived\n",
       "Sex             \n",
       "female  0.742038\n",
       "male    0.188908"
      ]
     },
     "execution_count": 11,
     "metadata": {},
     "output_type": "execute_result"
    }
   ],
   "source": [
    "data_train[['Sex','Survived']].groupby('Sex').mean()"
   ]
  },
  {
   "cell_type": "markdown",
   "id": "3ed75fb3-174b-4975-b93c-503cfcf6ba77",
   "metadata": {},
   "source": [
    "从图中可以看出，相对男性来说，女性的获救率远远高于男性，看来外国人还是比较践行女性优先的！所以，性别对于最终生存与否也是有非常重要影响的！\n",
    "\n",
    "### 1.3.4 查看各登船港口的获救情况\n",
    "泰坦尼克号从英国的南安普顿港出发，途径法国瑟堡和爱尔兰昆士敦，那么在昆士敦之前上船的人，有可能在瑟堡或昆士敦下船，这些人将不会遇到海难。"
   ]
  },
  {
   "cell_type": "code",
   "execution_count": 12,
   "id": "4d8ca242-a992-4e2a-b584-b441b81322af",
   "metadata": {
    "tags": []
   },
   "outputs": [
    {
     "data": {
      "text/plain": [
       "<Figure size 1000x1500 with 0 Axes>"
      ]
     },
     "metadata": {},
     "output_type": "display_data"
    },
    {
     "data": {
      "image/png": "[encoded data removed]",
      "text/plain": [
       "<Figure size 640x480 with 1 Axes>"
      ]
     },
     "metadata": {},
     "output_type": "display_data"
    }
   ],
   "source": [
    "fig = plt.figure(figsize=(10,15))\n",
    "fig.set(alpha=0.2)\n",
    "\n",
    "Survived_0 = data_train.Embarked[data_train.Survived == 0].value_counts()\n",
    "Survived_1 = data_train.Embarked[data_train.Survived == 1].value_counts()\n",
    "df = pd.DataFrame({u'未获救':Survived_0, u'获救':Survived_1})\n",
    "df.plot(kind='bar', stacked=True)\n",
    "plt.title(u'不同登船港口的乘客获救情况')\n",
    "plt.xlabel(u'登船港口')\n",
    "plt.ylabel(u'人数')\n",
    "plt.show()"
   ]
  },
  {
   "cell_type": "code",
   "execution_count": 13,
   "id": "d45f99e1-09e6-4923-bc25-f6e4edd99f87",
   "metadata": {
    "tags": []
   },
   "outputs": [
    {
     "data": {
      "text/html": [
       "<div>\n",
       "<style scoped>\n",
       "    .dataframe tbody tr th:only-of-type {\n",
       "        vertical-align: middle;\n",
       "    }\n",
       "\n",
       "    .dataframe tbody tr th {\n",
       "        vertical-align: top;\n",
       "    }\n",
       "\n",
       "    .dataframe thead th {\n",
       "        text-align: right;\n",
       "    }\n",
       "</style>\n",
       "<table border=\"1\" class=\"dataframe\">\n",
       "  <thead>\n",
       "    <tr style=\"text-align: right;\">\n",
       "      <th></th>\n",
       "      <th>Survived</th>\n",
       "    </tr>\n",
       "    <tr>\n",
       "      <th>Embarked</th>\n",
       "      <th></th>\n",
       "    </tr>\n",
       "  </thead>\n",
       "  <tbody>\n",
       "    <tr>\n",
       "      <th>C</th>\n",
       "      <td>0.553571</td>\n",
       "    </tr>\n",
       "    <tr>\n",
       "      <th>Q</th>\n",
       "      <td>0.389610</td>\n",
       "    </tr>\n",
       "    <tr>\n",
       "      <th>S</th>\n",
       "      <td>0.336957</td>\n",
       "    </tr>\n",
       "  </tbody>\n",
       "</table>\n",
       "</div>"
      ],
      "text/plain": [
       "          Survived\n",
       "Embarked          \n",
       "C         0.553571\n",
       "Q         0.389610\n",
       "S         0.336957"
      ]
     },
     "execution_count": 13,
     "metadata": {},
     "output_type": "execute_result"
    }
   ],
   "source": [
    "data_train[['Embarked','Survived']].groupby('Embarked').mean()"
   ]
  },
  {
   "cell_type": "code",
   "execution_count": 14,
   "id": "6d308f4e-ccd4-427b-8088-dd842c824d8f",
   "metadata": {
    "tags": []
   },
   "outputs": [
    {
     "data": {
      "image/png": "[encoded data removed]",
      "text/plain": [
       "<Figure size 500x500 with 1 Axes>"
      ]
     },
     "metadata": {},
     "output_type": "display_data"
    }
   ],
   "source": [
    "import seaborn as sns\n",
    "\n",
    "# 使用seaborn库绘制分类条形图，展示各登录港口乘客的获救情况\n",
    "sns.catplot(x='Embarked', y='Survived', data=data_train, kind='bar')\n",
    "\n",
    "# 图表标题\n",
    "plt.title('各登录港口乘客的获救情况')\n",
    "\n",
    "# 显示图表\n",
    "plt.show()"
   ]
  },
  {
   "cell_type": "markdown",
   "id": "d9859c90-2064-4f38-adeb-3937d7ce26dd",
   "metadata": {},
   "source": [
    "可以看出，再不同港口上船，生还率不同，其中C港口最高，Q次之，S港口最低；\n",
    "\n",
    "### 1.3.5 查看携带家人数量不同的获救情况"
   ]
  },
  {
   "cell_type": "code",
   "execution_count": 15,
   "id": "5ec19675-35f9-469f-83ce-ed9c151b3495",
   "metadata": {
    "tags": []
   },
   "outputs": [
    {
     "data": {
      "text/plain": [
       "0      1\n",
       "1      1\n",
       "2      0\n",
       "3      1\n",
       "4      0\n",
       "      ..\n",
       "886    0\n",
       "887    0\n",
       "888    3\n",
       "889    0\n",
       "890    0\n",
       "Name: family, Length: 891, dtype: int64"
      ]
     },
     "execution_count": 15,
     "metadata": {},
     "output_type": "execute_result"
    }
   ],
   "source": [
    "# 给家庭人数特征列赋值，将SibSp（亲属兄弟姐妹数量）和Parch（亲属父母子女数量）相加\n",
    "data_train['family'] = data_train['SibSp'] + data_train['Parch']\n",
    "\n",
    "# 输出家庭人数特征列\n",
    "data_train['family']"
   ]
  },
  {
   "cell_type": "code",
   "execution_count": 16,
   "id": "ef3686a4-858f-4e5a-8d5b-987cf9a41ab1",
   "metadata": {
    "tags": []
   },
   "outputs": [
    {
     "data": {
      "image/png": "[encoded data removed]",
      "text/plain": [
       "<Figure size 640x480 with 1 Axes>"
      ]
     },
     "metadata": {},
     "output_type": "display_data"
    }
   ],
   "source": [
    "# 对于未获救的乘客，统计家庭人数特征列的各个取值出现次数\n",
    "Survived_0 = data_train.family[data_train.Survived == 0].value_counts()\n",
    "\n",
    "# 对于获救的乘客，统计家庭人数特征列的各个取值出现次数\n",
    "Survived_1 = data_train.family[data_train.Survived == 1].value_counts()\n",
    "\n",
    "# 创建一个DataFrame来保存携带不同家人数量的乘客获救情况\n",
    "df = pd.DataFrame({u'未获救':Survived_0, u'获救':Survived_1})\n",
    "\n",
    "# 绘制堆积条形图\n",
    "df.plot(kind='bar', stacked=True)\n",
    "\n",
    "# 图表标题\n",
    "plt.title(u'携带不同家人数量的乘客获救情况')\n",
    "\n",
    "# x轴标签\n",
    "plt.xlabel(u'携带家人数量')\n",
    "\n",
    "# y轴标签\n",
    "plt.ylabel(u'人数')\n",
    "\n",
    "# 显示图表\n",
    "plt.show()"
   ]
  },
  {
   "cell_type": "code",
   "execution_count": 17,
   "id": "1b33caa5-d9a4-4577-bf11-cda56cb3eb46",
   "metadata": {
    "tags": []
   },
   "outputs": [
    {
     "data": {
      "text/plain": [
       "<Axes: xlabel='family'>"
      ]
     },
     "execution_count": 17,
     "metadata": {},
     "output_type": "execute_result"
    },
    {
     "data": {
      "image/png": "[encoded data removed]",
      "text/plain": [
       "<Figure size 640x480 with 1 Axes>"
      ]
     },
     "metadata": {},
     "output_type": "display_data"
    }
   ],
   "source": [
    "# 对家庭人数特征列和获救情况特征列进行分组，统计各家庭人数的获救率，并绘制条形图\n",
    "data_train[['family', 'Survived']].groupby('family').mean().plot.bar()"
   ]
  },
  {
   "cell_type": "markdown",
   "id": "7bcc82ab-182e-4c44-9ceb-5d616c5ef590",
   "metadata": {},
   "source": [
    "可以看到，独自一人和亲友太多，存活率都比较低；\n",
    "\n",
    "### 1.3.6 不同船舱类型的乘客获救情况\n",
    "\n",
    "船舱的缺失值确实太多，有效值仅仅有204个，很难分析出不同的船舱和存活的关系，我们可以直接将该组特征丢弃掉，也可以简单地将数据分为是否有Cabin记录作为特征，将缺失数据归为一类，未缺失数据归为一类，一同跟与Survived进行分析；"
   ]
  },
  {
   "cell_type": "code",
   "execution_count": 18,
   "id": "d750530f-77d7-4367-b4e0-cfbffb8ad1a6",
   "metadata": {
    "tags": []
   },
   "outputs": [
    {
     "data": {
      "image/png": "[encoded data removed]",
      "text/plain": [
       "<Figure size 640x480 with 1 Axes>"
      ]
     },
     "metadata": {},
     "output_type": "display_data"
    }
   ],
   "source": [
    "# 统计Cabin是否为空的乘客中获救和未获救人数\n",
    "is_null = data_train.Survived[data_train.Cabin.isnull()].value_counts()\n",
    "\n",
    "# 统计Cabin非空的乘客中获救和未获救人数\n",
    "not_null = data_train.Survived[data_train.Cabin.notnull()].value_counts()\n",
    "\n",
    "# 创建一个DataFrame来保存Cabin是否为空的乘客中的获救情况\n",
    "df = pd.DataFrame({'为空':is_null, '非空':not_null}).transpose()\n",
    "\n",
    "# 绘制堆积条形图\n",
    "df.plot(kind='bar', stacked=True)\n",
    "\n",
    "# 图表标题\n",
    "plt.title('按Cabin是否为空看获救情况')\n",
    "\n",
    "# x轴标签\n",
    "plt.xlabel('Cabin是否为空')\n",
    "\n",
    "# y轴标签\n",
    "plt.ylabel('人数')\n",
    "\n",
    "# 显示图表\n",
    "plt.show()"
   ]
  },
  {
   "cell_type": "code",
   "execution_count": 19,
   "id": "b3b8e22a-fbac-442a-ab7d-ec7f85690bea",
   "metadata": {
    "tags": []
   },
   "outputs": [
    {
     "data": {
      "text/plain": [
       "1    0.666667\n",
       "0    0.333333\n",
       "Name: Survived, dtype: float64"
      ]
     },
     "execution_count": 19,
     "metadata": {},
     "output_type": "execute_result"
    }
   ],
   "source": [
    "# 统计Cabin非空的乘客中获救和未获救人数，并计算获救人数占总人数的比例\n",
    "data_train.Survived[data_train.Cabin.notnull()].value_counts(normalize=True)"
   ]
  },
  {
   "cell_type": "markdown",
   "id": "1a57f479-580f-473c-b511-056e9ca04b4f",
   "metadata": {},
   "source": [
    "可以看出，有cabin记录的乘客survival比例比无记录的高很多；\n",
    "\n",
    "### 1.3.7 缺失值处理\n",
    "\n",
    "- 这里只是为了进行探索性分析，具体更详细的数据处理见特征工程部分；\n",
    "- 通常遇到缺值的情况，有下面几种处理方式:\n",
    "    - 如果缺值的样本占比较高，可以直接舍弃，以免作为特征加入，反倒带入噪声；\n",
    "    - 如果缺值的样本适中，而该属性非连续值特征属性(比如类目属性)，那就把NaN作为一个新类别，加到类别特征中\n",
    "    - 如果缺值的样本适中，而该属性为连续值特征属性，可以尝试分桶处理；\n",
    "    - 当缺失的样本并不是特别多的时候，我们可以试着根据已有的值，拟合一下数据，补充上。\n",
    "- Embarked（共有三个上船地点），缺失俩值，可以用众数填充；\n",
    "- Cabin将缺失信息当做一个类目；\n",
    "\n",
    "#### 处理Embarked和数据\n",
    "由于总共有1309条数据，Embarked只缺失两个，所以用众数填充即可"
   ]
  },
  {
   "cell_type": "code",
   "execution_count": 20,
   "id": "5f35d0a3-00e2-485d-ac08-1ec569253388",
   "metadata": {
    "tags": []
   },
   "outputs": [],
   "source": [
    "# 如果Embarked缺失，则用出现次数最多的值进行填充\n",
    "data_train.Embarked[data_train.Embarked.isnull() == True] = data_train.Embarked.dropna().mode().values\n",
    "\n",
    "# 对于Cabin缺失的数据，用U0进行填充\n",
    "data_train['Cabin'] = data_train.Cabin.fillna('U0')"
   ]
  },
  {
   "cell_type": "markdown",
   "id": "2f123217-1270-416b-a27e-50de281f8362",
   "metadata": {},
   "source": [
    "#### 处理Age数据"
   ]
  },
  {
   "cell_type": "code",
   "execution_count": 21,
   "id": "8097ca41-fa1e-48f0-999e-6b9e01e2f7e1",
   "metadata": {
    "tags": []
   },
   "outputs": [
    {
     "data": {
      "text/plain": [
       "<seaborn.axisgrid.FacetGrid at 0x2d201c02170>"
      ]
     },
     "execution_count": 21,
     "metadata": {},
     "output_type": "execute_result"
    },
    {
     "data": {
      "image/png": "[encoded data removed]",
      "text/plain": [
       "<Figure size 1268.11x300 with 1 Axes>"
      ]
     },
     "metadata": {},
     "output_type": "display_data"
    }
   ],
   "source": [
    "# 任务：绘制数据集data_train中Survived列与Age列的关系图，并按照Survived列进行分组，展示各组的核密度估计图。\n",
    "\n",
    "# 使用seaborn库的FacetGrid方法创建画布facet，hue参数指定按Survived分组，aspect参数指定画布宽高比为4:1\n",
    "facet = sns.FacetGrid(data_train,hue=\"Survived\",aspect=4)\n",
    "\n",
    "# 在facet上绘制核密度估计图，x轴为Age列，shade参数指定是否填充颜色\n",
    "facet.map(sns.kdeplot,'Age',shade=True)\n",
    "\n",
    "# 设置x轴范围为0到Age列的最大值\n",
    "facet.set(xlim=(0,data_train['Age'].max()))\n",
    "\n",
    "# 添加图例\n",
    "facet.add_legend() "
   ]
  },
  {
   "cell_type": "markdown",
   "id": "d06d07cb-2bfc-474d-a017-dd892326ff78",
   "metadata": {},
   "source": [
    "- 通常使用回归、随机森林等模型来预测缺失属性的值。\n",
    "- 经过分析：Age在该数据集里是一个相当重要的特征，所以保证一定的缺失值填充准确率是非常重要的，对结果也会产生较大影响。\n",
    "- 这里使用随机森林预测模型，选取数据集中的数值属性作为特征（因为sklearn的模型只能处理数值属性，所以这里先仅选取数值特征，但在实际的应用中需要将非数值特征转换为数值特征）；"
   ]
  },
  {
   "cell_type": "code",
   "execution_count": 22,
   "id": "1f52cfa2-42a4-4393-9d79-86829f473d4e",
   "metadata": {
    "tags": []
   },
   "outputs": [
    {
     "name": "stdout",
     "output_type": "stream",
     "text": [
      "<class 'pandas.core.frame.DataFrame'>\n",
      "RangeIndex: 891 entries, 0 to 890\n",
      "Data columns (total 13 columns):\n",
      " #   Column       Non-Null Count  Dtype  \n",
      "---  ------       --------------  -----  \n",
      " 0   PassengerId  891 non-null    int64  \n",
      " 1   Survived     891 non-null    int64  \n",
      " 2   Pclass       891 non-null    int64  \n",
      " 3   Name         891 non-null    object \n",
      " 4   Sex          891 non-null    object \n",
      " 5   Age          714 non-null    float64\n",
      " 6   SibSp        891 non-null    int64  \n",
      " 7   Parch        891 non-null    int64  \n",
      " 8   Ticket       891 non-null    object \n",
      " 9   Fare         891 non-null    float64\n",
      " 10  Cabin        891 non-null    object \n",
      " 11  Embarked     891 non-null    object \n",
      " 12  family       891 non-null    int64  \n",
      "dtypes: float64(2), int64(6), object(5)\n",
      "memory usage: 90.6+ KB\n"
     ]
    }
   ],
   "source": [
    "# 任务：查看数据集data_train的基本信息，包括列名、非空值数量、数据类型等。\n",
    "\n",
    "# 输出data_train的基本信息，包括列名、非空值数量、数据类型等\n",
    "data_train.info()"
   ]
  },
  {
   "cell_type": "code",
   "execution_count": 23,
   "id": "1894ed0d-36f8-47d8-8612-07a8b8f924fb",
   "metadata": {
    "tags": []
   },
   "outputs": [
    {
     "name": "stdout",
     "output_type": "stream",
     "text": [
      "<class 'pandas.core.frame.DataFrame'>\n",
      "RangeIndex: 891 entries, 0 to 890\n",
      "Data columns (total 13 columns):\n",
      " #   Column       Non-Null Count  Dtype  \n",
      "---  ------       --------------  -----  \n",
      " 0   PassengerId  891 non-null    int64  \n",
      " 1   Survived     891 non-null    int64  \n",
      " 2   Pclass       891 non-null    int64  \n",
      " 3   Name         891 non-null    object \n",
      " 4   Sex          891 non-null    object \n",
      " 5   Age          891 non-null    float64\n",
      " 6   SibSp        891 non-null    int64  \n",
      " 7   Parch        891 non-null    int64  \n",
      " 8   Ticket       891 non-null    object \n",
      " 9   Fare         891 non-null    float64\n",
      " 10  Cabin        891 non-null    object \n",
      " 11  Embarked     891 non-null    object \n",
      " 12  family       891 non-null    int64  \n",
      "dtypes: float64(2), int64(6), object(5)\n",
      "memory usage: 90.6+ KB\n"
     ]
    }
   ],
   "source": [
    "# 任务：使用随机森林回归模型填充数据集data_train中的缺失值，然后输出数据集的基本信息\n",
    "\n",
    "# 导入随机森林回归模型\n",
    "from sklearn.ensemble import RandomForestRegressor\n",
    "\n",
    "# 选取需要用到的列\n",
    "cols = ['Age', 'Survived', 'Pclass', 'SibSp', 'Parch', 'Fare']\n",
    "\n",
    "# 选出数据集中Age列非空的数据\n",
    "age_df = data_train[cols]\n",
    "X_train = age_df[age_df.Age.notnull()][cols[1:]]\n",
    "y_train = age_df[age_df.Age.notnull()][cols[0]]\n",
    "\n",
    "# 选出数据集中Age列为空的数据\n",
    "X_test = age_df[age_df.Age.isnull()][cols[1:]]\n",
    "\n",
    "# 构建随机森林回归模型\n",
    "rfr = RandomForestRegressor(n_estimators=1000, n_jobs=-1) #n_estimators控制随机森林决策树的数量；n_jobs=-1会使用CPU的全部内核，大幅度提升速度\n",
    "rfr.fit(X_train, y_train)\n",
    "\n",
    "# 预测Age列的缺失值\n",
    "y_predict = rfr.predict(X_test)\n",
    "\n",
    "# 将预测的缺失值填充到原数据集中\n",
    "data_train.loc[data_train.Age.isnull(),'Age'] = y_predict\n",
    "\n",
    "# 输出填充后的数据集的基本信息\n",
    "data_train.info()"
   ]
  },
  {
   "cell_type": "markdown",
   "id": "1125d2b8-1fe8-4247-9b85-e12b1bf3eb08",
   "metadata": {},
   "source": [
    "### 1.3.8 不同年龄下的平均生存率"
   ]
  },
  {
   "cell_type": "code",
   "execution_count": 24,
   "id": "72b94ff4-dad3-4796-a6bd-81d61dc95474",
   "metadata": {
    "tags": []
   },
   "outputs": [
    {
     "data": {
      "image/png": "[encoded data removed]",
      "text/plain": [
       "<Figure size 1800x600 with 1 Axes>"
      ]
     },
     "metadata": {},
     "output_type": "display_data"
    }
   ],
   "source": [
    "# 任务：绘制乘客年龄与生还率的柱状图\n",
    "\n",
    "# 导入绘图相关的库\n",
    "import matplotlib.pyplot as plt\n",
    "import seaborn as sns\n",
    "\n",
    "# 设置绘图的大小\n",
    "plt.figure(figsize=(18,6))\n",
    "\n",
    "# 将Age列转换为整型数据并加入到原数据集中\n",
    "data_train['Age_int'] = data_train.Age.astype(int)\n",
    "\n",
    "# 对Age_int和Survived两列进行分组并计算生还率\n",
    "rate = data_train[['Age_int', 'Survived']].groupby('Age_int', as_index=False).mean()\n",
    "\n",
    "# 绘制柱状图\n",
    "sns.barplot(x='Age_int', y='Survived', data=rate)\n",
    "\n",
    "# 显示图形\n",
    "plt.show()"
   ]
  },
  {
   "cell_type": "code",
   "execution_count": 25,
   "id": "330081c7-fd63-40c5-af51-80cbae03ae15",
   "metadata": {
    "tags": []
   },
   "outputs": [
    {
     "data": {
      "text/plain": [
       "count    891.000000\n",
       "mean      29.667574\n",
       "std       13.743877\n",
       "min        0.420000\n",
       "25%       21.000000\n",
       "50%       28.000000\n",
       "75%       37.000000\n",
       "max       80.000000\n",
       "Name: Age, dtype: float64"
      ]
     },
     "execution_count": 25,
     "metadata": {},
     "output_type": "execute_result"
    }
   ],
   "source": [
    "# 任务：查看数据集data_train中年龄列的描述性统计信息\n",
    "\n",
    "# 输出数据集中年龄列的描述性统计信息\n",
    "data_train['Age'].describe()"
   ]
  },
  {
   "cell_type": "markdown",
   "id": "818f37a4-45db-49c3-95df-451347d925b1",
   "metadata": {
    "tags": []
   },
   "source": [
    "从上图可以看出，训练样本共有891份，平均年龄在29.5岁，标准差为13.7岁，最小年龄0.42岁，最大年龄80岁；根据年龄，可以将乘客划分为儿童、少年、成年、老年，分析四个群体的生还情况；"
   ]
  },
  {
   "cell_type": "code",
   "execution_count": 26,
   "id": "42da905a-e61c-4165-a9e5-07af66217a49",
   "metadata": {
    "tags": []
   },
   "outputs": [
    {
     "data": {
      "text/plain": [
       "Age_group\n",
       "(0, 12]      0.506173\n",
       "(12, 18]     0.466667\n",
       "(18, 65]     0.364512\n",
       "(65, 100]    0.125000\n",
       "Name: Survived, dtype: float64"
      ]
     },
     "execution_count": 26,
     "metadata": {},
     "output_type": "execute_result"
    }
   ],
   "source": [
    "# 任务：将年龄列按照一定的区间划分为不同的组，并计算每组的生还率\n",
    "\n",
    "# 导入pandas库\n",
    "import pandas as pd\n",
    "\n",
    "# 划分年龄区间\n",
    "bins = [0, 12, 18, 65, 100]\n",
    "data_train['Age_group'] = pd.cut(data_train['Age'], bins)\n",
    "\n",
    "# 按照年龄区间分组并计算生还率\n",
    "age_group_survived_rate = data_train.groupby('Age_group')['Survived'].mean()\n",
    "\n",
    "# 输出每个年龄组的生还率\n",
    "age_group_survived_rate"
   ]
  },
  {
   "cell_type": "code",
   "execution_count": 27,
   "id": "e187fc96-98c8-454c-b866-1f06307fd5d7",
   "metadata": {
    "tags": []
   },
   "outputs": [
    {
     "data": {
      "text/plain": [
       "<Axes: xlabel='Age_group'>"
      ]
     },
     "execution_count": 27,
     "metadata": {},
     "output_type": "execute_result"
    },
    {
     "data": {
      "image/png": "[encoded data removed]",
      "text/plain": [
       "<Figure size 640x480 with 1 Axes>"
      ]
     },
     "metadata": {},
     "output_type": "display_data"
    }
   ],
   "source": [
    "# 任务：将每个年龄组的生还率以条形图形式展示出来\n",
    "\n",
    "# 将每个年龄组的生还率以条形图形式展示出来\n",
    "age_group_survived_rate.plot(kind='bar')"
   ]
  },
  {
   "cell_type": "markdown",
   "id": "ad14ab1c-f899-4885-859d-7200ca3b7e4f",
   "metadata": {},
   "source": [
    "从图中可以看出，0到12岁儿童的存活率是最高的，达到了50%左右，其次是少年群体，在45%以上，最低的就属于65岁到100岁的老年群体，存活率最低，在12%左右；所以看得出来，不管在哪，孩子永远都是第一要保护的对象；\n",
    "\n",
    "### 1.3.9 不同称呼的乘客生存情况\n",
    "\n",
    "通过观察名字数据，我们可以看出其中包括对乘客的称呼，如：Mr、Miss、Mrs等，称呼信息包含了乘客的年龄、性别，同时也包含了入社会地位等的称呼，如：Dr，Lady，Major（少校），Master（硕士，主人，师傅）等的称呼。"
   ]
  },
  {
   "cell_type": "code",
   "execution_count": 28,
   "id": "1231131d-2e14-456c-a96a-fd000f18510f",
   "metadata": {
    "tags": []
   },
   "outputs": [
    {
     "data": {
      "text/plain": [
       "0                                Braund, Mr. Owen Harris\n",
       "1      Cumings, Mrs. John Bradley (Florence Briggs Th...\n",
       "2                                 Heikkinen, Miss. Laina\n",
       "3           Futrelle, Mrs. Jacques Heath (Lily May Peel)\n",
       "4                               Allen, Mr. William Henry\n",
       "                             ...                        \n",
       "886                                Montvila, Rev. Juozas\n",
       "887                         Graham, Miss. Margaret Edith\n",
       "888             Johnston, Miss. Catherine Helen \"Carrie\"\n",
       "889                                Behr, Mr. Karl Howell\n",
       "890                                  Dooley, Mr. Patrick\n",
       "Name: Name, Length: 891, dtype: object"
      ]
     },
     "execution_count": 28,
     "metadata": {},
     "output_type": "execute_result"
    }
   ],
   "source": [
    "data_train['Name']"
   ]
  },
  {
   "cell_type": "code",
   "execution_count": 29,
   "id": "6e2b289a-a9ce-427d-9eda-8122d558e7ba",
   "metadata": {
    "tags": []
   },
   "outputs": [
    {
     "data": {
      "text/html": [
       "<div>\n",
       "<style scoped>\n",
       "    .dataframe tbody tr th:only-of-type {\n",
       "        vertical-align: middle;\n",
       "    }\n",
       "\n",
       "    .dataframe tbody tr th {\n",
       "        vertical-align: top;\n",
       "    }\n",
       "\n",
       "    .dataframe thead th {\n",
       "        text-align: right;\n",
       "    }\n",
       "</style>\n",
       "<table border=\"1\" class=\"dataframe\">\n",
       "  <thead>\n",
       "    <tr style=\"text-align: right;\">\n",
       "      <th>Sex</th>\n",
       "      <th>female</th>\n",
       "      <th>male</th>\n",
       "    </tr>\n",
       "    <tr>\n",
       "      <th>Title</th>\n",
       "      <th></th>\n",
       "      <th></th>\n",
       "    </tr>\n",
       "  </thead>\n",
       "  <tbody>\n",
       "    <tr>\n",
       "      <th>Capt</th>\n",
       "      <td>0</td>\n",
       "      <td>1</td>\n",
       "    </tr>\n",
       "    <tr>\n",
       "      <th>Col</th>\n",
       "      <td>0</td>\n",
       "      <td>2</td>\n",
       "    </tr>\n",
       "    <tr>\n",
       "      <th>Don</th>\n",
       "      <td>0</td>\n",
       "      <td>1</td>\n",
       "    </tr>\n",
       "    <tr>\n",
       "      <th>Dr</th>\n",
       "      <td>1</td>\n",
       "      <td>6</td>\n",
       "    </tr>\n",
       "    <tr>\n",
       "      <th>Jonkheer</th>\n",
       "      <td>0</td>\n",
       "      <td>1</td>\n",
       "    </tr>\n",
       "    <tr>\n",
       "      <th>Lady</th>\n",
       "      <td>1</td>\n",
       "      <td>0</td>\n",
       "    </tr>\n",
       "    <tr>\n",
       "      <th>Major</th>\n",
       "      <td>0</td>\n",
       "      <td>2</td>\n",
       "    </tr>\n",
       "    <tr>\n",
       "      <th>Master</th>\n",
       "      <td>0</td>\n",
       "      <td>40</td>\n",
       "    </tr>\n",
       "    <tr>\n",
       "      <th>Miss</th>\n",
       "      <td>182</td>\n",
       "      <td>0</td>\n",
       "    </tr>\n",
       "    <tr>\n",
       "      <th>Mlle</th>\n",
       "      <td>2</td>\n",
       "      <td>0</td>\n",
       "    </tr>\n",
       "    <tr>\n",
       "      <th>Mme</th>\n",
       "      <td>1</td>\n",
       "      <td>0</td>\n",
       "    </tr>\n",
       "    <tr>\n",
       "      <th>Mr</th>\n",
       "      <td>0</td>\n",
       "      <td>517</td>\n",
       "    </tr>\n",
       "    <tr>\n",
       "      <th>Mrs</th>\n",
       "      <td>125</td>\n",
       "      <td>0</td>\n",
       "    </tr>\n",
       "    <tr>\n",
       "      <th>Ms</th>\n",
       "      <td>1</td>\n",
       "      <td>0</td>\n",
       "    </tr>\n",
       "    <tr>\n",
       "      <th>Rev</th>\n",
       "      <td>0</td>\n",
       "      <td>6</td>\n",
       "    </tr>\n",
       "    <tr>\n",
       "      <th>Sir</th>\n",
       "      <td>0</td>\n",
       "      <td>1</td>\n",
       "    </tr>\n",
       "    <tr>\n",
       "      <th>the Countess</th>\n",
       "      <td>1</td>\n",
       "      <td>0</td>\n",
       "    </tr>\n",
       "  </tbody>\n",
       "</table>\n",
       "</div>"
      ],
      "text/plain": [
       "Sex           female  male\n",
       "Title                     \n",
       "Capt               0     1\n",
       "Col                0     2\n",
       "Don                0     1\n",
       "Dr                 1     6\n",
       "Jonkheer           0     1\n",
       "Lady               1     0\n",
       "Major              0     2\n",
       "Master             0    40\n",
       "Miss             182     0\n",
       "Mlle               2     0\n",
       "Mme                1     0\n",
       "Mr                 0   517\n",
       "Mrs              125     0\n",
       "Ms                 1     0\n",
       "Rev                0     6\n",
       "Sir                0     1\n",
       "the Countess       1     0"
      ]
     },
     "execution_count": 29,
     "metadata": {},
     "output_type": "execute_result"
    }
   ],
   "source": [
    "# 任务：提取每个乘客的称呼，并根据性别进行分类统计\n",
    "\n",
    "# 方法一：\n",
    "# 通过lambda表达式和字符串切片提取乘客的称呼\n",
    "data_train['Title'] = data_train['Name'].apply(lambda x : x.split(',')[1].split('.')[0].strip())\n",
    "\n",
    "# 方法二：\n",
    "# 通过正则表达式提取乘客的称呼\n",
    "# data_train['Title'] =data_train['Name'].str.extract(' ([A-Za-z]+)\\.',expand=False)\n",
    "\n",
    "# 使用交叉表统计每个称呼在不同性别中出现的次数\n",
    "pd.crosstab(data_train['Title'],data_train['Sex'])"
   ]
  },
  {
   "cell_type": "code",
   "execution_count": 30,
   "id": "2791db01-00ea-4ed5-bc0a-1b7477f477ac",
   "metadata": {
    "tags": []
   },
   "outputs": [
    {
     "data": {
      "text/plain": [
       "<Axes: xlabel='Title'>"
      ]
     },
     "execution_count": 30,
     "metadata": {},
     "output_type": "execute_result"
    },
    {
     "data": {
      "image/png": "[encoded data removed]",
      "text/plain": [
       "<Figure size 640x480 with 1 Axes>"
      ]
     },
     "metadata": {},
     "output_type": "display_data"
    }
   ],
   "source": [
    "# 不同称呼的生存率\n",
    "data_train[['Title', 'Survived']].groupby('Title').mean().plot(kind='bar')"
   ]
  },
  {
   "cell_type": "markdown",
   "id": "265ead80-81bf-4715-b860-ae6f3e1eab47",
   "metadata": {},
   "source": [
    "从图中可以看出，不同称呼的乘客存活情况也不尽相同，存在显著差异，其中称呼为Lady、Mlle、Mme、Ms、Sir以及the countess的人群的存活率最高，均达到了100%的存活率；\n",
    "\n",
    "### 1.3.10 票价分布与Survived的关系"
   ]
  },
  {
   "cell_type": "code",
   "execution_count": 31,
   "id": "ab328e47-7f18-4cad-9c03-5485f61a835e",
   "metadata": {
    "tags": []
   },
   "outputs": [
    {
     "data": {
      "image/png": "[encoded data removed]",
      "text/plain": [
       "<Figure size 1000x800 with 1 Axes>"
      ]
     },
     "metadata": {},
     "output_type": "display_data"
    }
   ],
   "source": [
    "# 任务：绘制票价分布情况的直方图\n",
    "# 设置绘图的大小\n",
    "plt.figure(figsize=(10, 8))\n",
    "\n",
    "# 绘制票价分布情况的直方图\n",
    "data_train['Fare'].hist(bins=70)\n",
    "\n",
    "# 显示图形\n",
    "plt.show()"
   ]
  },
  {
   "cell_type": "code",
   "execution_count": 32,
   "id": "4802df30-393e-4d68-8b8b-ae3555e8ed51",
   "metadata": {
    "tags": []
   },
   "outputs": [
    {
     "data": {
      "image/png": "[encoded data removed]",
      "text/plain": [
       "<Figure size 640x480 with 1 Axes>"
      ]
     },
     "metadata": {},
     "output_type": "display_data"
    }
   ],
   "source": [
    "# 任务：绘制各等级船舱的票价箱线图\n",
    "\n",
    "# 绘制各等级船舱的票价箱线图\n",
    "data_train.boxplot(column='Fare', by='Pclass', showfliers=False)\n",
    "\n",
    "# 设置图形标题\n",
    "plt.title('各等级船舱的票价箱线图')\n",
    "\n",
    "# 显示图形\n",
    "plt.show()"
   ]
  },
  {
   "cell_type": "code",
   "execution_count": 33,
   "id": "52a70fe3-c9a0-4b81-b8ce-20ffe5dabca2",
   "metadata": {
    "tags": []
   },
   "outputs": [
    {
     "data": {
      "text/plain": [
       "count    891.000000\n",
       "mean      32.204208\n",
       "std       49.693429\n",
       "min        0.000000\n",
       "25%        7.910400\n",
       "50%       14.454200\n",
       "75%       31.000000\n",
       "max      512.329200\n",
       "Name: Fare, dtype: float64"
      ]
     },
     "execution_count": 33,
     "metadata": {},
     "output_type": "execute_result"
    }
   ],
   "source": [
    "data_train['Fare'].describe()"
   ]
  },
  {
   "cell_type": "code",
   "execution_count": 34,
   "id": "2051789e-dbbd-48e1-b5e4-28a09316e4e9",
   "metadata": {
    "tags": []
   },
   "outputs": [
    {
     "data": {
      "image/png": "[encoded data removed]",
      "text/plain": [
       "<Figure size 640x480 with 1 Axes>"
      ]
     },
     "metadata": {},
     "output_type": "display_data"
    }
   ],
   "source": [
    "# 任务：绘制生还者与非生还者的票价均值和方差的关系\n",
    "\n",
    "# 导入绘图相关的库\n",
    "import pandas as pd\n",
    "import matplotlib.pyplot as plt\n",
    "\n",
    "# 选出生还者和非生还者的票价数据\n",
    "fare_not_survived = data_train['Fare'][data_train['Survived'] == 0]\n",
    "fare_survived = data_train['Fare'][data_train['Survived'] == 1]\n",
    "\n",
    "# 计算票价均值和方差\n",
    "average_fare = pd.DataFrame([fare_not_survived.mean(),fare_survived.mean()])\n",
    "std_fare = pd.DataFrame([fare_not_survived.std(),fare_survived.std()])\n",
    "\n",
    "# 绘制票价均值和方差的条形图\n",
    "average_fare.plot(yerr=std_fare,kind='bar',legend=False)\n",
    "\n",
    "# 设置图形标题和横轴标签\n",
    "plt.title('Fare by Survived')\n",
    "plt.xlabel('Survived')\n",
    "\n",
    "# 显示图形\n",
    "plt.show()"
   ]
  },
  {
   "cell_type": "markdown",
   "id": "8194c2b8-a813-4906-99d5-6baf649abb0b",
   "metadata": {},
   "source": [
    "从图中可以看出，生存者的平均票价要大于未生还者的平均票价\n",
    "\n",
    "## 1.4 小结\n",
    "根据以上探索性分析，我们可以猜测出一些结论：\n",
    "\n",
    "- 舱位等级：舱位越高的获救的概率最大，并且随着等级的递减，比如一等舱就比二三等舱获救概率大；\n",
    "- 性别：女性的获救率远远高于男性；\n",
    "- 登船港口：C港口最高，Q次之，S港口最低；（需结合具体背景解释原因）\n",
    "- 携带家人数量：独自一人和亲友太多，存活率都比较低；\n",
    "- 客舱：缺失值较多，很难分析出有用信息，这里简单将缺失的看成一类，未缺失的看成一类；\n",
    "- 年龄：0到12岁儿童存活率最高，在50%左右，其次是少年，最低的是65岁到100岁的老年群体；\n",
    "- 称呼：不同称呼的乘客存活情况也不尽相同，存在显著差异；其中，Lady、Mlle、Mme、Ms、Sir以及the countess存活率均在100%；\n",
    "- 票价：生存者的平均票价要大于未生还者的平均票价；\n",
    "\n",
    "# 2.特征工程\n",
    "## 2.1 合并训练集与测试集\n",
    "在进行特征工程的时候，我们不仅需要对训练数据进行处理，还需要同时将测试数据同训练数据一起处理，使得二者具有相同的数据类型和数据分布。"
   ]
  },
  {
   "cell_type": "code",
   "execution_count": 35,
   "id": "e1c08a73-0d3b-4fb6-b666-44893c44f085",
   "metadata": {
    "tags": []
   },
   "outputs": [
    {
     "data": {
      "text/plain": [
       "(1309, 12)"
      ]
     },
     "execution_count": 35,
     "metadata": {},
     "output_type": "execute_result"
    }
   ],
   "source": [
    "import pandas as pd\n",
    "\n",
    "train = pd.read_csv('./datasets/train.csv')\n",
    "test = pd.read_csv('./datasets/test.csv')\n",
    "train_and_test = train.append(test, sort=False) # 合并训练集与测试集\n",
    "PassengerId = test['PassengerId']\n",
    "train_and_test.shape"
   ]
  },
  {
   "cell_type": "markdown",
   "id": "c706241b-418f-4351-a24b-a15ba736f084",
   "metadata": {},
   "source": [
    "## 2.2 缺失值处理\n",
    "- 对Embarked直接用众数填充；\n",
    "- 对Fare用均值填充；\n",
    "- 对Age，建立模型预测；\n",
    "\n",
    "### 2.2.1 填充Embarked字段"
   ]
  },
  {
   "cell_type": "code",
   "execution_count": 36,
   "id": "7c75d6b1-9ff7-4e98-9640-5f7ff4f4f4f2",
   "metadata": {
    "tags": []
   },
   "outputs": [
    {
     "data": {
      "text/plain": [
       "PassengerId       0\n",
       "Survived        418\n",
       "Pclass            0\n",
       "Name              0\n",
       "Sex               0\n",
       "Age             263\n",
       "SibSp             0\n",
       "Parch             0\n",
       "Ticket            0\n",
       "Fare              1\n",
       "Cabin          1014\n",
       "Embarked          0\n",
       "dtype: int64"
      ]
     },
     "execution_count": 36,
     "metadata": {},
     "output_type": "execute_result"
    }
   ],
   "source": [
    "# 任务：使用众数填充数据集train_and_test中的Embarked列的缺失值，并检查是否还存在缺失值\n",
    "\n",
    "# 找到Embarked列的众数\n",
    "mode = train_and_test['Embarked'].mode().iloc[0]\n",
    "\n",
    "# 使用众数填充Embarked列的缺失值\n",
    "train_and_test['Embarked'].fillna(mode, inplace=True)\n",
    "\n",
    "# 检查数据集中是否还存在缺失值\n",
    "train_and_test.isnull().sum()"
   ]
  },
  {
   "cell_type": "markdown",
   "id": "049f9e23-931b-4990-80ee-62dc3f0c0bff",
   "metadata": {
    "tags": []
   },
   "source": [
    "### 2.2.2 填充船票Fare字段"
   ]
  },
  {
   "cell_type": "code",
   "execution_count": 37,
   "id": "65469263-a325-45be-a02a-917a52adab1e",
   "metadata": {
    "tags": []
   },
   "outputs": [
    {
     "data": {
      "text/plain": [
       "33.29547928134557"
      ]
     },
     "execution_count": 37,
     "metadata": {},
     "output_type": "execute_result"
    }
   ],
   "source": [
    "train_and_test['Fare'].mean()"
   ]
  },
  {
   "cell_type": "code",
   "execution_count": 38,
   "id": "364f5fc3-7f4e-4b9f-94fb-6c8114f5fae1",
   "metadata": {
    "tags": []
   },
   "outputs": [
    {
     "data": {
      "text/plain": [
       "PassengerId       0\n",
       "Survived        418\n",
       "Pclass            0\n",
       "Name              0\n",
       "Sex               0\n",
       "Age             263\n",
       "SibSp             0\n",
       "Parch             0\n",
       "Ticket            0\n",
       "Fare              0\n",
       "Cabin          1014\n",
       "Embarked          0\n",
       "dtype: int64"
      ]
     },
     "execution_count": 38,
     "metadata": {},
     "output_type": "execute_result"
    }
   ],
   "source": [
    "Fare_mean = train_and_test['Fare'].mean()\n",
    "train_and_test['Fare'].fillna(Fare_mean, inplace=True)\n",
    "train_and_test.isnull().sum()"
   ]
  },
  {
   "cell_type": "markdown",
   "id": "b5661f83-fa4d-4372-891f-55efe82f48ab",
   "metadata": {},
   "source": [
    "### 2.2.3 填充年龄Age字段\n",
    "为尽可能用多的特征去预测Age的值，先对Cabin、Embarked、Name、Sex、Ticket、Pclass等特征进行处理，模型预测见后；\n",
    "\n",
    "## 2.3 不同特征字段的数据处理\n",
    "### 2.3.1 先对Embarked、Sex以及Pclass等用dummy处理"
   ]
  },
  {
   "cell_type": "code",
   "execution_count": 39,
   "id": "c0e2cef5-e9b9-46c0-a92f-423ecf50d831",
   "metadata": {
    "tags": []
   },
   "outputs": [
    {
     "data": {
      "text/plain": [
       "PassengerId       0\n",
       "Survived        418\n",
       "Name              0\n",
       "Age             263\n",
       "SibSp             0\n",
       "Parch             0\n",
       "Ticket            0\n",
       "Fare              0\n",
       "Cabin          1014\n",
       "Embarked__C       0\n",
       "Embarked__Q       0\n",
       "Embarked__S       0\n",
       "Sex__female       0\n",
       "Sex__male         0\n",
       "Pclass__1         0\n",
       "Pclass__2         0\n",
       "Pclass__3         0\n",
       "dtype: int64"
      ]
     },
     "execution_count": 39,
     "metadata": {},
     "output_type": "execute_result"
    }
   ],
   "source": [
    "# 任务：对数据集train_and_test中的分类特征进行编码，并检查是否还存在缺失值\n",
    "\n",
    "# 导入pandas库\n",
    "import pandas as pd\n",
    "\n",
    "# 指定需要进行编码的列\n",
    "cols = ['Embarked', 'Sex', 'Pclass']\n",
    "\n",
    "# 对这些列进行独热编码\n",
    "train_and_test = pd.get_dummies(train_and_test, columns=cols, prefix_sep='__')\n",
    "\n",
    "# 检查数据集中是否还存在缺失值\n",
    "train_and_test.isnull().sum()"
   ]
  },
  {
   "cell_type": "markdown",
   "id": "a42c8d66-fe9d-47da-8b65-bbb1f406e433",
   "metadata": {},
   "source": [
    "### 2.3.2 票价分级处理\n",
    "我们可以尝试将Fare分桶处理,使用qcut函数。qcut是根据这些值的频率来选择箱子的均匀间隔，每个箱子中含有的数的数量是相同的;"
   ]
  },
  {
   "cell_type": "code",
   "execution_count": 40,
   "id": "8a138542-9414-4c77-a076-3a67b71a0117",
   "metadata": {
    "tags": []
   },
   "outputs": [],
   "source": [
    "# 任务：将数据集train_and_test中的票价列按照分位数进行分组，并对分组后的数据进行编码\n",
    "\n",
    "# 将票价列按照分位数进行分组，并生成一个新的列\n",
    "train_and_test['Fare_bin'] = pd.qcut(train_and_test['Fare'], 5)\n",
    "\n",
    "# 对新生成的列进行编码\n",
    "train_and_test['Fare_bin_id'] = pd.factorize(train_and_test['Fare_bin'])[0]\n",
    "fare_bin_dummies_df = pd.get_dummies(train_and_test['Fare_bin_id']).rename(columns=lambda x : 'Fare_' + str(x))\n",
    "\n",
    "# 将编码后的数据与原数据集进行合并\n",
    "train_and_test = pd.concat([train_and_test, fare_bin_dummies_df], axis=1)\n",
    "\n",
    "# 删除临时生成的列\n",
    "train_and_test.drop(['Fare_bin'], axis=1, inplace=True)"
   ]
  },
  {
   "cell_type": "markdown",
   "id": "856ccead-6667-4005-a95f-4365ced37130",
   "metadata": {},
   "source": [
    "### 2.3.3 名字处理\n",
    "对名字Name进行处理，提取其特征；"
   ]
  },
  {
   "cell_type": "code",
   "execution_count": 41,
   "id": "7d4a0684-bcab-4702-a4a3-0c86f4924054",
   "metadata": {
    "tags": []
   },
   "outputs": [
    {
     "data": {
      "text/plain": [
       "0          Mr\n",
       "1         Mrs\n",
       "2        Miss\n",
       "3         Mrs\n",
       "4          Mr\n",
       "        ...  \n",
       "413        Mr\n",
       "414      Dona\n",
       "415        Mr\n",
       "416        Mr\n",
       "417    Master\n",
       "Name: Title, Length: 1309, dtype: object"
      ]
     },
     "execution_count": 41,
     "metadata": {},
     "output_type": "execute_result"
    }
   ],
   "source": [
    "# 任务：提取数据集train_and_test中每个乘客的称呼\n",
    "\n",
    "# 提取每个乘客的称呼\n",
    "train_and_test['Title'] = train_and_test['Name'].apply(lambda x : x.split(',')[1].split('.')[0].strip())\n",
    "\n",
    "# 输出每个乘客的称呼\n",
    "train_and_test['Title']"
   ]
  },
  {
   "cell_type": "code",
   "execution_count": 42,
   "id": "a1a74710-73a8-4b4d-9ce3-fcf70e5c3f88",
   "metadata": {
    "tags": []
   },
   "outputs": [
    {
     "data": {
      "text/plain": [
       "Mr         757\n",
       "Miss       262\n",
       "Mrs        200\n",
       "Master      61\n",
       "Officer     23\n",
       "Royalty      6\n",
       "Name: Title, dtype: int64"
      ]
     },
     "execution_count": 42,
     "metadata": {},
     "output_type": "execute_result"
    }
   ],
   "source": [
    "# 任务：将数据集train_and_test中的各式称呼进行统一化处理\n",
    "\n",
    "# 定义称呼映射表\n",
    "titleDict = {\n",
    "    \"Capt\" :      \"Officer\", \n",
    "    \"Col\"  :      \"Officer\",\n",
    "    \"Major\":      \"Officer\",\n",
    "    \"Jonkheer\":   \"Royalty\",\n",
    "    \"Don\":        \"Royalty\",\n",
    "    \"Sir\" :       \"Royalty\",\n",
    "    \"Dr\":         \"Officer\",\n",
    "    \"Rev\":        \"Officer\",\n",
    "    \"the Countess\":\"Royalty\",\n",
    "    \"Dona\":       \"Royalty\",\n",
    "    \"Mme\":        \"Mrs\",\n",
    "    \"Mlle\":       \"Miss\",\n",
    "    \"Ms\":         \"Mrs\",\n",
    "    \"Mr\" :        \"Mr\",\n",
    "    \"Mrs\" :       \"Mrs\",\n",
    "    \"Miss\" :      \"Miss\",\n",
    "    \"Master\" :    \"Master\",\n",
    "    \"Lady\" :      \"Royalty\"\n",
    "}\n",
    "\n",
    "# 使用映射表将各式称呼进行统一化处理\n",
    "train_and_test['Title'] = train_and_test['Title'].map(titleDict)\n",
    "\n",
    "# 输出每种称呼的数量\n",
    "train_and_test['Title'].value_counts()"
   ]
  },
  {
   "cell_type": "code",
   "execution_count": 43,
   "id": "ae1e66ee-2262-441f-b39d-53992f4f03ac",
   "metadata": {
    "tags": []
   },
   "outputs": [
    {
     "name": "stdout",
     "output_type": "stream",
     "text": [
      "<class 'pandas.core.frame.DataFrame'>\n",
      "Int64Index: 1309 entries, 0 to 417\n",
      "Data columns (total 30 columns):\n",
      " #   Column       Non-Null Count  Dtype  \n",
      "---  ------       --------------  -----  \n",
      " 0   PassengerId  1309 non-null   int64  \n",
      " 1   Survived     891 non-null    float64\n",
      " 2   Name         1309 non-null   object \n",
      " 3   Age          1046 non-null   float64\n",
      " 4   SibSp        1309 non-null   int64  \n",
      " 5   Parch        1309 non-null   int64  \n",
      " 6   Ticket       1309 non-null   object \n",
      " 7   Fare         1309 non-null   float64\n",
      " 8   Cabin        295 non-null    object \n",
      " 9   Embarked__C  1309 non-null   uint8  \n",
      " 10  Embarked__Q  1309 non-null   uint8  \n",
      " 11  Embarked__S  1309 non-null   uint8  \n",
      " 12  Sex__female  1309 non-null   uint8  \n",
      " 13  Sex__male    1309 non-null   uint8  \n",
      " 14  Pclass__1    1309 non-null   uint8  \n",
      " 15  Pclass__2    1309 non-null   uint8  \n",
      " 16  Pclass__3    1309 non-null   uint8  \n",
      " 17  Fare_bin_id  1309 non-null   int64  \n",
      " 18  Fare_0       1309 non-null   uint8  \n",
      " 19  Fare_1       1309 non-null   uint8  \n",
      " 20  Fare_2       1309 non-null   uint8  \n",
      " 21  Fare_3       1309 non-null   uint8  \n",
      " 22  Fare_4       1309 non-null   uint8  \n",
      " 23  Title        1309 non-null   int64  \n",
      " 24  Title_0      1309 non-null   uint8  \n",
      " 25  Title_1      1309 non-null   uint8  \n",
      " 26  Title_2      1309 non-null   uint8  \n",
      " 27  Title_3      1309 non-null   uint8  \n",
      " 28  Title_4      1309 non-null   uint8  \n",
      " 29  Title_5      1309 non-null   uint8  \n",
      "dtypes: float64(3), int64(5), object(3), uint8(19)\n",
      "memory usage: 147.0+ KB\n"
     ]
    }
   ],
   "source": [
    "# 任务：对数据集train_and_test中的称呼列进行one-hot编码\n",
    "\n",
    "# 为称呼列进行编码\n",
    "train_and_test['Title'] = pd.factorize(train_and_test['Title'])[0]\n",
    "\n",
    "# 对编码后的数据进行one-hot编码\n",
    "title_dummies_df = pd.get_dummies(train_and_test['Title'], prefix=train_and_test[['Title']].columns[0])\n",
    "\n",
    "# 将one-hot编码后的数据与原数据集进行合并\n",
    "train_and_test = pd.concat([train_and_test, title_dummies_df], axis=1)\n",
    "\n",
    "# 检查数据集中每列的数据类型和非空值数量\n",
    "train_and_test.info()"
   ]
  },
  {
   "cell_type": "code",
   "execution_count": 44,
   "id": "b7b2fc7c-3e7c-49aa-a738-77ba557bd81c",
   "metadata": {
    "tags": []
   },
   "outputs": [
    {
     "data": {
      "text/plain": [
       "0      23\n",
       "1      51\n",
       "2      22\n",
       "3      44\n",
       "4      24\n",
       "       ..\n",
       "413    18\n",
       "414    28\n",
       "415    28\n",
       "416    19\n",
       "417    24\n",
       "Name: Name_length, Length: 1309, dtype: int64"
      ]
     },
     "execution_count": 44,
     "metadata": {},
     "output_type": "execute_result"
    }
   ],
   "source": [
    "# 任务：提取长度特征\n",
    "# 将train_and_test数据集中Name列的每个元素转化为其长度，存储到Name_length列中\n",
    "train_and_test['Name_length'] = train_and_test['Name'].apply(len)\n",
    "# 输出Name_length列的数据\n",
    "train_and_test['Name_length']"
   ]
  },
  {
   "cell_type": "markdown",
   "id": "5fdb33eb-191c-4c90-a56c-6a6775762031",
   "metadata": {},
   "source": [
    "### 2.3.4 Cabin处理\n",
    "Cabin缺失值过多，将其分为有无两类，进行编码，如果缺失，即为0，否则为1;"
   ]
  },
  {
   "cell_type": "code",
   "execution_count": 45,
   "id": "aacc3b03-dc2b-4d71-ba00-aff84fb63d68",
   "metadata": {
    "tags": []
   },
   "outputs": [
    {
     "data": {
      "text/plain": [
       "0      0\n",
       "1      1\n",
       "2      0\n",
       "3      1\n",
       "4      0\n",
       "      ..\n",
       "413    0\n",
       "414    1\n",
       "415    0\n",
       "416    0\n",
       "417    0\n",
       "Name: Cabin, Length: 1309, dtype: int64"
      ]
     },
     "execution_count": 45,
     "metadata": {},
     "output_type": "execute_result"
    }
   ],
   "source": [
    "# 任务：处理Cabin特征\n",
    "# 将train_and_test数据集中Cabin列中缺失值替换为'U0'\n",
    "train_and_test.loc[train_and_test.Cabin.isnull(), 'Cabin'] = 'U0'\n",
    "# 将train_and_test数据集中Cabin列中的非缺失值替换为1，缺失值替换为0\n",
    "train_and_test['Cabin'] = train_and_test['Cabin'].apply(lambda x : 0 if x == 'U0' else 1)\n",
    "# 输出Cabin列的数据\n",
    "train_and_test['Cabin']"
   ]
  },
  {
   "cell_type": "markdown",
   "id": "f81a165c-3652-4c8c-a1ac-b7021b8c0397",
   "metadata": {},
   "source": [
    "### 2.3.5 Ticket处理\n",
    "Ticket有字母和数字之分，对于不同的字母，可能在很大程度上就意味着船舱等级或者不同船舱的位置，也会对Survived产生一定的影响，所以我们将Ticket中的字母分开，为数字的部分则分为一类。"
   ]
  },
  {
   "cell_type": "code",
   "execution_count": 46,
   "id": "1f13aa8b-28c7-4c96-82bd-eee03e4c3126",
   "metadata": {
    "tags": []
   },
   "outputs": [
    {
     "data": {
      "text/plain": [
       "0       0\n",
       "1       1\n",
       "2       2\n",
       "3       3\n",
       "4       3\n",
       "       ..\n",
       "413    24\n",
       "414     1\n",
       "415    21\n",
       "416     3\n",
       "417     3\n",
       "Name: Ticket_Letter, Length: 1309, dtype: int64"
      ]
     },
     "execution_count": 46,
     "metadata": {},
     "output_type": "execute_result"
    }
   ],
   "source": [
    "# 任务：处理Ticket特征\n",
    "# 将train_and_test数据集中Ticket列中的每个元素按空格拆分，取第一个元素存储到Ticket_Letter列中\n",
    "train_and_test['Ticket_Letter'] = train_and_test['Ticket'].str.split().str[0]\n",
    "# 如果Ticket_Letter列的值为数字，则将其替换为'U0'\n",
    "train_and_test['Ticket_Letter'] = train_and_test['Ticket_Letter'].apply(lambda x : 'U0' if x.isnumeric() else x)\n",
    "# 将Ticket_Letter列进行factorize编码\n",
    "train_and_test['Ticket_Letter'] = pd.factorize(train_and_test['Ticket_Letter'])[0]\n",
    "# 输出Ticket_Letter列的数据\n",
    "train_and_test['Ticket_Letter']"
   ]
  },
  {
   "cell_type": "markdown",
   "id": "5fd4722a-0123-4c4f-b53c-83431e0bc0bf",
   "metadata": {},
   "source": [
    "## 2.4 利用随机森林预测Age缺失值"
   ]
  },
  {
   "cell_type": "code",
   "execution_count": 47,
   "id": "ce5d1ecd-cfcf-4c3f-9a77-f5589906212c",
   "metadata": {
    "tags": []
   },
   "outputs": [
    {
     "name": "stdout",
     "output_type": "stream",
     "text": [
      "<class 'pandas.core.frame.DataFrame'>\n",
      "Int64Index: 1309 entries, 0 to 417\n",
      "Data columns (total 32 columns):\n",
      " #   Column         Non-Null Count  Dtype  \n",
      "---  ------         --------------  -----  \n",
      " 0   PassengerId    1309 non-null   int64  \n",
      " 1   Survived       891 non-null    float64\n",
      " 2   Name           1309 non-null   object \n",
      " 3   Age            1309 non-null   float64\n",
      " 4   SibSp          1309 non-null   int64  \n",
      " 5   Parch          1309 non-null   int64  \n",
      " 6   Ticket         1309 non-null   object \n",
      " 7   Fare           1309 non-null   float64\n",
      " 8   Cabin          1309 non-null   int64  \n",
      " 9   Embarked__C    1309 non-null   uint8  \n",
      " 10  Embarked__Q    1309 non-null   uint8  \n",
      " 11  Embarked__S    1309 non-null   uint8  \n",
      " 12  Sex__female    1309 non-null   uint8  \n",
      " 13  Sex__male      1309 non-null   uint8  \n",
      " 14  Pclass__1      1309 non-null   uint8  \n",
      " 15  Pclass__2      1309 non-null   uint8  \n",
      " 16  Pclass__3      1309 non-null   uint8  \n",
      " 17  Fare_bin_id    1309 non-null   int64  \n",
      " 18  Fare_0         1309 non-null   uint8  \n",
      " 19  Fare_1         1309 non-null   uint8  \n",
      " 20  Fare_2         1309 non-null   uint8  \n",
      " 21  Fare_3         1309 non-null   uint8  \n",
      " 22  Fare_4         1309 non-null   uint8  \n",
      " 23  Title          1309 non-null   int64  \n",
      " 24  Title_0        1309 non-null   uint8  \n",
      " 25  Title_1        1309 non-null   uint8  \n",
      " 26  Title_2        1309 non-null   uint8  \n",
      " 27  Title_3        1309 non-null   uint8  \n",
      " 28  Title_4        1309 non-null   uint8  \n",
      " 29  Title_5        1309 non-null   uint8  \n",
      " 30  Name_length    1309 non-null   int64  \n",
      " 31  Ticket_Letter  1309 non-null   int64  \n",
      "dtypes: float64(3), int64(8), object(2), uint8(19)\n",
      "memory usage: 167.5+ KB\n"
     ]
    }
   ],
   "source": [
    "# 任务：使用随机森林回归模型填充Age特征缺失值\n",
    "# 导入随机森林回归模型\n",
    "from sklearn.ensemble import RandomForestRegressor\n",
    "\n",
    "# 去除数据集中字符串类型的字段，获取仅包含数值类型的数据集\n",
    "missing_age = train_and_test.drop(['PassengerId', 'Survived', 'Name', 'Ticket'], axis=1)\n",
    "# 获取Age列非空值所在的行，作为训练集\n",
    "missing_age_train = missing_age[missing_age['Age'].notnull()]\n",
    "# 获取Age列空值所在的行，作为测试集\n",
    "missing_age_test = missing_age[missing_age['Age'].isnull()]\n",
    "\n",
    "# 分别获取训练集和测试集中的特征和标签\n",
    "X_train = missing_age_train.iloc[:,1:]\n",
    "y_train = missing_age_train.iloc[:,0]\n",
    "X_test = missing_age_test.iloc[:,1:]\n",
    "\n",
    "# 创建随机森林回归模型并进行训练\n",
    "rfr = RandomForestRegressor(n_estimators=1000, n_jobs=-1)\n",
    "rfr.fit(X_train, y_train)\n",
    "\n",
    "# 预测并填充测试集中的缺失值\n",
    "y_predict = rfr.predict(X_test)\n",
    "train_and_test.loc[train_and_test['Age'].isnull(), 'Age'] = y_predict\n",
    "\n",
    "# 输出填充后的数据集信息\n",
    "train_and_test.info()"
   ]
  },
  {
   "cell_type": "markdown",
   "id": "b68360ce-2513-497d-a25a-e0a165381c26",
   "metadata": {},
   "source": [
    "## 2.5 各特征与Survived的相关系数排序"
   ]
  },
  {
   "cell_type": "code",
   "execution_count": 48,
   "id": "a1c0ba61-77df-4115-a16a-5a5c8c9609c6",
   "metadata": {
    "tags": []
   },
   "outputs": [
    {
     "data": {
      "text/plain": [
       "Survived         1.000000\n",
       "Title_0          0.549199\n",
       "Sex__male        0.543351\n",
       "Sex__female      0.543351\n",
       "Title            0.377155\n",
       "Title_1          0.344935\n",
       "Title_2          0.332795\n",
       "Name_length      0.332350\n",
       "Pclass__3        0.322308\n",
       "Cabin            0.316912\n",
       "Pclass__1        0.285904\n",
       "Fare_1           0.263007\n",
       "Fare             0.257307\n",
       "Fare_2           0.191707\n",
       "Fare_0           0.171109\n",
       "Embarked__C      0.168240\n",
       "Embarked__S      0.149683\n",
       "Pclass__2        0.093349\n",
       "Title_3          0.085221\n",
       "Ticket_Letter    0.082068\n",
       "Parch            0.081629\n",
       "Age              0.080518\n",
       "Fare_bin_id      0.071787\n",
       "Fare_4           0.064843\n",
       "Fare_3           0.040812\n",
       "SibSp            0.035322\n",
       "Title_4          0.033391\n",
       "Title_5          0.031316\n",
       "PassengerId      0.005007\n",
       "Embarked__Q      0.003650\n",
       "Name: Survived, dtype: float64"
      ]
     },
     "execution_count": 48,
     "metadata": {},
     "output_type": "execute_result"
    }
   ],
   "source": [
    "# 任务：筛选出重要特征\n",
    "# 计算train_and_test数据集中各特征与Survived特征的相关系数并按照系数的绝对值从大到小排序\n",
    "train_and_test.corr()['Survived'].abs().sort_values(ascending=False)"
   ]
  },
  {
   "cell_type": "markdown",
   "id": "5d335e4c-f3f2-451b-97e5-4e447a423eb6",
   "metadata": {},
   "source": [
    "## 2.6 保存特征处理后的数据"
   ]
  },
  {
   "cell_type": "code",
   "execution_count": 49,
   "id": "cae5703f-872d-4697-a8d8-c600c993167b",
   "metadata": {
    "tags": []
   },
   "outputs": [],
   "source": [
    "train_and_test.to_csv('./datasets/经过特征工程处理后的数据.csv', index=None)"
   ]
  },
  {
   "cell_type": "markdown",
   "id": "0b405545-0b86-4472-9e27-4c8ee651be93",
   "metadata": {},
   "source": [
    "## 2.7 小结\n",
    "特征工程这一章主要做了以下工作：\n",
    "- 合并训练集和测试集\n",
    "    - 为了使二者具有相同的数据类型和数据分布；\n",
    "- 缺失值处理：\n",
    "    - Embarked:众数填充；\n",
    "    - Fare:平均值填充；\n",
    "    - Age:随机森林预测填充；\n",
    "- 各特征字段的数据处理：\n",
    "    - Embarked,Sex,Pclass: 直接dummy编码；\n",
    "    - Fare: 先分桶处理，再dummy编码；\n",
    "    - Name: 先提取称呼，再对称呼进行人群分类，最后dummy处理；\n",
    "    - cabin：缺失值较多，根据是否缺失划分类别，缺失为0，否则为1；\n",
    "    - Ticket:只保留其中字母，并对字母进行数字转换；\n",
    "- 随机森林建模预测Age缺失值；\n",
    "- 对各特征与生存与否进行了相关系数大小排序；"
   ]
  },
  {
   "cell_type": "markdown",
   "id": "8e73472e-42ff-4f51-b6df-fdc0b9f0f5e4",
   "metadata": {},
   "source": [
    "# 3. 建模及模型评价\n",
    "## 3.1 数据分离\n",
    "将经过特征工程处理后的数据分开，分成最初的训练数据和测试数据；\n",
    "### 3.1.1 读取数据"
   ]
  },
  {
   "cell_type": "code",
   "execution_count": 50,
   "id": "7402d190-6019-49b5-b5ee-5238b9d7cc1a",
   "metadata": {
    "tags": []
   },
   "outputs": [],
   "source": [
    "# 任务：读取数据文件\n",
    "# 导入pandas库，并读取train.csv、test.csv、gender_submission.csv和经过特征工程处理后的数据.csv文件\n",
    "import pandas as pd\n",
    "train = pd.read_csv('./datasets/train.csv')\n",
    "test = pd.read_csv('./datasets/test.csv')\n",
    "truth = pd.read_csv('./datasets/gender_submission.csv')\n",
    "train_and_test = pd.read_csv('./datasets/经过特征工程处理后的数据.csv')\n",
    "\n",
    "# 将test数据集中的PassengerId列提取出来，并存储到PassengerId变量中\n",
    "PassengerId = test['PassengerId']"
   ]
  },
  {
   "cell_type": "markdown",
   "id": "c2d79074-b7b7-4903-bc5a-dbc37cf200b9",
   "metadata": {},
   "source": [
    "### 3.1.2 划分训练集和测试集"
   ]
  },
  {
   "cell_type": "code",
   "execution_count": 51,
   "id": "7ee192c2-ce7d-48e8-a8f5-d507c6807108",
   "metadata": {
    "tags": []
   },
   "outputs": [
    {
     "data": {
      "text/plain": [
       "((891, 28), (891,), (418, 28))"
      ]
     },
     "execution_count": 51,
     "metadata": {},
     "output_type": "execute_result"
    }
   ],
   "source": [
    "# 任务：划分训练集和测试集\n",
    "# 获取test数据集中的第一个乘客的索引\n",
    "index = PassengerId[0] - 1\n",
    "\n",
    "# 去除train_and_test数据集中的PassengerId、Name和Ticket列，获取仅包含特征和标签的数据集\n",
    "train_and_test_drop = train_and_test.drop(['PassengerId', 'Name', 'Ticket'], axis=1)\n",
    "# 将train_and_test数据集划分为训练集和测试集\n",
    "train_data = train_and_test_drop[:index]\n",
    "test_data = train_and_test_drop[index:]\n",
    "\n",
    "# 分别获取训练集和测试集中的特征和标签\n",
    "train_X = train_data.drop(['Survived'], axis=1)\n",
    "train_y = train_data['Survived']\n",
    "test_X = test_data.drop(['Survived'], axis=1)\n",
    "test_y = truth['Survived']\n",
    "\n",
    "# 输出训练集和测试集的形状\n",
    "train_X.shape, train_y.shape, test_X.shape"
   ]
  },
  {
   "cell_type": "markdown",
   "id": "b9bbd7f9-c063-4c0f-b64f-ad35d5b79d8b",
   "metadata": {},
   "source": [
    "## 3.2 建模及模型评价"
   ]
  },
  {
   "cell_type": "markdown",
   "id": "80f6e0bc-2759-419b-9c86-737e888343fa",
   "metadata": {},
   "source": [
    "### 3.2.1 逻辑回归"
   ]
  },
  {
   "cell_type": "code",
   "execution_count": 52,
   "id": "d9f37b1c-bb4d-4503-be36-b0a33fb1833e",
   "metadata": {
    "tags": []
   },
   "outputs": [
    {
     "name": "stdout",
     "output_type": "stream",
     "text": [
      "逻辑回归的预测结果： 0.9140037593984963\n"
     ]
    }
   ],
   "source": [
    "# 任务：使用逻辑回归模型进行预测\n",
    "# 导入LogisticRegression模型\n",
    "from sklearn.linear_model import LogisticRegression\n",
    "# 导入roc_auc_score评价指标\n",
    "from sklearn.metrics import roc_auc_score\n",
    "\n",
    "# 创建LogisticRegression模型并进行训练\n",
    "lr = LogisticRegression()\n",
    "lr.fit(train_X, train_y)\n",
    "\n",
    "# 使用训练好的模型进行预测，并计算预测准确率\n",
    "pred_lr = lr.predict(test_X)\n",
    "accuracy_lr = roc_auc_score(test_y, pred_lr)\n",
    "print(\"逻辑回归的预测结果：\", accuracy_lr)"
   ]
  },
  {
   "cell_type": "markdown",
   "id": "f5f9eefc-37ad-44a1-ac2f-67cbebe0bbd6",
   "metadata": {},
   "source": [
    "### 3.2.2 随机森林-RF"
   ]
  },
  {
   "cell_type": "code",
   "execution_count": 53,
   "id": "3ffef3bb-e035-4ad8-be2f-5ebf7e22c8a5",
   "metadata": {
    "tags": []
   },
   "outputs": [
    {
     "name": "stdout",
     "output_type": "stream",
     "text": [
      "随机森林的预测结果： 0.843984962406015\n"
     ]
    }
   ],
   "source": [
    "# 任务：使用随机森林模型进行预测\n",
    "# 导入RandomForestClassifier模型\n",
    "from sklearn.ensemble import RandomForestClassifier\n",
    "\n",
    "# 创建RandomForestClassifier模型并进行训练\n",
    "rfc = RandomForestClassifier()\n",
    "rfc.fit(train_X, train_y)\n",
    "\n",
    "# 使用训练好的模型进行预测，并计算预测准确率\n",
    "pred_rfc = rfc.predict(test_X)\n",
    "accuracy_rfc = roc_auc_score(test_y, pred_rfc)\n",
    "print(\"随机森林的预测结果：\", accuracy_rfc)"
   ]
  },
  {
   "cell_type": "markdown",
   "id": "e50db196-ea6e-4f40-8e24-8619cfe4d75a",
   "metadata": {},
   "source": [
    "### 3.2.3 支持向量机-SVM"
   ]
  },
  {
   "cell_type": "code",
   "execution_count": 54,
   "id": "bd75deec-9e0e-4100-a8b3-3d0f3b5a0569",
   "metadata": {
    "tags": []
   },
   "outputs": [
    {
     "name": "stdout",
     "output_type": "stream",
     "text": [
      "支持向量机的预测结果： 0.6484962406015038\n"
     ]
    }
   ],
   "source": [
    "# 任务：使用支持向量机模型进行预测\n",
    "# 导入SVC模型\n",
    "from sklearn.svm import SVC\n",
    "\n",
    "# 创建SVC模型并进行训练\n",
    "svm = SVC()\n",
    "svm.fit(train_X,train_y)\n",
    "\n",
    "# 使用训练好的模型进行预测，并计算预测准确率\n",
    "pred_svm = svm.predict(test_X)\n",
    "accuracy_svm = roc_auc_score(test_y, pred_svm)\n",
    "print(\"支持向量机的预测结果：\", accuracy_svm)"
   ]
  },
  {
   "cell_type": "markdown",
   "id": "f6c4362e-6696-44d4-a34d-850ebb6089d3",
   "metadata": {},
   "source": [
    "### 3.2.4 K最近邻-KNN"
   ]
  },
  {
   "cell_type": "code",
   "execution_count": 55,
   "id": "1b2c68a8-f09f-4970-ae6e-9b2afdcc125f",
   "metadata": {
    "tags": []
   },
   "outputs": [
    {
     "name": "stdout",
     "output_type": "stream",
     "text": [
      "K最近邻分类器的预测结果： 0.6884398496240602\n"
     ]
    }
   ],
   "source": [
    "# 任务：使用K最近邻分类器进行预测\n",
    "# 导入KNeighborsClassifier模型\n",
    "from sklearn.neighbors import KNeighborsClassifier\n",
    "\n",
    "# 创建KNeighborsClassifier模型并进行训练\n",
    "knn = KNeighborsClassifier()\n",
    "knn.fit(train_X,train_y)\n",
    "\n",
    "# 使用训练好的模型进行预测，并计算预测准确率\n",
    "pred_knn = knn.predict(test_X)\n",
    "accuracy_knn = roc_auc_score(test_y, pred_knn)\n",
    "print(\"K最近邻分类器的预测结果：\", accuracy_knn)"
   ]
  },
  {
   "cell_type": "markdown",
   "id": "7f7a379f-2124-48eb-bc0e-48f5949f7246",
   "metadata": {},
   "source": [
    "### 3.2.5 决策树"
   ]
  },
  {
   "cell_type": "code",
   "execution_count": 56,
   "id": "96d96352-0226-4423-9ec4-98be6e08dd2f",
   "metadata": {
    "tags": []
   },
   "outputs": [
    {
     "name": "stdout",
     "output_type": "stream",
     "text": [
      "决策树模型的预测结果： 0.8143796992481203\n"
     ]
    }
   ],
   "source": [
    "# 任务：使用决策树模型进行预测\n",
    "# 导入DecisionTreeClassifier模型\n",
    "from sklearn.tree import DecisionTreeClassifier\n",
    "\n",
    "# 创建DecisionTreeClassifier模型并进行训练\n",
    "dtree = DecisionTreeClassifier()\n",
    "dtree.fit(train_X,train_y)\n",
    "\n",
    "# 使用训练好的模型进行预测，并计算预测准确率\n",
    "pred_dtree = dtree.predict(test_X)\n",
    "accuracy_dtree = roc_auc_score(test_y, pred_dtree)\n",
    "print(\"决策树模型的预测结果：\", accuracy_dtree)"
   ]
  },
  {
   "cell_type": "markdown",
   "id": "d249d51c-292e-40ec-92f9-6c51f003a2a8",
   "metadata": {},
   "source": [
    "### 3.2.6 梯度提升决策树-GBDT"
   ]
  },
  {
   "cell_type": "code",
   "execution_count": 57,
   "id": "4ded71cf-d1bf-4567-821f-7c42e82bb8e3",
   "metadata": {
    "tags": []
   },
   "outputs": [
    {
     "name": "stdout",
     "output_type": "stream",
     "text": [
      "GBDT模型的预测结果： 0.850093984962406\n"
     ]
    }
   ],
   "source": [
    "# 任务：使用GBDT模型进行预测\n",
    "# 导入GradientBoostingClassifier模型\n",
    "from sklearn.ensemble import GradientBoostingClassifier\n",
    "\n",
    "# 创建GradientBoostingClassifier模型并进行训练\n",
    "gbdt = GradientBoostingClassifier()\n",
    "gbdt.fit(train_X, train_y)\n",
    "\n",
    "# 使用训练好的模型进行预测，并计算预测准确率\n",
    "pred_gbdt = gbdt.predict(test_X)\n",
    "accuracy_gbdt = roc_auc_score(test_y, pred_gbdt)\n",
    "print(\"GBDT模型的预测结果：\", accuracy_gbdt)"
   ]
  },
  {
   "cell_type": "markdown",
   "id": "c6639461-4ff2-410b-ad3a-fda6bba1a90e",
   "metadata": {},
   "source": [
    "### 3.2.7 LightGBM算法"
   ]
  },
  {
   "cell_type": "code",
   "execution_count": 58,
   "id": "8fa65cf6-e290-4989-9339-bb4e0f55aab8",
   "metadata": {
    "tags": []
   },
   "outputs": [
    {
     "name": "stdout",
     "output_type": "stream",
     "text": [
      "[LightGBM] [Warning] Auto-choosing col-wise multi-threading, the overhead of testing was 0.000544 seconds.\n",
      "You can set `force_col_wise=true` to remove the overhead.\n",
      "[LightGBM] [Info] Total Bins 384\n",
      "[LightGBM] [Info] Number of data points in the train set: 891, number of used features: 26\n",
      "[LightGBM] [Info] Start training from score 0.383838\n",
      "[1]\tvalid_0's l2: 0.206646\n",
      "[2]\tvalid_0's l2: 0.185886\n",
      "[3]\tvalid_0's l2: 0.169265\n",
      "[4]\tvalid_0's l2: 0.155595\n",
      "[5]\tvalid_0's l2: 0.144824\n",
      "[6]\tvalid_0's l2: 0.135448\n",
      "[7]\tvalid_0's l2: 0.128143\n",
      "[8]\tvalid_0's l2: 0.122101\n",
      "[9]\tvalid_0's l2: 0.117703\n",
      "[10]\tvalid_0's l2: 0.112993\n",
      "[11]\tvalid_0's l2: 0.109994\n",
      "[12]\tvalid_0's l2: 0.1071\n",
      "[13]\tvalid_0's l2: 0.105071\n",
      "[14]\tvalid_0's l2: 0.103037\n",
      "[15]\tvalid_0's l2: 0.101951\n",
      "[16]\tvalid_0's l2: 0.100891\n",
      "[17]\tvalid_0's l2: 0.100526\n",
      "[18]\tvalid_0's l2: 0.0995172\n",
      "[19]\tvalid_0's l2: 0.0985701\n",
      "[LightGBM] [Warning] No further splits with positive gain, best gain: -inf\n",
      "[20]\tvalid_0's l2: 0.0988206\n",
      "[21]\tvalid_0's l2: 0.0990039\n",
      "[22]\tvalid_0's l2: 0.0986685\n",
      "[23]\tvalid_0's l2: 0.0998083\n",
      "[24]\tvalid_0's l2: 0.099625\n",
      "[25]\tvalid_0's l2: 0.100057\n",
      "[26]\tvalid_0's l2: 0.100609\n",
      "[27]\tvalid_0's l2: 0.100822\n",
      "[28]\tvalid_0's l2: 0.101015\n",
      "[29]\tvalid_0's l2: 0.101092\n",
      "[30]\tvalid_0's l2: 0.10182\n",
      "[31]\tvalid_0's l2: 0.101747\n",
      "[32]\tvalid_0's l2: 0.102328\n",
      "[33]\tvalid_0's l2: 0.10228\n",
      "[34]\tvalid_0's l2: 0.102379\n",
      "[35]\tvalid_0's l2: 0.102448\n",
      "[36]\tvalid_0's l2: 0.102522\n",
      "[37]\tvalid_0's l2: 0.102818\n",
      "[38]\tvalid_0's l2: 0.103097\n",
      "[39]\tvalid_0's l2: 0.103253\n",
      "[40]\tvalid_0's l2: 0.103881\n",
      "[41]\tvalid_0's l2: 0.104041\n",
      "[42]\tvalid_0's l2: 0.104306\n",
      "[43]\tvalid_0's l2: 0.10491\n",
      "[44]\tvalid_0's l2: 0.10537\n",
      "[45]\tvalid_0's l2: 0.105566\n",
      "[46]\tvalid_0's l2: 0.105731\n",
      "[47]\tvalid_0's l2: 0.106104\n",
      "[48]\tvalid_0's l2: 0.106607\n",
      "[49]\tvalid_0's l2: 0.106823\n",
      "[50]\tvalid_0's l2: 0.1071\n",
      "[51]\tvalid_0's l2: 0.107633\n",
      "[52]\tvalid_0's l2: 0.108191\n",
      "[53]\tvalid_0's l2: 0.108866\n",
      "[54]\tvalid_0's l2: 0.108997\n",
      "[55]\tvalid_0's l2: 0.109433\n",
      "[56]\tvalid_0's l2: 0.109936\n",
      "[57]\tvalid_0's l2: 0.110535\n",
      "[58]\tvalid_0's l2: 0.110664\n",
      "[59]\tvalid_0's l2: 0.111198\n",
      "[60]\tvalid_0's l2: 0.111464\n",
      "[61]\tvalid_0's l2: 0.111533\n",
      "[62]\tvalid_0's l2: 0.111386\n",
      "[63]\tvalid_0's l2: 0.112057\n",
      "[64]\tvalid_0's l2: 0.112178\n",
      "[65]\tvalid_0's l2: 0.112459\n",
      "[66]\tvalid_0's l2: 0.112762\n",
      "[67]\tvalid_0's l2: 0.113394\n",
      "[68]\tvalid_0's l2: 0.114175\n",
      "[69]\tvalid_0's l2: 0.114199\n",
      "[70]\tvalid_0's l2: 0.114549\n",
      "[71]\tvalid_0's l2: 0.115071\n",
      "[72]\tvalid_0's l2: 0.115652\n",
      "[73]\tvalid_0's l2: 0.116587\n",
      "[74]\tvalid_0's l2: 0.116613\n",
      "[75]\tvalid_0's l2: 0.116831\n",
      "[76]\tvalid_0's l2: 0.117479\n",
      "[77]\tvalid_0's l2: 0.117981\n",
      "[78]\tvalid_0's l2: 0.118353\n",
      "[79]\tvalid_0's l2: 0.118804\n",
      "[80]\tvalid_0's l2: 0.119104\n",
      "[81]\tvalid_0's l2: 0.11985\n",
      "[82]\tvalid_0's l2: 0.120175\n",
      "[83]\tvalid_0's l2: 0.120557\n",
      "[84]\tvalid_0's l2: 0.120778\n",
      "[85]\tvalid_0's l2: 0.120922\n",
      "[86]\tvalid_0's l2: 0.12109\n",
      "[87]\tvalid_0's l2: 0.121378\n",
      "[88]\tvalid_0's l2: 0.121822\n",
      "[89]\tvalid_0's l2: 0.121974\n",
      "[90]\tvalid_0's l2: 0.122359\n",
      "[91]\tvalid_0's l2: 0.122306\n",
      "[92]\tvalid_0's l2: 0.122358\n",
      "[93]\tvalid_0's l2: 0.122052\n",
      "[94]\tvalid_0's l2: 0.122091\n",
      "[95]\tvalid_0's l2: 0.122241\n",
      "[96]\tvalid_0's l2: 0.122332\n",
      "[97]\tvalid_0's l2: 0.122759\n",
      "[98]\tvalid_0's l2: 0.123048\n",
      "[99]\tvalid_0's l2: 0.123202\n",
      "[100]\tvalid_0's l2: 0.123423\n",
      "LightGBM模型的预测结果： 0.9024782350613376\n"
     ]
    }
   ],
   "source": [
    "# 任务：使用LightGBM模型进行预测\n",
    "# 导入LightGBM模型\n",
    "import lightgbm as lgb\n",
    "\n",
    "# 创建LightGBM训练集和测试集\n",
    "lgb_train = lgb.Dataset(train_X, train_y)\n",
    "lgb_eval = lgb.Dataset(test_X, test_y, reference = lgb_train)\n",
    "\n",
    "# 创建LightGBM模型并进行训练\n",
    "gbm = lgb.train(params = {}, train_set = lgb_train, valid_sets = lgb_eval)\n",
    "\n",
    "# 使用训练好的模型进行预测，并计算预测准确率\n",
    "pred_lgb = gbm.predict(test_X, num_iteration = gbm.best_iteration)\n",
    "accuracy_lgb = roc_auc_score(test_y, pred_lgb) \n",
    "print(\"LightGBM模型的预测结果：\", accuracy_lgb)"
   ]
  },
  {
   "cell_type": "markdown",
   "id": "ebbb065d-ff62-4ed5-b1f4-c2af2c9fb049",
   "metadata": {},
   "source": [
    "### 3.2.8 XGBoost算法"
   ]
  },
  {
   "cell_type": "code",
   "execution_count": 59,
   "id": "bed2a1ef-94a8-429d-93b5-a92da7c1e56f",
   "metadata": {
    "tags": []
   },
   "outputs": [
    {
     "name": "stdout",
     "output_type": "stream",
     "text": [
      "XGBoost模型的预测结果： 0.819078947368421\n"
     ]
    }
   ],
   "source": [
    "# 任务：使用XGBoost模型进行预测\n",
    "# 导入XGBClassifier模型\n",
    "from xgboost import XGBClassifier\n",
    "\n",
    "# 创建XGBClassifier模型并进行训练\n",
    "xgbc = XGBClassifier()\n",
    "xgbc.fit(train_X, train_y)\n",
    "\n",
    "# 使用训练好的模型进行预测，并计算预测准确率\n",
    "pred_xgbc = xgbc.predict(test_X)\n",
    "accuracy_xgbc = roc_auc_score(test_y, pred_xgbc) \n",
    "print(\"XGBoost模型的预测结果：\", accuracy_xgbc)"
   ]
  },
  {
   "cell_type": "markdown",
   "id": "905aa587-1c97-45f6-9ff5-5ed0899a5897",
   "metadata": {},
   "source": [
    "### 3.2.9 极端随机树"
   ]
  },
  {
   "cell_type": "code",
   "execution_count": 61,
   "id": "ec4875d8-7824-4e3f-b6b0-99c8b17dfde5",
   "metadata": {
    "tags": []
   },
   "outputs": [
    {
     "name": "stdout",
     "output_type": "stream",
     "text": [
      "极端随机树模型的预测结果： 0.8359962406015037\n"
     ]
    }
   ],
   "source": [
    "# 任务：使用极端随机树模型对数据进行训练，并输出预测结果的准确性\n",
    "\n",
    "from sklearn.ensemble import ExtraTreesClassifier\n",
    "\n",
    "# 使用极端随机树模型对训练集train_X和训练标签train_y进行训练\n",
    "etree = ExtraTreesClassifier()\n",
    "etree.fit(train_X, train_y)\n",
    "\n",
    "# 使用训练好的模型对测试集test_X进行预测，并计算预测准确性\n",
    "pred_etree = etree.predict(test_X)\n",
    "accuracy_etree = roc_auc_score(test_y, pred_etree)\n",
    "\n",
    "# 输出预测准确性结果\n",
    "print(\"极端随机树模型的预测结果：\", accuracy_etree)"
   ]
  },
  {
   "cell_type": "markdown",
   "id": "1664e77b-cbb9-4d63-b46e-127eacce03a0",
   "metadata": {},
   "source": [
    "### 3.2.10 AdaBoost算法"
   ]
  },
  {
   "cell_type": "code",
   "execution_count": 63,
   "id": "619aaad6-a07c-4ee2-90c4-698b5240580b",
   "metadata": {
    "tags": []
   },
   "outputs": [
    {
     "name": "stdout",
     "output_type": "stream",
     "text": [
      "AdaBoost模型的预测结果： 0.8703007518796991\n"
     ]
    }
   ],
   "source": [
    "# 任务：使用AdaBoost模型对数据进行训练，并输出预测结果的准确性\n",
    "# 使用AdaBoost模型对训练集train_X和训练标签train_y进行训练\n",
    "\n",
    "from sklearn.ensemble import AdaBoostClassifier\n",
    "\n",
    "abc = AdaBoostClassifier()\n",
    "abc.fit(train_X, train_y)\n",
    "\n",
    "# 使用训练好的模型对测试集test_X进行预测，并计算预测准确性\n",
    "pred_abc = abc.predict(test_X)\n",
    "accuracy_abc = roc_auc_score(test_y, pred_abc) \n",
    "\n",
    "# 输出预测准确性结果\n",
    "print(\"AdaBoost模型的预测结果：\", accuracy_abc)"
   ]
  },
  {
   "cell_type": "markdown",
   "id": "9ce1e21e-6f02-48c3-851a-1eddc341a3f5",
   "metadata": {
    "tags": []
   },
   "source": [
    "### 3.2.11 基于Bagging的K最近邻"
   ]
  },
  {
   "cell_type": "code",
   "execution_count": 64,
   "id": "a6bc96c5-53e8-4701-935e-aed59e85d642",
   "metadata": {
    "tags": []
   },
   "outputs": [
    {
     "name": "stdout",
     "output_type": "stream",
     "text": [
      "基于Bagging的K紧邻模型的预测结果： 0.7161654135338346\n"
     ]
    }
   ],
   "source": [
    "# 任务：使用基于Bagging的K紧邻模型对数据进行训练，并输出预测结果的准确性\n",
    "# 使用K紧邻模型作为基分类器，通过Bagging方式对训练集train_X和训练标签train_y进行训练\n",
    "\n",
    "from sklearn.ensemble import BaggingClassifier\n",
    "\n",
    "bag_knn = BaggingClassifier(KNeighborsClassifier())\n",
    "bag_knn.fit(train_X, train_y)\n",
    "\n",
    "# 使用训练好的模型对测试集test_X进行预测，并计算预测准确性\n",
    "pred_bag_knn = bag_knn.predict(test_X)\n",
    "accuracy_bag_knn = roc_auc_score(test_y, pred_bag_knn)\n",
    "\n",
    "# 输出预测准确性结果\n",
    "print(\"基于Bagging的K紧邻模型的预测结果：\", accuracy_bag_knn)"
   ]
  },
  {
   "cell_type": "markdown",
   "id": "942750a4-b410-4fd1-bccf-005b59555395",
   "metadata": {
    "tags": []
   },
   "source": [
    "### 3.2.12 基于Bagging的决策树"
   ]
  },
  {
   "cell_type": "code",
   "execution_count": 65,
   "id": "3e226f52-c5e6-4bd0-9097-c1f90c5fe41c",
   "metadata": {
    "tags": []
   },
   "outputs": [
    {
     "name": "stdout",
     "output_type": "stream",
     "text": [
      "基于Bagging的决策树模型的预测结果： 0.8336466165413533\n"
     ]
    }
   ],
   "source": [
    "# 任务：使用基于Bagging的决策树模型对数据进行训练，并输出预测结果的准确性\n",
    "# 使用决策树模型作为基分类器，通过Bagging方式对训练集train_X和训练标签train_y进行训练\n",
    "\n",
    "from sklearn.ensemble import BaggingClassifier\n",
    "\n",
    "bag_dt = BaggingClassifier(DecisionTreeClassifier())\n",
    "bag_dt.fit(train_X, train_y)\n",
    "\n",
    "# 使用训练好的模型对测试集test_X进行预测，并计算预测准确性\n",
    "pred_bag_dt = bag_dt.predict(test_X)\n",
    "accuracy_bag_dt = roc_auc_score(test_y, pred_bag_dt)\n",
    "\n",
    "# 输出预测准确性结果\n",
    "print(\"基于Bagging的决策树模型的预测结果：\", accuracy_bag_dt)"
   ]
  },
  {
   "cell_type": "markdown",
   "id": "8493c666-8ee6-4a99-affe-521e56cd807b",
   "metadata": {},
   "source": [
    "# 3.3 小结"
   ]
  },
  {
   "cell_type": "code",
   "execution_count": 66,
   "id": "9c72c3f3-9b2b-44e1-bc78-150d79b3dca8",
   "metadata": {
    "tags": []
   },
   "outputs": [
    {
     "data": {
      "image/png": "[encoded data removed]",
      "text/plain": [
       "<Figure size 1500x600 with 1 Axes>"
      ]
     },
     "metadata": {},
     "output_type": "display_data"
    }
   ],
   "source": [
    "import seaborn as sns\n",
    "import matplotlib.pyplot as plt\n",
    "\n",
    "sns.set(rc={'figure.figsize':(15,6)}) # 设置画布大小\n",
    "accuracys = [accuracy_lr, accuracy_rfc, accuracy_svm, accuracy_knn, accuracy_dtree, accuracy_gbdt, accuracy_lgb,accuracy_xgbc, accuracy_etree, accuracy_abc, accuracy_bag_knn, accuracy_bag_dt, ]\n",
    "models = ['Logistic', 'RF', 'SVM', 'KNN', 'Dtree', 'GBDT', 'LightGBM', 'XGBoost', 'Etree', 'Adaboost', 'Bagging-KNN', 'Bagging-Dtree']\n",
    "bar = sns.barplot(x=models, y=accuracys)\n",
    "\n",
    "# 显示数值标签\n",
    "for x, y in enumerate(accuracys):\n",
    "    plt.text(x, y, '%s'% round(y,3), ha='center')\n",
    "\n",
    "plt.xlabel(\"Model\")\n",
    "plt.ylabel(\"Accuracy\")\n",
    "plt.show()"
   ]
  },
  {
   "cell_type": "markdown",
   "id": "2f28a3dd-7e5d-45cc-9530-8bd3dda75ed4",
   "metadata": {},
   "source": [
    "根据上述条形图可以看出，在全部模型默认参数的情况下，逻辑回归的预测准确率最高，达到了0.911，其次是LightGBM模型，也在0.9以上，达到80%准确率以上的模型有RF、GBDT、XGBoost、ETree、Adaboost以及基于Bagging的决策树，其他模型的预测准确率则较低；"
   ]
  }
 ],
 "metadata": {
  "kernelspec": {
   "display_name": "Python 3 (ipykernel)",
   "language": "python",
   "name": "python3"
  },
  "language_info": {
   "codemirror_mode": {
    "name": "ipython",
    "version": 3
   },
   "file_extension": ".py",
   "mimetype": "text/x-python",
   "name": "python",
   "nbconvert_exporter": "python",
   "pygments_lexer": "ipython3",
   "version": "3.10.11"
  }
 },
 "nbformat": 4,
 "nbformat_minor": 5
}
