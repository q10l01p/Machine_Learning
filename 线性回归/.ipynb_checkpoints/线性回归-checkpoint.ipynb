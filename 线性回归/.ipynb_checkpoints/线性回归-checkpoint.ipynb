{
 "cells": [
  {
   "cell_type": "markdown",
   "id": "c26a198b-7d1e-4d3f-8c9d-5e2850bc6757",
   "metadata": {
    "tags": []
   },
   "source": [
    "# 线性回归\n",
    "利用**回归方程**(函数)对**一个或多个自变量(特征值)和因变量(目标值)之间**关系进行建模的一种分析方式。\n",
    "\n",
    "## 线性回归的分类\n",
    "\n",
    "- 线性关系\n",
    "\n",
    "    - 单变量线性关系\n",
    "\n",
    "    <img src=\".\\images\\线性关系图.png\" width=500 height=500 >\n",
    "\n",
    "\n",
    "    - 多变量线性关系\n",
    "    \n",
    "    <img src=\".\\images\\多变量线性关系.png\" width=500 height=500 >\n",
    "\n",
    "- 非线性关系\n",
    "<img src=\".\\images\\非线性关系.png\" width=500 height=500 >"
   ]
  },
  {
   "cell_type": "markdown",
   "id": "f1b5ff8b-ee93-44b9-ad91-dff69ada3f9b",
   "metadata": {},
   "source": [
    "## sklearn.linear_model.LinearRegression()\n",
    "\n",
    "```python\n",
    "sklearn.linear_model.LinearRegression(fit_intercept=True, normalize=False, copy_X=True, n_jobs=None)\n",
    "```\n",
    "\n",
    "`sklearn.linear_model.LinearRegression()`函数<font color=blue>实现线性回归算法。</font>\n",
    "\n",
    "- 参数说明：\n",
    "\n",
    "    - `fit_intercept` : 可选参数，表示是否拟合截距。默认为`True`。\n",
    "    - `normalize` : 可选参数，表示是否对回归向量进行归一化。默认为`False`。\n",
    "    - `copy_X` : 可选参数，表示是否将`X`复制。默认为`True`。\n",
    "    - `n_jobs` : 可选参数，表示并行运算的数量。默认为`None`，表示不并行计算。\n",
    "\n",
    "- 返回值：\n",
    "\n",
    "    返回`LinearRegression`对象。\n",
    "\n",
    "- 参考链接：\n",
    "\n",
    "    官方文档：[sklearn.linear_model.LinearRegression](https://scikit-learn.org/stable/modules/generated/sklearn.linear_model.LinearRegression.html)"
   ]
  },
  {
   "cell_type": "code",
   "execution_count": 1,
   "id": "1efb7e73-ba8f-4bc3-a7ec-62211f9dddfa",
   "metadata": {
    "tags": []
   },
   "outputs": [],
   "source": [
    "from sklearn.linear_model import LinearRegression"
   ]
  },
  {
   "cell_type": "markdown",
   "id": "16fb0bb2-0b9e-4593-8068-7f17b07e2bc6",
   "metadata": {},
   "source": [
    "## 案例\n",
    "### 构造数据集"
   ]
  },
  {
   "cell_type": "code",
   "execution_count": 2,
   "id": "07142b58-5a70-47d2-88f2-01bdd5080532",
   "metadata": {
    "tags": []
   },
   "outputs": [],
   "source": [
    "x = [[80, 86],\n",
    "    [82, 80],\n",
    "    [85, 78],\n",
    "    [90, 90],\n",
    "    [86, 82],\n",
    "    [82, 90],\n",
    "    [78, 80],\n",
    "    [92, 94]]\n",
    "\n",
    "y = [84.2, 80.6, 80.1, 90, 83.2, 87.6, 79.4, 93.4]"
   ]
  },
  {
   "cell_type": "markdown",
   "id": "0e8997e0-1c7a-4bf9-b669-c3e79dac73cd",
   "metadata": {},
   "source": [
    "## 机器学习"
   ]
  },
  {
   "cell_type": "code",
   "execution_count": 3,
   "id": "b98b1346-8060-4db2-80ab-e830815d44cf",
   "metadata": {
    "tags": []
   },
   "outputs": [
    {
     "data": {
      "text/plain": [
       "array([86.])"
      ]
     },
     "execution_count": 3,
     "metadata": {},
     "output_type": "execute_result"
    }
   ],
   "source": [
    "# 实例化API\n",
    "estimator = LinearRegression()\n",
    "# 使用fit方法进行训练\n",
    "estimator.fit(x,y)\n",
    "\n",
    "estimator.coef_\n",
    "\n",
    "estimator.predict([[100, 80]])"
   ]
  },
  {
   "cell_type": "markdown",
   "id": "d451f3c1-eafe-4823-b050-324329bcc291",
   "metadata": {},
   "source": [
    "# 数学:求导\n",
    "## 常见函数的导数\n",
    "以下是一些常见函数及其导数的示例：\n",
    "| 公式            | 例子                       |\n",
    "|---------------|---------------------------|\n",
    "| $f(x) = c$    | $f(x) = 5$                 |\n",
    "| 导数：$f'(x) = 0$  | 导数：$f'(x) = 0$          |\n",
    "|               |                           |\n",
    "| $f(x) = x^n$  | $f(x) = x^3$               |\n",
    "| 导数：$f'(x) = nx^{n-1}$ | 导数：$f'(x) = 3x^2$        |\n",
    "|               |                           |\n",
    "| $f(x) = e^x$  | $f(x) = e^x$               |\n",
    "| 导数：$f'(x) = e^x$      | 导数：$f'(x) = e^x$         |\n",
    "|               |                           |\n",
    "| $f(x) = \\ln(x)$ | $f(x) = \\ln(x)$            |\n",
    "| 导数：$f'(x) = \\frac{1}{x}$ | 导数：$f'(x) = \\frac{1}{x}$ |\n",
    "|               |                           |\n",
    "| $f(x) = \\sin(x)$ | $f(x) = \\sin(x)$           |\n",
    "| 导数：$f'(x) = \\cos(x)$ | 导数：$f'(x) = \\cos(x)$     |\n",
    "|               |                           |\n",
    "| $f(x) = \\cos(x)$ | $f(x) = \\cos(x)$           |\n",
    "| 导数：$f'(x) = -\\sin(x)$ | 导数：$f'(x) = -\\sin(x)$    |\n",
    "|               |                           |\n",
    "| $f(x) = \\tan(x)$ | $f(x) = \\tan(x)$           |\n",
    "| 导数：$f'(x) = \\sec^2(x)$ | 导数：$f'(x) = \\sec^2(x)$   |\n",
    "|               |                           |\n",
    "| $f(x) = \\arcsin(x)$ | $f(x) = \\arcsin(x)$       |\n",
    "| 导数：$f'(x) = \\frac{1}{\\sqrt{1-x^2}}$ | 导数：$f'(x) = \\frac{1}{\\sqrt{1-x^2}}$ |\n",
    "|               |                           |\n",
    "| $f(x) = \\arccos(x)$ | $f(x) = \\arccos(x)$       |\n",
    "| 导数：$f'(x) = -\\frac{1}{\\sqrt{1-x^2}}$ | 导数：$f'(x) = -\\frac{1}{\\sqrt{1-x^2}}$ |\n",
    "|               |                           |\n",
    "| $f(x) = \\arctan(x)$ | $f(x) = \\arctan(x)$       |\n",
    "| 导数：$f'(x) = \\frac{1}{1+x^2}$ | 导数：$f'(x) = \\frac{1}{1+x^2}$ |"
   ]
  },
  {
   "cell_type": "markdown",
   "id": "e9a341e7-2771-4459-8b1a-9a4e3be94cb4",
   "metadata": {
    "tags": []
   },
   "source": [
    "## 导数的四则运算\n",
    "| 公式 | 例子 |\n",
    "| --- | --- |\n",
    "| 常数乘法规则 | $\\frac{d}{dx}(c \\cdot f(x)) = c \\cdot \\frac{df(x)}{dx}$ |\n",
    "| 加法规则 | $\\frac{d}{dx}(f(x) + g(x)) = \\frac{df(x)}{dx} + \\frac{dg(x)}{dx}$ |\n",
    "| 减法规则 | $\\frac{d}{dx}(f(x) - g(x)) = \\frac{df(x)}{dx} - \\frac{dg(x)}{dx}$ |\n",
    "| 乘法规则 | $\\frac{d}{dx}(f(x) \\cdot g(x)) = f(x) \\cdot \\frac{dg(x)}{dx} + g(x) \\cdot \\frac{df(x)}{dx}$ |\n",
    "| 除法规则 | $\\frac{d}{dx}\\left(\\frac{f(x)}{g(x)}\\right) = \\frac{g(x) \\cdot \\frac{df(x)}{dx} - f(x) \\cdot \\frac{dg(x)}{dx}}{(g(x))^2}$ |\n",
    "| 幂函数规则 | $\\frac{d}{dx}(f(x)^n) = n \\cdot f(x)^{n-1} \\cdot \\frac{df(x)}{dx}$ |\n",
    "| 指数函数规则 | $\\frac{d}{dx}(e^{f(x)}) = e^{f(x)} \\cdot \\frac{df(x)}{dx}$ |\n",
    "| 对数函数规则 | $\\frac{d}{dx}(\\log_b(f(x))) = \\frac{1}{\\ln(b) \\cdot f(x)} \\cdot \\frac{df(x)}{dx}$ |\n",
    "| 正弦函数规则 | $\\frac{d}{dx}(\\sin(f(x))) = \\cos(f(x)) \\cdot \\frac{df(x)}{dx}$ |\n",
    "| 余弦函数规则 | $\\frac{d}{dx}(\\cos(f(x))) = -\\sin(f(x)) \\cdot \\frac{df(x)}{dx}$ |\n",
    "| 正切函数规则 | $\\frac{d}{dx}(\\tan(f(x))) = \\sec^2(f(x)) \\cdot \\frac{df(x)}{dx}$ |"
   ]
  },
  {
   "cell_type": "markdown",
   "id": "e2850351-b3bc-429d-aa4c-52654b0499f1",
   "metadata": {},
   "source": [
    "# 线性回归的损失和优化\n",
    "## 损失函数\n",
    "\n",
    "$$\\begin{aligned}J\\left(w\\right)=(\\text{h}(x_1)-y_1)^2+(\\text{h}(x_2)-y_2)^2+\\cdots+(\\text{h}(x_{m})-y_{m})^2 = \\sum_{i=1}^{m}(\\text{h}(x_{i})-y_{i})^2\\end{aligned}$$\n",
    "- $y_i$为第i个训练样本的真实值\n",
    "- $h(x_i)$为第i个训练样本特征值组合预测函数\n",
    "- 又称最小二乘法\n",
    "\n",
    "可以通过一些优化方法去优化（其实是数学当中的求导功能）回归的总损失。\n",
    "\n",
    "## 优化算法\n",
    "目的是找到最小损失对应的W值。\n",
    "### 正规方程\n",
    "$$w=(X^TX)^{-1}X^Ty$$\n",
    "- 理解：X为特征值矩阵，y为目标值矩阵。直接求到最好的结果\n",
    "- 缺点：当特征过多过复杂时，求解速度太慢并且得不到结果\n",
    "\n",
    "<img src=\".\\images\\正规方程求解图示.png\" width=500 height=500 >"
   ]
  },
  {
   "cell_type": "markdown",
   "id": "94c23423-6848-4c29-aab4-b424e894d04d",
   "metadata": {},
   "source": [
    "#### 正规方程求解举例\n",
    "<img src=\".\\images\\正规方程举例1.png\" width=500 height=500 >\n",
    "\n",
    "即\n",
    "\n",
    "<img src=\".\\images\\正规方程举例2.png\" width=500 height=500 >\n",
    "\n",
    "参数求解\n",
    "\n",
    "<img src=\".\\images\\正规方程求解方式.png\" width=1000 height=1000 >"
   ]
  },
  {
   "cell_type": "markdown",
   "id": "610ad66d-8fa7-4599-81aa-359b641a2c88",
   "metadata": {},
   "source": [
    "#### 正规方程的推导\n",
    "把该损失函数转换成矩阵写法：\n",
    "$$\\begin{aligned}\n",
    "J\\left(w\\right)& =(\\mathrm h(x_1)-y_1)^2+(\\mathrm h(x_2)-y_2)^2+\\cdots+(\\mathrm h(x_m)-y_m)^2  \\\\\n",
    "&=\\sum_{i=1}^{m}(\\mathrm{h}(x_{i})-y_{i})^{2} \\\\\n",
    "&=(Xw-y)^2\n",
    "\\end{aligned}$$\n",
    "\n",
    "其中y是真实值矩阵，X是特征值矩阵，w是权重矩阵\n",
    "\n",
    "把损失函数分开书写：\n",
    "$$(Xw-y)^2=(Xw-y)^T(Xw-y)$$\n",
    "\n",
    "对展开上式进行求导：\n",
    "\n",
    "$$\\begin{aligned}\n",
    "\\frac{\\partial}{\\partial w}[(X w-y)^{T}(X w-y)]\n",
    "&=\\frac{\\partial}{\\partial w}[(w^{T}X^{T}-y^{T})(Xw-y)]  \\\\\n",
    "&={\\frac{\\partial}{\\partial w}}(w^{T}X^{T}X w-w^{T}X^{T}y-y^{T}X w+y^{T}y) \\\\\n",
    "&=X^{T}X w+X^{T}X w-X^{T}y-X^{T}y\n",
    "\\end{aligned}$$\n",
    "\n",
    "需要求得求导函数的极小值，即上式求导结果为0，经过化解，得结果为：\n",
    "$$X^TXw=X^Ty$$\n",
    "\n",
    "经过化解为：\n",
    "$$w=(X^TX)^{-1}X^Ty$$\n",
    "\n",
    "    补充：需要用到的矩阵求导公式：\n",
    "$$\\begin{aligned}\n",
    "&\\frac{dx^TA}{dx}=A\n",
    "& \\\\\n",
    "&\\frac{dAx}{dx}=A^T\n",
    "& \\\\\n",
    "&\\frac{dx^TAx}{dx}=A^T\n",
    "\\end{aligned}$$"
   ]
  },
  {
   "cell_type": "markdown",
   "id": "72338e55-f805-4417-bc58-5a7873be10d9",
   "metadata": {
    "tags": []
   },
   "source": [
    "### 梯度下降\n",
    "- 在单变量的函数中，梯度其实就是函数的微分，代表着函数在某个给定点的切线的斜率；\n",
    "- 在多变量函数中，梯度是一个向量，向量有方向，梯度的方向就指出了函数在给定点的上升最快的方向；\n",
    "    - 在微积分里面，对多元函数的参数求∂偏导数，把求得的各个参数的偏导数以向量的形式写出来，就是梯度。"
   ]
  },
  {
   "cell_type": "markdown",
   "id": "4356b9cd-c4b3-4397-a5c4-bc5df2f29408",
   "metadata": {},
   "source": [
    "#### 梯度下降举例\n",
    "##### 单变量梯度下降举例\n",
    "我们假设有一个单变量的函数:  $\\mathcal{J}(\\theta)=\\theta^2$\n",
    "\n",
    "函数的微分:  $\\mathcal{J}'(\\theta)=2\\theta$\n",
    "\n",
    "初始化，起点为：$\\theta(0)=1$\n",
    "\n",
    "学习率：$\\alpha=0.4$\n",
    "\n",
    "梯度下降的迭代计算过程:\n",
    "\n",
    "$\\begin{aligned}\n",
    "\\theta^0 &=1  \\\\\n",
    "\\theta^1 &=\\theta^0-\\alpha*J'(\\theta^0)  \\\\\n",
    "&=1-0.4*2 \\\\\n",
    "&=0.2 \\\\\n",
    "\\theta^2 &=\\theta^1-\\alpha*J'(\\theta^1)  \\\\\n",
    "&=0.04 \\\\\n",
    "\\theta^3 &=0.008  \\\\\n",
    "\\theta^4 &=0.0016 \n",
    "\\end{aligned}$\n",
    "\n",
    "经过四次的运算，也就是走了四步，基本就抵达了函数的最低点，也就是山底:\n",
    "\n",
    "<img src=\".\\images\\梯度下降法3.png\" width=500 height=500 >"
   ]
  },
  {
   "cell_type": "markdown",
   "id": "58e5259f-1d4b-415d-a344-6bd4e23ad1fe",
   "metadata": {},
   "source": [
    "##### 多变量梯度下降举例\n",
    "我们假设有一个目标函数:  $J(\\theta)={\\theta_{1}}^{2}+{\\theta_{2}}^{2}$\n",
    "\n",
    "现在要通过梯度下降法计算这个函数的最小值。我们通过观察就能发现最小值其实就是 (0，0)点。但是接下来，我们会从梯度下降算法开始一步步计算到这个最小值! \n",
    "\n",
    "我们假设初始的起点为: $\\theta^{0} = (1, 3)$\n",
    "\n",
    "学习率：$\\alpha=0.1$\n",
    "\n",
    "函数的梯度为:$J'(\\theta)=(2\\theta_{1},2\\theta_{2})$\n",
    "\n",
    "进行多次迭代:\n",
    "\n",
    "$\\begin{aligned}\n",
    "\\Theta^{0}& =(1,3)  \\\\\n",
    "\\Theta^1& =\\Theta^0-\\alpha\\nabla J(\\Theta)  \\\\\n",
    "&=(1,3)-0.1(2,6) \\\\\n",
    "&=(0.8,2.4) \\\\\n",
    "\\Theta^{2}& =(0.8,2.4)-0.1(1.6,4.8)  \\\\\n",
    "&=(0.64,1.92) \\\\\n",
    "\\Theta^{3}& =(0.512,1.536)  \\\\\n",
    "\\Theta^{4}& =(0.4096,1.228800000000000001)  \\\\\n",
    " \\\\\n",
    "\\Theta^{10}& =(0.10737418240000003,0.3221225472000005)  \\\\\n",
    " \\\\\n",
    "\\Theta^{50}& =(1.1417981541647683\\mathrm{e}^{-05},3.425394462494306\\mathrm{e}^{-95})  \\\\\n",
    " \\\\\n",
    "\\Theta^{100}& =(1.6296287810675902\\mathrm{e}^{-10},4.888886332020277\\mathrm{e}^{-10}) \n",
    "\\end{aligned}$\n",
    "\n",
    "我们发现，已经基本靠近函数的最小值点\n",
    "\n",
    "<img src=\".\\images\\梯度下降法5.png\" width=800 height=800 >"
   ]
  },
  {
   "cell_type": "markdown",
   "id": "bb46dd08-dca4-4ea5-ade6-0d219aba5eb2",
   "metadata": {
    "tags": []
   },
   "source": [
    "##### 梯度下降公式\n",
    "\n",
    "$$\\theta_{i+1}=\\theta_i-\\alpha\\frac{\\partial}{\\partial\\theta_i}J(\\theta)$$\n",
    "\n",
    "- α -- 就是步长\n",
    "    - 步长太小 -- 下山太慢\n",
    "    - 步长太大 -- 容易跳过极小值点\n",
    "- 为什么梯度要加一个负号\n",
    "    - 梯度方向是上升最快方向,负号就是下降最快方向\n",
    "\n",
    "<img src=\".\\images\\线性回归优化动态图-0716617.gif\" width=1000 height=1000 >"
   ]
  },
  {
   "cell_type": "markdown",
   "id": "f5747d79-e21a-46f8-96e5-b24d8cb816a6",
   "metadata": {},
   "source": [
    "#### 两种方法对比\n",
    "|梯度下降|正规方程|\n",
    "|---------------|---------------------------|\n",
    "|需要选择学习率|不需要|\n",
    "|需要迭代求解|一次运算得出|\n",
    "|特征数量较大可以使用|需要计算方程，时间复杂度高O(n3)|\n",
    "\n",
    "#### 算法选择依据\n",
    "- 小规模数据：\n",
    "    - 正规方程：LinearRegression(不能解决拟合问题)\n",
    "    - 岭回归\n",
    "- 大规模数据：\n",
    "    - 梯度下降法：SGDRegressor"
   ]
  },
  {
   "cell_type": "markdown",
   "id": "8ed7cd88-179e-4a37-98ed-3100b126cce3",
   "metadata": {},
   "source": [
    "# 梯度下降方法介绍\n",
    "## 梯度下降的相关概念\n",
    "- 步长(Learning rate)：\n",
    "    - 步长决定了在梯度下降迭代的过程中，每一步沿梯度负方向前进的长度。\n",
    "- 特征(feature)：\n",
    "    - 指的是样本中输入部分，比如2个单特征的样本\n",
    "        - $(x^{(0)},y^{(0)}),(x^{(1)},y^{(1)})$\n",
    "    - 则第一个样本特征为$x^{(0)}$，第一个样本输出为$y^{(0)}$。\n",
    "- 假设函数(hypothesis function)：\n",
    "    - 在监督学习中，为了拟合输入样本，而使用的假设函数，记为$h_\\theta(x)$\n",
    "        - 比如对于单个特征的m个样本$(x^{(i)},y^{(i)})(i=1,2,...m)$,可以采用拟合函数如下：$h_\\theta(x)=\\theta_0+\\theta_1x$\n",
    "- 损失函数(loss function)：\n",
    "    - 为了评估模型拟合的好坏，通常用损失函数来度量拟合的程度。损失函数极小化，意味着拟合程度最好，对应的模型参数即为最优参数。\n",
    "    - 在线性回归中，损失函数通常为样本输出和假设函数的差取平方。比如对于m个样本$(x_i,y_i)(i=1,2,...m)$采用线性回归，\n",
    "    \n",
    "        损失函数为：$J(\\theta_0,\\theta_1)=\\sum\\limits_{i=1}^m(h_\\theta(x_i)-y_i)^2$\n",
    "        \n",
    "        其中$x_i$表示第i个样本特征，$y_i$表示第i个样本对应的输出，$h_θ(x_i)$为假设函数。\n",
    "        \n",
    "## 梯度下降的推导流程\n",
    "1) 先决条件： 确认优化模型的假设函数和损失函数。\n",
    "\n",
    "    比如对于线性回归，假设函数表示为$h_\\theta(x_1,x_2,...,x_n)=\\theta_0+\\theta_1x_1+...+\\theta_nx_n$,\n",
    "    \n",
    "    其中$\\theta_i(i=0,1,2...n)$为模型参数，$x_i(i=0,1,2...n)$为每个样本的n个特征值。\n",
    "    \n",
    "    这个表示可以简化，我们增加一个特征$x_0=1$ ，这样$h_{\\theta}(x_0,x_1,\\dots x_n)=\\sum_{i=0}^{n}\\theta_i x_i$。\n",
    "\n",
    "    同样是线性回归，对应于上面的假设函数，损失函数为：\n",
    "    \n",
    "    $J(\\theta_{0},\\theta_{1}\\ldots,\\theta_{n})=\\frac{1}{2m}\\sum_{j=0}^{m}(h_{\\theta}(x_{0}^{(j)},x_{1}^{(j)},\\ldots x_{n}^{(j)})-y_{j})^{2}$\n",
    "    \n",
    "2) 算法相关参数初始化\n",
    "\n",
    "    主要是初始化$\\theta_0,\\theta_1\\ldots,\\theta_n$,算法终止距离$ε$以及步长$α$。在没有任何先验知识的时候，我喜欢将所有的θ 初始化为0， 将步长初始化为1。在调优的时候再优化。\n",
    "3) 算法过程：\n",
    "\n",
    "    3.1 确定当前位置的损失函数的梯度，对于$\\theta_i$,其梯度表达式如下：\n",
    "    $$\\frac{\\partial}{\\partial\\theta_i}J(\\theta_0,\\theta_1\\ldots,\\theta_n)$$\n",
    "    \n",
    "    3.2 用步长乘以损失函数的梯度，得到当前位置下降的距离，即:\n",
    "    $$\\alpha\\frac{\\partial}{\\partial\\theta_{i}}J\\left(\\theta_{0},\\theta_{1},\\ldots,\\theta_{n}\\right)$$\n",
    "    \n",
    "    3.3 确定是否所有的$\\theta_i$，梯度下降的距离都小于ε，如果小于ε则算法终止，当前所有的$\\theta(i = 0, 1, ...n)$即为最终结果。否则进⼊步骤4.\n",
    "4) 更新所有的$\\theta$，对于$\\theta_i$，其更新表达式如下。更新完毕后继续转入步骤1.\n",
    "$$\\theta_{i}=\\theta_{i}-\\alpha\\frac{1}{m}\\sum_{j=0}^{m}(h_{\\theta}(x_{0}^{(j)},x_{1}^{(j)},\\ldots x_{n}^{j})-y_{j})x_{i}^{(j)}$$"
   ]
  },
  {
   "cell_type": "markdown",
   "id": "d3842005-85de-40ab-913c-4e02248d7220",
   "metadata": {},
   "source": [
    "### 线性回归的例子来具体描述梯度下降\n",
    "1. 先决条件： 确认优化模型的假设函数和损失函数。\n",
    "    - 假设函数：$$(x_1^{(0)},x_2^{(0)},...x_n^{(0)},y_0),(x_1^{(1)},x_2^{(1)},...x_n^{(1)},y_1),...(x_1^{(m)},x_2^{(m)},...x_n^{(m)},y_m)$$\n",
    "    - 损失函数：$$J(\\theta_{0},\\theta_{1}\\ldots,\\theta_{n})=\\frac{1}{2m}\\sum_{j=0}^{m}(h_{\\theta}(x_{0}^{(j)},x_{1}^{(j)},\\ldots x_{n}^{(j)})-y_{j})^{2}$$\n",
    "2. 算法相关参数初始化\n",
    "\n",
    "    将所有的θ 初始化为0， 将步长初始化为1。\n",
    "3) 算法过程：\n",
    "\n",
    "    3.1 确定当前位置的损失函数的梯度，对于$\\theta_i$,偏导数表达式如下：\n",
    "    $$\\frac{\\partial}{\\partial\\theta_{i}}J(\\theta_{0},\\theta_{1},\\ldots,\\theta_{n})=\\frac{1}{m}\\sum_{j=0}^{m}(h_{\\theta}(x_{0}^{(j)},x_{1}^{(j)},\\ldots x_{n}^{(j)})-y_{j})x_{i}^{(j)}$$\n",
    "    由于样本中没有x 上式中令所有的$x^{j}_{0}$为1.\n",
    "    \n",
    "    3.2 用步长乘以损失函数的梯度，得到当前位置下降的距离，即:\n",
    "    $$\\alpha\\frac{\\partial}{\\partial\\theta_{i}}J(\\theta_{0},\\theta_{1},\\ldots,\\theta_{n})=\\frac{\\alpha}{m}\\sum_{j=0}^{m}(h_{\\theta}(x_{0}^{(j)},x_{1}^{(j)},\\ldots x_{n}^{(j)})-y_{j})x_{i}^{(j)}$$\n",
    "    \n",
    "    3.3 确定是否所有的$\\theta_i$，梯度下降的距离都小于ε，如果小于ε则算法终止，当前所有的$\\theta(i = 0, 1, ...n)$即为最终结果。否则进⼊步骤4.\n",
    "    \n",
    "4) 更新所有的$\\theta$，对于$\\theta_i$，其更新表达式如下。更新完毕后继续转入步骤1.\n",
    "$$\\theta_{i}=\\theta_{i}-\\alpha\\frac{1}{m}\\sum_{j=0}^{m}(h_{\\theta}(x_{0}^{(j)},x_{1}^{(j)},\\ldots x_{n}^{j})-y_{j})x_{i}^{(j)}$$"
   ]
  },
  {
   "cell_type": "markdown",
   "id": "e99e93ac-7390-49d0-9533-f1773d4d8f82",
   "metadata": {},
   "source": [
    "## 梯度下降法大家族\n",
    "### 全梯度下降算法(Full gradient descent; FG)\n",
    "具体做法也就是在更新参数时使用所有的样本来进行更新。计算训练集所有样本误差，对其求和再取平均值作为目标函数(**在进行计算的时候,计算所有样本的误差平均值,作为我的目标函数**)。\n",
    "$$\\theta_{i}=\\theta_{i}-\\alpha\\sum_{j=1}^{m}(h_{\\theta}(x_{0}^{(j)},x_{1}^{(j)},\\dots x_{n}^{(j)})-y_{j})x_{i}^{(j)}$$\n",
    "- 由于我们有m个样本，这⾥求梯度的时候就⽤了所有m个样本的梯度数据。\n",
    "\n",
    "- 注意：\n",
    "    - 因为在执行每次更新时，我们需要在整个数据集上计算所有的梯度，所以批梯度下降法的速度会很慢，同时，批梯度下降法无法处理超出内存容量限制的数据集。\n",
    "    - **批梯度下降法同样也不能在线更新模型，即在运行的过程中，不能增加新的样本**。\n",
    "\n",
    "### 随机梯度下降算法(Stochastic gradient descent; SG)\n",
    "每次只代入计算一个样本目标函数的梯度来更新权重，再取下一个样本重复此过程，直到损失函数值停止下降或损失函数值小于某个可以容忍的阈值(**每次只选择一个样本进行考核**)。\n",
    "$$\\theta_i=\\theta_i-\\alpha(h_\\theta(x_0^{(j)},x_1^{(j)},\\dots x_n^{(j)})-y_j)x_i^{(j)}$$\n",
    "- 每次只使用一个样本迭代，若遇上噪声则容易陷入局部最优解。\n",
    "\n",
    "### 小批量梯度下降算法(Mini-batch gradient descent; mini-batch)\n",
    "小批量梯度下降(mini-batch)算法是FG和SG的折中方案,在一定程度上兼顾了以上两种方法的优点。每次从训练样本集上随机抽取一个小样本集，在抽出来的小样本集上采用FG迭代更新权重。(**选择一部分样本进行考核**)。\n",
    "\n",
    "被抽出的小样本集所含样本点的个数称为batch_size，通常设置为2的幂次方，更有利于GPU加速处理。\n",
    "\n",
    "$$\\theta_i=\\theta_i-\\alpha\\sum\\limits_{j=t}^{l+x-1}(h_\\theta(x_0^{(j)},x_1^{(j)},\\dots x_n^{(j)})-y_j)x_i^{(j)}$$\n",
    "- 若batch_size=1，则变成了SG\n",
    "- 若batch_size=n，则变成了FG\n",
    "\n",
    "\n",
    "### 随机平均梯度下降算法(Stochastic average gradient descent; SAG)\n",
    "在SG方法中，虽然避开了运算成本大的问题，但对于大数据训练而言，SG效果常不尽如人意，因为每一轮梯度更新都完全与上一轮的数据和梯度无关。\n",
    "\n",
    "随机平均梯度算法克服了这个问题，在内存中为每一个样本都维护一个旧的梯度，随机选择第i个样本来更新此样本的梯度，其他样本的梯度保持不变，然后求得所有梯度的平均值，进而更新了参数。(**会给每个样本都维持一个平均值,后期计算的时候,参考这个平均值**)\n",
    "$$\\theta_i=\\theta_i-\\frac{\\alpha}{n}(h_\\theta(x_0^{(j)},x_1^{(j)},\\dots x_n^{(j)})-y_j)x_i^{(j)}$$\n",
    "- 我们知道sgd是当前权重减去步长乘以梯度，得到新的权重。sag中的a，就是平均的意思，具体说，就是在第k步迭代的时候，我考虑的这一步和前面n-1个梯度的平均值，当前权重减去步长乘以最近n个梯度的平均值。\n",
    "- n是自己设置的，当n=1的时候，就是普通的sgd。\n",
    "- 这个想法非常的简单，在随机中又增加了确定性，类似于mini-batch sgd的作用，但不同的是，sag又没有去计算更多的样本，只是利用了之前计算出来的梯度，所以每次迭代的计算成本远小于mini-batch sgd，和sgd相当。效果而言，sag相对于sgd，收敛速度快了很多。这一点下面的论文中有具体的描述和证明。\n",
    "- SAG论文链接：https://arxiv.org/pdf/1309.2388.pdf"
   ]
  },
  {
   "cell_type": "markdown",
   "id": "abf33091-c95d-454b-aaf3-afa35391adda",
   "metadata": {},
   "source": [
    "# API\n",
    "## sklearn.linear_model.LinearRegression()\n",
    "\n",
    "```python\n",
    "sklearn.linear_model.LinearRegression(fit_intercept=True, normalize=False, copy_X=True, n_jobs=None)\n",
    "```\n",
    "\n",
    "`sklearn.linear_model.LinearRegression()`函数<font color=blue>实现线性回归算法。</font>\n",
    "\n",
    "- 参数说明：\n",
    "\n",
    "    - `fit_intercept` : 可选参数，表示是否拟合截距。默认为`True`。\n",
    "    - `normalize` : 可选参数，表示是否对回归向量进行归一化。默认为`False`。\n",
    "    - `copy_X` : 可选参数，表示是否将`X`复制。默认为`True`。\n",
    "    - `n_jobs` : 可选参数，表示并行运算的数量。默认为`None`，表示不并行计算。\n",
    "- 属性\n",
    "    - `LinearRegression.coef_`：回归系数\n",
    "    - `LinearRegression.intercept_`：偏置\n",
    "- 返回值：\n",
    "\n",
    "    返回`LinearRegression`对象。\n",
    "\n",
    "- 参考链接：\n",
    "\n",
    "    官方文档：[sklearn.linear_model.LinearRegression](https://scikit-learn.org/stable/modules/generated/sklearn.linear_model.LinearRegression.html)"
   ]
  },
  {
   "cell_type": "markdown",
   "id": "03e7fa3c-b9a9-4f18-90d6-b402afeaece8",
   "metadata": {},
   "source": [
    "## sklearn.linear_model.SGDRegressor()\n",
    "\n",
    "```python\n",
    "sklearn.linear_model.SGDRegressor(loss='squared_loss', penalty='l2', alpha=0.0001, l1_ratio=0.15, fit_intercept=True, max_iter=1000, tol=1e-3, epsilon=0.1, learning_rate='invscaling', eta0=0.01, power_t=0.25, early_stopping=False, validation_fraction=0.1, n_iter_no_change=5, warm_start=False, average=False)\n",
    "```\n",
    "\n",
    "`sklearn.linear_model.SGDRegressor()`函数<font color=blue>实现使用随机梯度下降算法训练的线性回归模型。</font>\n",
    "\n",
    "- 参数说明：\n",
    "\n",
    "    - `loss` : 可选参数，表示使用的损失函数。默认为`squared_loss`，即平方损失函数。\n",
    "    - `penalty` : 可选参数，表示正则化项。默认为`l2`。\n",
    "    - `alpha` : 可选参数，表示正则化项的系数。默认为`0.0001`。\n",
    "    - `l1_ratio` : 可选参数，表示`L1`正则化项在正则化项中的比例。如果`penalty`不是`elasticnet`，则此参数无效。默认为`0.15`。\n",
    "    - `fit_intercept` : 可选参数，表示是否拟合截距。默认为`True`。\n",
    "    - `max_iter` : 可选参数，表示最大迭代次数。默认为`1000`。\n",
    "    - `tol` : 可选参数，表示算法的收敛容差。默认为`1e-3`。\n",
    "    - `epsilon` : 可选参数，表示`epsilon-insensitive`损失函数中的`epsilon`参数。默认为`0.1`。\n",
    "    - `learning_rate` : 可选参数，表示学习率的类型。默认为`invscaling`，即逆比例衰减。\n",
    "    - `eta0` : 可选参数，表示学习率的初始值。默认为`0.01`。\n",
    "    - `power_t` : 可选参数，表示学习率的指数。默认为`0.25`。\n",
    "    - `early_stopping` : 可选参数，表示是否启用早期停止。默认为`False`。\n",
    "    - `validation_fraction` : 可选参数，表示用于早期停止的验证集的比例。默认为`0.1`。\n",
    "    - `n_iter_no_change` : 可选参数，表示在早期停止期间迭代次数不变的最大次数。默认为`5`。\n",
    "    - `warm_start` : 可选参数，表示是否使用上一次训练的解作为初始值。默认为`False`。\n",
    "    - `average` : 可选参数，表示是否使用平均化的权重。默认为`False`。\n",
    "\n",
    "- 属性：\n",
    "    - `SGDRegressor.coef_`：回归系数\n",
    "    - `SGDRegressor.intercept_`：偏置\n",
    "- 返回值：\n",
    "\n",
    "    返回`SGDRegressor`对象。\n",
    "\n",
    "- 参考链接：\n",
    "\n",
    "    官方文档：[sklearn.linear_model.SGDRegressor](https://scikit-learn.org/stable/modules/generated/sklearn.linear_model.SGDRegressor.html)"
   ]
  },
  {
   "cell_type": "markdown",
   "id": "abbf07b0-2d73-4e36-9e9b-5bc08d994d60",
   "metadata": {},
   "source": [
    "## sklearn.metrics.mean_squared_error()\n",
    "\n",
    "```python\n",
    "sklearn.metrics.mean_squared_error(y_true, y_pred)\n",
    "```\n",
    "\n",
    "`sklearn.metrics.mean_squared_error()`函数<font color=blue>计算均方误差（MSE）。</font>\n",
    "\n",
    "- 参数说明：\n",
    "\n",
    "    - `y_true` : 真实值。\n",
    "    - `y_pred` : 预测值。\n",
    "\n",
    "- 返回值：\n",
    "\n",
    "    返回均方误差（MSE）。\n",
    "\n",
    "- 参考链接：\n",
    "\n",
    "    官方文档：[sklearn.metrics.mean_squared_error](https://scikit-learn.org/stable/modules/generated/sklearn.metrics.mean_squared_error.html)"
   ]
  },
  {
   "cell_type": "markdown",
   "id": "1ce6daee-d70d-4cab-903d-db4714d7418f",
   "metadata": {},
   "source": [
    "# 案例1：房价预测"
   ]
  },
  {
   "cell_type": "markdown",
   "id": "99299a46-d376-4170-89c4-31381cd48372",
   "metadata": {},
   "source": [
    "## 正规方程实现\n",
    "### 1.获取数据"
   ]
  },
  {
   "cell_type": "code",
   "execution_count": 4,
   "id": "b2dab609-cf9a-40c2-a6f7-c1954f9939a0",
   "metadata": {
    "tags": []
   },
   "outputs": [
    {
     "data": {
      "text/plain": [
       "{'data': array([[   8.3252    ,   41.        ,    6.98412698, ...,    2.55555556,\n",
       "           37.88      , -122.23      ],\n",
       "        [   8.3014    ,   21.        ,    6.23813708, ...,    2.10984183,\n",
       "           37.86      , -122.22      ],\n",
       "        [   7.2574    ,   52.        ,    8.28813559, ...,    2.80225989,\n",
       "           37.85      , -122.24      ],\n",
       "        ...,\n",
       "        [   1.7       ,   17.        ,    5.20554273, ...,    2.3256351 ,\n",
       "           39.43      , -121.22      ],\n",
       "        [   1.8672    ,   18.        ,    5.32951289, ...,    2.12320917,\n",
       "           39.43      , -121.32      ],\n",
       "        [   2.3886    ,   16.        ,    5.25471698, ...,    2.61698113,\n",
       "           39.37      , -121.24      ]]),\n",
       " 'target': array([4.526, 3.585, 3.521, ..., 0.923, 0.847, 0.894]),\n",
       " 'frame': None,\n",
       " 'target_names': ['MedHouseVal'],\n",
       " 'feature_names': ['MedInc',\n",
       "  'HouseAge',\n",
       "  'AveRooms',\n",
       "  'AveBedrms',\n",
       "  'Population',\n",
       "  'AveOccup',\n",
       "  'Latitude',\n",
       "  'Longitude'],\n",
       " 'DESCR': '.. _california_housing_dataset:\\n\\nCalifornia Housing dataset\\n--------------------------\\n\\n**Data Set Characteristics:**\\n\\n    :Number of Instances: 20640\\n\\n    :Number of Attributes: 8 numeric, predictive attributes and the target\\n\\n    :Attribute Information:\\n        - MedInc        median income in block group\\n        - HouseAge      median house age in block group\\n        - AveRooms      average number of rooms per household\\n        - AveBedrms     average number of bedrooms per household\\n        - Population    block group population\\n        - AveOccup      average number of household members\\n        - Latitude      block group latitude\\n        - Longitude     block group longitude\\n\\n    :Missing Attribute Values: None\\n\\nThis dataset was obtained from the StatLib repository.\\nhttps://www.dcc.fc.up.pt/~ltorgo/Regression/cal_housing.html\\n\\nThe target variable is the median house value for California districts,\\nexpressed in hundreds of thousands of dollars ($100,000).\\n\\nThis dataset was derived from the 1990 U.S. census, using one row per census\\nblock group. A block group is the smallest geographical unit for which the U.S.\\nCensus Bureau publishes sample data (a block group typically has a population\\nof 600 to 3,000 people).\\n\\nA household is a group of people residing within a home. Since the average\\nnumber of rooms and bedrooms in this dataset are provided per household, these\\ncolumns may take surprisingly large values for block groups with few households\\nand many empty houses, such as vacation resorts.\\n\\nIt can be downloaded/loaded using the\\n:func:`sklearn.datasets.fetch_california_housing` function.\\n\\n.. topic:: References\\n\\n    - Pace, R. Kelley and Ronald Barry, Sparse Spatial Autoregressions,\\n      Statistics and Probability Letters, 33 (1997) 291-297\\n'}"
      ]
     },
     "execution_count": 4,
     "metadata": {},
     "output_type": "execute_result"
    }
   ],
   "source": [
    "from sklearn.datasets import fetch_california_housing\n",
    "housing = fetch_california_housing()\n",
    "housing"
   ]
  },
  {
   "cell_type": "code",
   "execution_count": 5,
   "id": "caa2be6c-fc2e-4a9f-a040-9f07ddd6a86a",
   "metadata": {
    "tags": []
   },
   "outputs": [
    {
     "data": {
      "text/html": [
       "<div>\n",
       "<style scoped>\n",
       "    .dataframe tbody tr th:only-of-type {\n",
       "        vertical-align: middle;\n",
       "    }\n",
       "\n",
       "    .dataframe tbody tr th {\n",
       "        vertical-align: top;\n",
       "    }\n",
       "\n",
       "    .dataframe thead th {\n",
       "        text-align: right;\n",
       "    }\n",
       "</style>\n",
       "<table border=\"1\" class=\"dataframe\">\n",
       "  <thead>\n",
       "    <tr style=\"text-align: right;\">\n",
       "      <th></th>\n",
       "      <th>MedInc</th>\n",
       "      <th>HouseAge</th>\n",
       "      <th>AveRooms</th>\n",
       "      <th>AveBedrms</th>\n",
       "      <th>Population</th>\n",
       "      <th>AveOccup</th>\n",
       "      <th>Latitude</th>\n",
       "      <th>Longitude</th>\n",
       "      <th>MedHouseVal</th>\n",
       "    </tr>\n",
       "  </thead>\n",
       "  <tbody>\n",
       "    <tr>\n",
       "      <th>0</th>\n",
       "      <td>8.3252</td>\n",
       "      <td>41.0</td>\n",
       "      <td>6.984127</td>\n",
       "      <td>1.023810</td>\n",
       "      <td>322.0</td>\n",
       "      <td>2.555556</td>\n",
       "      <td>37.88</td>\n",
       "      <td>-122.23</td>\n",
       "      <td>4.526</td>\n",
       "    </tr>\n",
       "    <tr>\n",
       "      <th>1</th>\n",
       "      <td>8.3014</td>\n",
       "      <td>21.0</td>\n",
       "      <td>6.238137</td>\n",
       "      <td>0.971880</td>\n",
       "      <td>2401.0</td>\n",
       "      <td>2.109842</td>\n",
       "      <td>37.86</td>\n",
       "      <td>-122.22</td>\n",
       "      <td>3.585</td>\n",
       "    </tr>\n",
       "    <tr>\n",
       "      <th>2</th>\n",
       "      <td>7.2574</td>\n",
       "      <td>52.0</td>\n",
       "      <td>8.288136</td>\n",
       "      <td>1.073446</td>\n",
       "      <td>496.0</td>\n",
       "      <td>2.802260</td>\n",
       "      <td>37.85</td>\n",
       "      <td>-122.24</td>\n",
       "      <td>3.521</td>\n",
       "    </tr>\n",
       "    <tr>\n",
       "      <th>3</th>\n",
       "      <td>5.6431</td>\n",
       "      <td>52.0</td>\n",
       "      <td>5.817352</td>\n",
       "      <td>1.073059</td>\n",
       "      <td>558.0</td>\n",
       "      <td>2.547945</td>\n",
       "      <td>37.85</td>\n",
       "      <td>-122.25</td>\n",
       "      <td>3.413</td>\n",
       "    </tr>\n",
       "    <tr>\n",
       "      <th>4</th>\n",
       "      <td>3.8462</td>\n",
       "      <td>52.0</td>\n",
       "      <td>6.281853</td>\n",
       "      <td>1.081081</td>\n",
       "      <td>565.0</td>\n",
       "      <td>2.181467</td>\n",
       "      <td>37.85</td>\n",
       "      <td>-122.25</td>\n",
       "      <td>3.422</td>\n",
       "    </tr>\n",
       "    <tr>\n",
       "      <th>...</th>\n",
       "      <td>...</td>\n",
       "      <td>...</td>\n",
       "      <td>...</td>\n",
       "      <td>...</td>\n",
       "      <td>...</td>\n",
       "      <td>...</td>\n",
       "      <td>...</td>\n",
       "      <td>...</td>\n",
       "      <td>...</td>\n",
       "    </tr>\n",
       "    <tr>\n",
       "      <th>20635</th>\n",
       "      <td>1.5603</td>\n",
       "      <td>25.0</td>\n",
       "      <td>5.045455</td>\n",
       "      <td>1.133333</td>\n",
       "      <td>845.0</td>\n",
       "      <td>2.560606</td>\n",
       "      <td>39.48</td>\n",
       "      <td>-121.09</td>\n",
       "      <td>0.781</td>\n",
       "    </tr>\n",
       "    <tr>\n",
       "      <th>20636</th>\n",
       "      <td>2.5568</td>\n",
       "      <td>18.0</td>\n",
       "      <td>6.114035</td>\n",
       "      <td>1.315789</td>\n",
       "      <td>356.0</td>\n",
       "      <td>3.122807</td>\n",
       "      <td>39.49</td>\n",
       "      <td>-121.21</td>\n",
       "      <td>0.771</td>\n",
       "    </tr>\n",
       "    <tr>\n",
       "      <th>20637</th>\n",
       "      <td>1.7000</td>\n",
       "      <td>17.0</td>\n",
       "      <td>5.205543</td>\n",
       "      <td>1.120092</td>\n",
       "      <td>1007.0</td>\n",
       "      <td>2.325635</td>\n",
       "      <td>39.43</td>\n",
       "      <td>-121.22</td>\n",
       "      <td>0.923</td>\n",
       "    </tr>\n",
       "    <tr>\n",
       "      <th>20638</th>\n",
       "      <td>1.8672</td>\n",
       "      <td>18.0</td>\n",
       "      <td>5.329513</td>\n",
       "      <td>1.171920</td>\n",
       "      <td>741.0</td>\n",
       "      <td>2.123209</td>\n",
       "      <td>39.43</td>\n",
       "      <td>-121.32</td>\n",
       "      <td>0.847</td>\n",
       "    </tr>\n",
       "    <tr>\n",
       "      <th>20639</th>\n",
       "      <td>2.3886</td>\n",
       "      <td>16.0</td>\n",
       "      <td>5.254717</td>\n",
       "      <td>1.162264</td>\n",
       "      <td>1387.0</td>\n",
       "      <td>2.616981</td>\n",
       "      <td>39.37</td>\n",
       "      <td>-121.24</td>\n",
       "      <td>0.894</td>\n",
       "    </tr>\n",
       "  </tbody>\n",
       "</table>\n",
       "<p>20640 rows × 9 columns</p>\n",
       "</div>"
      ],
      "text/plain": [
       "       MedInc  HouseAge  AveRooms  AveBedrms  Population  AveOccup  Latitude  \\\n",
       "0      8.3252      41.0  6.984127   1.023810       322.0  2.555556     37.88   \n",
       "1      8.3014      21.0  6.238137   0.971880      2401.0  2.109842     37.86   \n",
       "2      7.2574      52.0  8.288136   1.073446       496.0  2.802260     37.85   \n",
       "3      5.6431      52.0  5.817352   1.073059       558.0  2.547945     37.85   \n",
       "4      3.8462      52.0  6.281853   1.081081       565.0  2.181467     37.85   \n",
       "...       ...       ...       ...        ...         ...       ...       ...   \n",
       "20635  1.5603      25.0  5.045455   1.133333       845.0  2.560606     39.48   \n",
       "20636  2.5568      18.0  6.114035   1.315789       356.0  3.122807     39.49   \n",
       "20637  1.7000      17.0  5.205543   1.120092      1007.0  2.325635     39.43   \n",
       "20638  1.8672      18.0  5.329513   1.171920       741.0  2.123209     39.43   \n",
       "20639  2.3886      16.0  5.254717   1.162264      1387.0  2.616981     39.37   \n",
       "\n",
       "       Longitude  MedHouseVal  \n",
       "0        -122.23        4.526  \n",
       "1        -122.22        3.585  \n",
       "2        -122.24        3.521  \n",
       "3        -122.25        3.413  \n",
       "4        -122.25        3.422  \n",
       "...          ...          ...  \n",
       "20635    -121.09        0.781  \n",
       "20636    -121.21        0.771  \n",
       "20637    -121.22        0.923  \n",
       "20638    -121.32        0.847  \n",
       "20639    -121.24        0.894  \n",
       "\n",
       "[20640 rows x 9 columns]"
      ]
     },
     "execution_count": 5,
     "metadata": {},
     "output_type": "execute_result"
    }
   ],
   "source": [
    "import pandas as pd\n",
    "\n",
    "data = pd.DataFrame(housing.data, columns=['MedInc','HouseAge','AveRooms','AveBedrms','Population','AveOccup','Latitude','Longitude'])\n",
    "data[\"MedHouseVal\"] = housing.target\n",
    "data"
   ]
  },
  {
   "cell_type": "markdown",
   "id": "6c1354d2-7fef-48b3-adbb-0982f4fd8edd",
   "metadata": {
    "tags": []
   },
   "source": [
    "### 2.数据集划分"
   ]
  },
  {
   "cell_type": "code",
   "execution_count": 6,
   "id": "10adb4c2-dc35-493b-8d28-2daaaee10aa0",
   "metadata": {
    "tags": []
   },
   "outputs": [],
   "source": [
    "from sklearn.model_selection import train_test_split\n",
    "\n",
    "x_train, x_test, y_train, y_test = train_test_split(housing.data, housing.target, test_size = 0.2, random_state=22)"
   ]
  },
  {
   "cell_type": "markdown",
   "id": "3c6735eb-4d2a-45ad-ac78-676397f97e74",
   "metadata": {},
   "source": [
    "### 3.特征工程——标准化"
   ]
  },
  {
   "cell_type": "code",
   "execution_count": 7,
   "id": "f782e16c-2c51-418a-8bf2-b10ef4288338",
   "metadata": {
    "tags": []
   },
   "outputs": [],
   "source": [
    "from sklearn.preprocessing import StandardScaler\n",
    "\n",
    "transfer = StandardScaler()\n",
    "x_train = transfer.fit_transform(x_train)\n",
    "x_test = transfer.transform(x_test)"
   ]
  },
  {
   "cell_type": "markdown",
   "id": "960a28cb-7566-4905-9c94-e7ab720b846c",
   "metadata": {},
   "source": [
    "### 4.机器学习——线性回归（正规方程）"
   ]
  },
  {
   "cell_type": "code",
   "execution_count": 8,
   "id": "34be15f2-febb-4a04-9d4e-c3a37258dec5",
   "metadata": {
    "tags": []
   },
   "outputs": [
    {
     "data": {
      "text/html": [
       "<style>#sk-container-id-1 {color: black;background-color: white;}#sk-container-id-1 pre{padding: 0;}#sk-container-id-1 div.sk-toggleable {background-color: white;}#sk-container-id-1 label.sk-toggleable__label {cursor: pointer;display: block;width: 100%;margin-bottom: 0;padding: 0.3em;box-sizing: border-box;text-align: center;}#sk-container-id-1 label.sk-toggleable__label-arrow:before {content: \"▸\";float: left;margin-right: 0.25em;color: #696969;}#sk-container-id-1 label.sk-toggleable__label-arrow:hover:before {color: black;}#sk-container-id-1 div.sk-estimator:hover label.sk-toggleable__label-arrow:before {color: black;}#sk-container-id-1 div.sk-toggleable__content {max-height: 0;max-width: 0;overflow: hidden;text-align: left;background-color: #f0f8ff;}#sk-container-id-1 div.sk-toggleable__content pre {margin: 0.2em;color: black;border-radius: 0.25em;background-color: #f0f8ff;}#sk-container-id-1 input.sk-toggleable__control:checked~div.sk-toggleable__content {max-height: 200px;max-width: 100%;overflow: auto;}#sk-container-id-1 input.sk-toggleable__control:checked~label.sk-toggleable__label-arrow:before {content: \"▾\";}#sk-container-id-1 div.sk-estimator input.sk-toggleable__control:checked~label.sk-toggleable__label {background-color: #d4ebff;}#sk-container-id-1 div.sk-label input.sk-toggleable__control:checked~label.sk-toggleable__label {background-color: #d4ebff;}#sk-container-id-1 input.sk-hidden--visually {border: 0;clip: rect(1px 1px 1px 1px);clip: rect(1px, 1px, 1px, 1px);height: 1px;margin: -1px;overflow: hidden;padding: 0;position: absolute;width: 1px;}#sk-container-id-1 div.sk-estimator {font-family: monospace;background-color: #f0f8ff;border: 1px dotted black;border-radius: 0.25em;box-sizing: border-box;margin-bottom: 0.5em;}#sk-container-id-1 div.sk-estimator:hover {background-color: #d4ebff;}#sk-container-id-1 div.sk-parallel-item::after {content: \"\";width: 100%;border-bottom: 1px solid gray;flex-grow: 1;}#sk-container-id-1 div.sk-label:hover label.sk-toggleable__label {background-color: #d4ebff;}#sk-container-id-1 div.sk-serial::before {content: \"\";position: absolute;border-left: 1px solid gray;box-sizing: border-box;top: 0;bottom: 0;left: 50%;z-index: 0;}#sk-container-id-1 div.sk-serial {display: flex;flex-direction: column;align-items: center;background-color: white;padding-right: 0.2em;padding-left: 0.2em;position: relative;}#sk-container-id-1 div.sk-item {position: relative;z-index: 1;}#sk-container-id-1 div.sk-parallel {display: flex;align-items: stretch;justify-content: center;background-color: white;position: relative;}#sk-container-id-1 div.sk-item::before, #sk-container-id-1 div.sk-parallel-item::before {content: \"\";position: absolute;border-left: 1px solid gray;box-sizing: border-box;top: 0;bottom: 0;left: 50%;z-index: -1;}#sk-container-id-1 div.sk-parallel-item {display: flex;flex-direction: column;z-index: 1;position: relative;background-color: white;}#sk-container-id-1 div.sk-parallel-item:first-child::after {align-self: flex-end;width: 50%;}#sk-container-id-1 div.sk-parallel-item:last-child::after {align-self: flex-start;width: 50%;}#sk-container-id-1 div.sk-parallel-item:only-child::after {width: 0;}#sk-container-id-1 div.sk-dashed-wrapped {border: 1px dashed gray;margin: 0 0.4em 0.5em 0.4em;box-sizing: border-box;padding-bottom: 0.4em;background-color: white;}#sk-container-id-1 div.sk-label label {font-family: monospace;font-weight: bold;display: inline-block;line-height: 1.2em;}#sk-container-id-1 div.sk-label-container {text-align: center;}#sk-container-id-1 div.sk-container {/* jupyter's `normalize.less` sets `[hidden] { display: none; }` but bootstrap.min.css set `[hidden] { display: none !important; }` so we also need the `!important` here to be able to override the default hidden behavior on the sphinx rendered scikit-learn.org. See: https://github.com/scikit-learn/scikit-learn/issues/21755 */display: inline-block !important;position: relative;}#sk-container-id-1 div.sk-text-repr-fallback {display: none;}</style><div id=\"sk-container-id-1\" class=\"sk-top-container\"><div class=\"sk-text-repr-fallback\"><pre>LinearRegression()</pre><b>In a Jupyter environment, please rerun this cell to show the HTML representation or trust the notebook. <br />On GitHub, the HTML representation is unable to render, please try loading this page with nbviewer.org.</b></div><div class=\"sk-container\" hidden><div class=\"sk-item\"><div class=\"sk-estimator sk-toggleable\"><input class=\"sk-toggleable__control sk-hidden--visually\" id=\"sk-estimator-id-1\" type=\"checkbox\" checked><label for=\"sk-estimator-id-1\" class=\"sk-toggleable__label sk-toggleable__label-arrow\">LinearRegression</label><div class=\"sk-toggleable__content\"><pre>LinearRegression()</pre></div></div></div></div></div>"
      ],
      "text/plain": [
       "LinearRegression()"
      ]
     },
     "execution_count": 8,
     "metadata": {},
     "output_type": "execute_result"
    }
   ],
   "source": [
    "from sklearn.linear_model import LinearRegression\n",
    "\n",
    "estimator = LinearRegression()\n",
    "estimator.fit(x_train, y_train)"
   ]
  },
  {
   "cell_type": "markdown",
   "id": "ba7a0534-c176-4248-85e9-c0ad464a0983",
   "metadata": {
    "tags": []
   },
   "source": [
    "### 5.模型评估\n",
    "#### 5.1获取系数等值"
   ]
  },
  {
   "cell_type": "code",
   "execution_count": 9,
   "id": "75066c32-ea22-489a-b925-5756e6f77a91",
   "metadata": {
    "tags": []
   },
   "outputs": [
    {
     "name": "stdout",
     "output_type": "stream",
     "text": [
      "预测值为:\n",
      " [1.41687455 2.00757745 1.02697577 ... 0.76660448 2.89271493 1.13644498]\n",
      "模型中的系数为:\n",
      " [ 0.8219582   0.11446086 -0.25859685  0.30223006 -0.00669696 -0.04110045\n",
      " -0.91361027 -0.88513168]\n",
      "模型中的偏置为:\n",
      " 2.0697045130809433\n"
     ]
    }
   ],
   "source": [
    "y_predict = estimator.predict(x_test)\n",
    "print(\"预测值为:\\n\", y_predict)\n",
    "print(\"模型中的系数为:\\n\", estimator.coef_)\n",
    "print(\"模型中的偏置为:\\n\", estimator.intercept_)"
   ]
  },
  {
   "cell_type": "markdown",
   "id": "2f295bd2-61b9-4bbb-ac43-ec315e695cd7",
   "metadata": {},
   "source": [
    "#### 5.2评价——均方差"
   ]
  },
  {
   "cell_type": "code",
   "execution_count": 10,
   "id": "2ef8dece-af14-4d1c-bafe-4de03f0f39e5",
   "metadata": {
    "tags": []
   },
   "outputs": [
    {
     "name": "stdout",
     "output_type": "stream",
     "text": [
      "误差为:\n",
      " 0.5075176386746465\n"
     ]
    }
   ],
   "source": [
    "from sklearn.metrics import mean_squared_error\n",
    "\n",
    "error = mean_squared_error(y_test, y_predict)\n",
    "print(\"误差为:\\n\", error)"
   ]
  },
  {
   "cell_type": "markdown",
   "id": "843e6a1d-b4fd-4405-afe8-81a67fc1419c",
   "metadata": {},
   "source": [
    "## 梯度下降法实现\n",
    "### 1.获取数据"
   ]
  },
  {
   "cell_type": "code",
   "execution_count": 11,
   "id": "d9c09074-d26c-4028-9889-483ad0323d52",
   "metadata": {
    "tags": []
   },
   "outputs": [],
   "source": [
    "from sklearn.datasets import fetch_california_housing\n",
    "housing = fetch_california_housing()"
   ]
  },
  {
   "cell_type": "markdown",
   "id": "64e52375-1c0f-42b2-87f1-54bf70c4cd6b",
   "metadata": {},
   "source": [
    "### 2.数据集划分"
   ]
  },
  {
   "cell_type": "code",
   "execution_count": 12,
   "id": "a4c920d6-3cf2-44a5-be3c-b75947a6862b",
   "metadata": {
    "tags": []
   },
   "outputs": [],
   "source": [
    "from sklearn.model_selection import train_test_split\n",
    "\n",
    "x_train, x_test, y_train, y_test = train_test_split(housing.data, housing.target, test_size = 0.2, random_state=22)"
   ]
  },
  {
   "cell_type": "markdown",
   "id": "59824b8e-79b9-454d-ba2d-dd9744ed54d4",
   "metadata": {},
   "source": [
    "### 3.特征工程——标准化"
   ]
  },
  {
   "cell_type": "code",
   "execution_count": 13,
   "id": "743c0953-f909-42ce-81f4-208f3c9a0510",
   "metadata": {
    "tags": []
   },
   "outputs": [],
   "source": [
    "from sklearn.preprocessing import StandardScaler\n",
    "\n",
    "transfer = StandardScaler()\n",
    "x_train = transfer.fit_transform(x_train)\n",
    "x_test = transfer.transform(x_test)"
   ]
  },
  {
   "cell_type": "markdown",
   "id": "2a7c9262-c40c-4648-9cc5-e241c3e479af",
   "metadata": {},
   "source": [
    "### 4.机器学习——梯度下降"
   ]
  },
  {
   "cell_type": "code",
   "execution_count": 14,
   "id": "bb4efd62-8e85-412c-a891-ae328fd8523c",
   "metadata": {
    "tags": []
   },
   "outputs": [
    {
     "data": {
      "text/html": [
       "<style>#sk-container-id-2 {color: black;background-color: white;}#sk-container-id-2 pre{padding: 0;}#sk-container-id-2 div.sk-toggleable {background-color: white;}#sk-container-id-2 label.sk-toggleable__label {cursor: pointer;display: block;width: 100%;margin-bottom: 0;padding: 0.3em;box-sizing: border-box;text-align: center;}#sk-container-id-2 label.sk-toggleable__label-arrow:before {content: \"▸\";float: left;margin-right: 0.25em;color: #696969;}#sk-container-id-2 label.sk-toggleable__label-arrow:hover:before {color: black;}#sk-container-id-2 div.sk-estimator:hover label.sk-toggleable__label-arrow:before {color: black;}#sk-container-id-2 div.sk-toggleable__content {max-height: 0;max-width: 0;overflow: hidden;text-align: left;background-color: #f0f8ff;}#sk-container-id-2 div.sk-toggleable__content pre {margin: 0.2em;color: black;border-radius: 0.25em;background-color: #f0f8ff;}#sk-container-id-2 input.sk-toggleable__control:checked~div.sk-toggleable__content {max-height: 200px;max-width: 100%;overflow: auto;}#sk-container-id-2 input.sk-toggleable__control:checked~label.sk-toggleable__label-arrow:before {content: \"▾\";}#sk-container-id-2 div.sk-estimator input.sk-toggleable__control:checked~label.sk-toggleable__label {background-color: #d4ebff;}#sk-container-id-2 div.sk-label input.sk-toggleable__control:checked~label.sk-toggleable__label {background-color: #d4ebff;}#sk-container-id-2 input.sk-hidden--visually {border: 0;clip: rect(1px 1px 1px 1px);clip: rect(1px, 1px, 1px, 1px);height: 1px;margin: -1px;overflow: hidden;padding: 0;position: absolute;width: 1px;}#sk-container-id-2 div.sk-estimator {font-family: monospace;background-color: #f0f8ff;border: 1px dotted black;border-radius: 0.25em;box-sizing: border-box;margin-bottom: 0.5em;}#sk-container-id-2 div.sk-estimator:hover {background-color: #d4ebff;}#sk-container-id-2 div.sk-parallel-item::after {content: \"\";width: 100%;border-bottom: 1px solid gray;flex-grow: 1;}#sk-container-id-2 div.sk-label:hover label.sk-toggleable__label {background-color: #d4ebff;}#sk-container-id-2 div.sk-serial::before {content: \"\";position: absolute;border-left: 1px solid gray;box-sizing: border-box;top: 0;bottom: 0;left: 50%;z-index: 0;}#sk-container-id-2 div.sk-serial {display: flex;flex-direction: column;align-items: center;background-color: white;padding-right: 0.2em;padding-left: 0.2em;position: relative;}#sk-container-id-2 div.sk-item {position: relative;z-index: 1;}#sk-container-id-2 div.sk-parallel {display: flex;align-items: stretch;justify-content: center;background-color: white;position: relative;}#sk-container-id-2 div.sk-item::before, #sk-container-id-2 div.sk-parallel-item::before {content: \"\";position: absolute;border-left: 1px solid gray;box-sizing: border-box;top: 0;bottom: 0;left: 50%;z-index: -1;}#sk-container-id-2 div.sk-parallel-item {display: flex;flex-direction: column;z-index: 1;position: relative;background-color: white;}#sk-container-id-2 div.sk-parallel-item:first-child::after {align-self: flex-end;width: 50%;}#sk-container-id-2 div.sk-parallel-item:last-child::after {align-self: flex-start;width: 50%;}#sk-container-id-2 div.sk-parallel-item:only-child::after {width: 0;}#sk-container-id-2 div.sk-dashed-wrapped {border: 1px dashed gray;margin: 0 0.4em 0.5em 0.4em;box-sizing: border-box;padding-bottom: 0.4em;background-color: white;}#sk-container-id-2 div.sk-label label {font-family: monospace;font-weight: bold;display: inline-block;line-height: 1.2em;}#sk-container-id-2 div.sk-label-container {text-align: center;}#sk-container-id-2 div.sk-container {/* jupyter's `normalize.less` sets `[hidden] { display: none; }` but bootstrap.min.css set `[hidden] { display: none !important; }` so we also need the `!important` here to be able to override the default hidden behavior on the sphinx rendered scikit-learn.org. See: https://github.com/scikit-learn/scikit-learn/issues/21755 */display: inline-block !important;position: relative;}#sk-container-id-2 div.sk-text-repr-fallback {display: none;}</style><div id=\"sk-container-id-2\" class=\"sk-top-container\"><div class=\"sk-text-repr-fallback\"><pre>SGDRegressor()</pre><b>In a Jupyter environment, please rerun this cell to show the HTML representation or trust the notebook. <br />On GitHub, the HTML representation is unable to render, please try loading this page with nbviewer.org.</b></div><div class=\"sk-container\" hidden><div class=\"sk-item\"><div class=\"sk-estimator sk-toggleable\"><input class=\"sk-toggleable__control sk-hidden--visually\" id=\"sk-estimator-id-2\" type=\"checkbox\" checked><label for=\"sk-estimator-id-2\" class=\"sk-toggleable__label sk-toggleable__label-arrow\">SGDRegressor</label><div class=\"sk-toggleable__content\"><pre>SGDRegressor()</pre></div></div></div></div></div>"
      ],
      "text/plain": [
       "SGDRegressor()"
      ]
     },
     "execution_count": 14,
     "metadata": {},
     "output_type": "execute_result"
    }
   ],
   "source": [
    "from sklearn.linear_model import SGDRegressor\n",
    "\n",
    "estimator = SGDRegressor(max_iter=1000)\n",
    "estimator.fit(x_train, y_train)"
   ]
  },
  {
   "cell_type": "markdown",
   "id": "3d477125-2527-479e-aebc-904b854d61be",
   "metadata": {},
   "source": [
    "### 5.模型评估\n",
    "#### 5.1获取系数等值"
   ]
  },
  {
   "cell_type": "code",
   "execution_count": 15,
   "id": "14355cfe-5b60-45be-b040-0b5424fdc652",
   "metadata": {
    "tags": []
   },
   "outputs": [
    {
     "name": "stdout",
     "output_type": "stream",
     "text": [
      "预测值为:\n",
      " [ 26.4644028   54.16856486 -45.3043293  ...  32.1709664  -15.27163165\n",
      "   4.34309287]\n",
      "模型中的系数为:\n",
      " [-1.50982788e+01  2.80073040e+00  1.96445877e+01 -2.13890923e-01\n",
      "  5.88595766e+00 -4.61981084e+02 -9.10991287e+00  9.25300019e-01]\n",
      "模型中的偏置为:\n",
      " [0.59872016]\n"
     ]
    }
   ],
   "source": [
    "y_predict = estimator.predict(x_test)\n",
    "print(\"预测值为:\\n\", y_predict)\n",
    "print(\"模型中的系数为:\\n\", estimator.coef_)\n",
    "print(\"模型中的偏置为:\\n\", estimator.intercept_)"
   ]
  },
  {
   "cell_type": "markdown",
   "id": "3d145c84-9414-4b71-af18-b1667e2b60ad",
   "metadata": {
    "tags": []
   },
   "source": [
    "#### 5.2评价——均方差"
   ]
  },
  {
   "cell_type": "code",
   "execution_count": 16,
   "id": "7b7f5d4b-6ea3-49ab-98ca-76512348068c",
   "metadata": {
    "tags": []
   },
   "outputs": [
    {
     "name": "stdout",
     "output_type": "stream",
     "text": [
      "误差为:\n",
      " 193593.4438240494\n"
     ]
    }
   ],
   "source": [
    "from sklearn.metrics import mean_squared_error\n",
    "\n",
    "error = mean_squared_error(y_test, y_predict)\n",
    "print(\"误差为:\\n\", error)"
   ]
  },
  {
   "cell_type": "markdown",
   "id": "2bbfe331-f508-4120-bf14-75cb9a47b1cf",
   "metadata": {},
   "source": [
    "# 欠拟合和过拟合\n",
    "##　过拟合\n",
    "在训练集上表现不好，在测试集上表现不好\n",
    "- 解决方法：\n",
    "    - 继续学习\n",
    "        - 1.添加其他特征项\n",
    "        - 2.添加多项式特征\n",
    "## 欠拟合\n",
    "在训练集上表现好，在测试集上表现不好\n",
    "- 解决方法：\n",
    "    - 1.重新清洗数据集\n",
    "    - 2.增大数据的训练量\n",
    "    - 3.正则化\n",
    "    - 4.减少特征维度，防止**维灾难**\n",
    "    \n",
    "<img src=\".\\images\\欠拟合过拟合图示.png\" width=800 height=800 >"
   ]
  },
  {
   "cell_type": "markdown",
   "id": "250a8838-c2b9-437b-b8b9-8e3304b854d0",
   "metadata": {
    "tags": []
   },
   "source": [
    "## 正则化\n",
    "<img src=\".\\images\\正则化.png\" width=300 height=300 >\n",
    "\n",
    "- 通过限制高次项的系数进行防止过拟合\n",
    "### L1正则化\n",
    "    - 理解：直接把高次项前面的系数变为0\n",
    "    - 作用：可以使得其中一些W的值直接为0，删除这个特征的影响\n",
    "    - Lasso回归\n",
    "### L2正则化\n",
    "    - 理解：把高次项前面的系数变成特别小的值\n",
    "    - 作用：可以使得其中一些W的都很小，都接近于0，削弱某个特征的影响\n",
    "    - 优点：越小的参数说明模型越简单，越简单的模型则越不容易产生过拟合现象\n",
    "    - Ridge回归(岭回归)"
   ]
  },
  {
   "cell_type": "markdown",
   "id": "60d5b867-0828-4d1b-bd78-59ba6b88d1a8",
   "metadata": {
    "tags": []
   },
   "source": [
    "# 正则化线性模型\n",
    "## Ridge Regression 岭回归   \n",
    "在原来的线性回归的代价函数(cost function)中添加正则项(regularization term):\n",
    "$$\\alpha\\sum_{i=1}^n\\theta_i^2$$\n",
    "以达到在拟合数据的同时，使模型权重尽可能小的目的,岭回归代价函数:\n",
    "$$\\begin{gathered}J(\\theta)=MSE(\\theta)+\\alpha\\sum_{i=1}^{n}\\theta_{i}^2\\end{gathered} $$\n",
    "即：\n",
    "$$\\begin{gathered}J(\\theta)=\\frac{1}{m}\\sum_{i=1}^{m}\\left(\\theta^{T}\\cdot x^{(i)}-y^{(i)}\\right)^2+\\alpha\\sum_{i=1}^{n}\\theta_{i}^2\\end{gathered}$$\n",
    "- 就是把系数添加平方项\n",
    "- 然后限制系数值的大小\n",
    "- α值越小，系数值越大，α越大，系数值越小\n",
    "    - α=0：岭回归退化为线性回归\n",
    "## Lasso 回归\n",
    "Lasso 回归(Lasso Regression)是线性回归的另一种正则化版本，正则项为权值向量的L1范数。\n",
    "\n",
    "Lasso回归的代价函数 ：\n",
    "$$J(\\theta) =MSE(\\theta)+\\alpha\\sum_{i=1}^n|\\theta_i|$$\n",
    "\n",
    "【注意 】\n",
    "- Lasso Regression 的代价函数在$θ_i=0$处是不可导的.\n",
    "- 解决方法：在$θ_i=0$处用一个次梯度向量(subgradient vector)代替梯度，如下式\n",
    "$$\\begin{aligned}\\\\ g(\\theta,J)=\\nabla_{\\theta}MSE(\\theta)+\\alpha{\\left(\\begin{array}{ll}{\\operatorname{sign}(\\theta_1)}\\\\ {\\operatorname{sign}(\\theta_2)}\\\\ {\\vdots}\\\\ {\\operatorname{sign}(\\theta_{n})}\\end{array}\\right)}\\quad{\\mathrm{where}}\\quad{\\mathrm{sign}}(\\theta_{i})=\\begin{cases}-1\\text{ if }\\theta_{i}<0\\\\ 0\\text{ if }\\theta_{i}=0\\\\ +1\\text{ if }\\theta_{i}>0\\end{cases}\\end{aligned}$$\n",
    "\n",
    "Lasso Regression 有一个很重要的性质是：倾向于完全消除不重要的权重。\n",
    "\n",
    "例如：当α 取值相对较大时，高阶多项式退化为二次甚至是线性：高阶多项式特征的权重被置为0。\n",
    "\n",
    "也就是说，Lasso Regression 能够自动进行特征选择，并输出一个稀疏模型（只有少数特征的权重是非零的）。\n",
    "- Lasso Regression 的次梯度向量\n",
    "\n",
    "- 对系数值进行绝对值处理\n",
    "- 由于绝对值在顶点处不可导，所以进行计算的过程中产生很多0，最后得到结果为：稀疏矩阵\n",
    "## Elastic Net 弹性网络\n",
    "- 是前两个内容的综合\n",
    "- 设置了一个r(混合比(mix ratio) )\n",
    "    - r=0--岭回归\n",
    "    - r=1--Lasso回归\n",
    "弹性网络的代价函数 ：\n",
    "$$J(\\theta)=MSE(\\theta)+r\\alpha\\sum_{i=1}^n|\\theta_i|+\\frac{1-r}{2}\\alpha\\sum_{i=1}^n\\theta_i^2$$\n",
    "## Early stopping\n",
    "通过限制错误率的阈值，进行停止。\n",
    "## 总结\n",
    "- 常用：岭回归\n",
    "- 假设只有少部分特征是有用的：\n",
    "    - 弹性网络\n",
    "    - Lasso\n",
    "    - 一般来说，弹性网络的使用更为广泛。因为在特征维度高于训练样本数，或者特征是强相关的情况下，Lasso回归的表现不太稳定。\n",
    "- api:\n",
    "    - `from sklearn.linear_model import Ridge, ElasticNet, Lasso`"
   ]
  },
  {
   "cell_type": "markdown",
   "id": "cd6a0b07-1ad7-43f0-bd72-ac2e0b4cb0fe",
   "metadata": {},
   "source": [
    "# 线性回归的改进-岭回归\n",
    "## API\n",
    "### sklearn.linear_model.Ridge()\n",
    "\n",
    "```python\n",
    "sklearn.linear_model.Ridge(alpha=1.0, fit_intercept=True, normalize=False, copy_X=True, max_iter=None, tol=0.001, solver='auto', random_state=None)\n",
    "```\n",
    "\n",
    "`sklearn.linear_model.Ridge()`函数<font color=blue>实现了岭回归算法，是一种用于线性回归的正则化方法(<font color=red>**具有l2正则化的线性最小二乘法**</font>)。</font>\n",
    "\n",
    "- 参数说明：\n",
    "\n",
    "    - `alpha` : 正则化强度，必须为正浮点数(取值为0\\~1、1\\~10)。默认为1.0。\n",
    "    - `fit_intercept` : 可选参数，表示是否计算截距。默认为`True`。\n",
    "    - `normalize` : 可选参数，表示是否对数据进行归一化。默认为`False`。\n",
    "    - `copy_X` : 可选参数，表示是否复制数据。默认为`True`。\n",
    "    - `max_iter` : 可选参数，表示最大迭代次数。默认为`None`。\n",
    "    - `tol` : 可选参数，表示迭代停止的误差限制。默认为`0.001`。\n",
    "    - `solver` : 可选参数，表示求解方法。默认为`'auto'`，即自动选择。\n",
    "    - `random_state` : 可选参数，表示随机数种子。默认为`None`。\n",
    "\n",
    "- 属性说明：\n",
    "\n",
    "    - `coef_` : 返回模型的系数。\n",
    "    - `intercept_` : 返回模型的截距。\n",
    "    - `n_iter_` : 返回模型迭代的次数。\n",
    "\n",
    "- 方法说明：\n",
    "\n",
    "    - `fit(X, y[, sample_weight])` : 训练模型。\n",
    "    - `predict(X)` : 基于模型进行预测。\n",
    "    - `score(X, y[, sample_weight])` : 返回模型的R²值。\n",
    "    \n",
    "- 参考链接：\n",
    "\n",
    "    官方文档：[sklearn.linear_model.Ridge](https://scikit-learn.org/stable/modules/generated/sklearn.linear_model.Ridge.html)"
   ]
  },
  {
   "cell_type": "markdown",
   "id": "d9fb092a-dbe6-4918-adc6-d2e61ee4449a",
   "metadata": {},
   "source": [
    "### sklearn.linear_model.RidgeCV()\n",
    "\n",
    "```python\n",
    "sklearn.linear_model.RidgeCV(alphas=(0.1, 1.0, 10.0), fit_intercept=True, normalize=False, scoring=None, cv=None, gcv_mode=None, store_cv_values=False)\n",
    "```\n",
    "\n",
    "`sklearn.linear_model.RidgeCV()`函数<font color=blue>具有l2正则化的线性回归，带有交叉验证的岭回归算法。</font>\n",
    "\n",
    "- 参数说明：\n",
    "\n",
    "    - `alphas` : 正则化强度的候选值列表，必须为正浮点数。默认值为`(0.1, 1.0, 10.0)`。\n",
    "    - `fit_intercept` : 可选参数，表示是否计算截距。默认为`True`。\n",
    "    - `normalize` : 可选参数，表示是否对数据进行归一化。默认为`False`。\n",
    "    - `scoring` : 可选参数，表示评价指标。默认为`None`。\n",
    "    - `cv` : 可选参数，表示交叉验证的折数。默认为`None`，即使用默认的3折交叉验证。\n",
    "    - `gcv_mode` : 可选参数，表示广义交叉验证模式。默认为`None`。\n",
    "    - `store_cv_values` : 可选参数，表示是否存储交叉验证的结果。默认为`False`。\n",
    "\n",
    "- 属性说明：\n",
    "\n",
    "    - `alpha_` : 返回最优的正则化强度。\n",
    "    - `coef_` : 返回模型的系数。\n",
    "    - `intercept_` : 返回模型的截距。\n",
    "    - `cv_values_` : 返回交叉验证的结果。\n",
    "\n",
    "- 方法说明：\n",
    "\n",
    "    - `fit(X, y[, sample_weight])` : 训练模型。\n",
    "    - `predict(X)` : 基于模型进行预测。\n",
    "    - `score(X, y[, sample_weight])` : 返回模型的R²值。\n",
    "    \n",
    "- 参考链接：\n",
    "\n",
    "    官方文档：[sklearn.linear_model.RidgeCV](https://scikit-learn.org/stable/modules/generated/sklearn.linear_model.RidgeCV.html)"
   ]
  },
  {
   "cell_type": "markdown",
   "id": "ca4d1ddb-89b2-459b-a5b6-0017b8e796c0",
   "metadata": {},
   "source": [
    "## 正则化程度变化\n",
    "<img src=\".\\images\\正则化力度.png\" width=500 height=500 >\n",
    "\n",
    "- 正则化力度越大，权重系数会越小\n",
    "- 正则化力度越小，权重系数会越大"
   ]
  },
  {
   "cell_type": "code",
   "execution_count": 17,
   "id": "dda53717-5993-44b2-ad17-8e0b3789621f",
   "metadata": {
    "tags": []
   },
   "outputs": [
    {
     "data": {
      "text/html": [
       "<style>#sk-container-id-3 {color: black;background-color: white;}#sk-container-id-3 pre{padding: 0;}#sk-container-id-3 div.sk-toggleable {background-color: white;}#sk-container-id-3 label.sk-toggleable__label {cursor: pointer;display: block;width: 100%;margin-bottom: 0;padding: 0.3em;box-sizing: border-box;text-align: center;}#sk-container-id-3 label.sk-toggleable__label-arrow:before {content: \"▸\";float: left;margin-right: 0.25em;color: #696969;}#sk-container-id-3 label.sk-toggleable__label-arrow:hover:before {color: black;}#sk-container-id-3 div.sk-estimator:hover label.sk-toggleable__label-arrow:before {color: black;}#sk-container-id-3 div.sk-toggleable__content {max-height: 0;max-width: 0;overflow: hidden;text-align: left;background-color: #f0f8ff;}#sk-container-id-3 div.sk-toggleable__content pre {margin: 0.2em;color: black;border-radius: 0.25em;background-color: #f0f8ff;}#sk-container-id-3 input.sk-toggleable__control:checked~div.sk-toggleable__content {max-height: 200px;max-width: 100%;overflow: auto;}#sk-container-id-3 input.sk-toggleable__control:checked~label.sk-toggleable__label-arrow:before {content: \"▾\";}#sk-container-id-3 div.sk-estimator input.sk-toggleable__control:checked~label.sk-toggleable__label {background-color: #d4ebff;}#sk-container-id-3 div.sk-label input.sk-toggleable__control:checked~label.sk-toggleable__label {background-color: #d4ebff;}#sk-container-id-3 input.sk-hidden--visually {border: 0;clip: rect(1px 1px 1px 1px);clip: rect(1px, 1px, 1px, 1px);height: 1px;margin: -1px;overflow: hidden;padding: 0;position: absolute;width: 1px;}#sk-container-id-3 div.sk-estimator {font-family: monospace;background-color: #f0f8ff;border: 1px dotted black;border-radius: 0.25em;box-sizing: border-box;margin-bottom: 0.5em;}#sk-container-id-3 div.sk-estimator:hover {background-color: #d4ebff;}#sk-container-id-3 div.sk-parallel-item::after {content: \"\";width: 100%;border-bottom: 1px solid gray;flex-grow: 1;}#sk-container-id-3 div.sk-label:hover label.sk-toggleable__label {background-color: #d4ebff;}#sk-container-id-3 div.sk-serial::before {content: \"\";position: absolute;border-left: 1px solid gray;box-sizing: border-box;top: 0;bottom: 0;left: 50%;z-index: 0;}#sk-container-id-3 div.sk-serial {display: flex;flex-direction: column;align-items: center;background-color: white;padding-right: 0.2em;padding-left: 0.2em;position: relative;}#sk-container-id-3 div.sk-item {position: relative;z-index: 1;}#sk-container-id-3 div.sk-parallel {display: flex;align-items: stretch;justify-content: center;background-color: white;position: relative;}#sk-container-id-3 div.sk-item::before, #sk-container-id-3 div.sk-parallel-item::before {content: \"\";position: absolute;border-left: 1px solid gray;box-sizing: border-box;top: 0;bottom: 0;left: 50%;z-index: -1;}#sk-container-id-3 div.sk-parallel-item {display: flex;flex-direction: column;z-index: 1;position: relative;background-color: white;}#sk-container-id-3 div.sk-parallel-item:first-child::after {align-self: flex-end;width: 50%;}#sk-container-id-3 div.sk-parallel-item:last-child::after {align-self: flex-start;width: 50%;}#sk-container-id-3 div.sk-parallel-item:only-child::after {width: 0;}#sk-container-id-3 div.sk-dashed-wrapped {border: 1px dashed gray;margin: 0 0.4em 0.5em 0.4em;box-sizing: border-box;padding-bottom: 0.4em;background-color: white;}#sk-container-id-3 div.sk-label label {font-family: monospace;font-weight: bold;display: inline-block;line-height: 1.2em;}#sk-container-id-3 div.sk-label-container {text-align: center;}#sk-container-id-3 div.sk-container {/* jupyter's `normalize.less` sets `[hidden] { display: none; }` but bootstrap.min.css set `[hidden] { display: none !important; }` so we also need the `!important` here to be able to override the default hidden behavior on the sphinx rendered scikit-learn.org. See: https://github.com/scikit-learn/scikit-learn/issues/21755 */display: inline-block !important;position: relative;}#sk-container-id-3 div.sk-text-repr-fallback {display: none;}</style><div id=\"sk-container-id-3\" class=\"sk-top-container\"><div class=\"sk-text-repr-fallback\"><pre>Ridge(alpha=1)</pre><b>In a Jupyter environment, please rerun this cell to show the HTML representation or trust the notebook. <br />On GitHub, the HTML representation is unable to render, please try loading this page with nbviewer.org.</b></div><div class=\"sk-container\" hidden><div class=\"sk-item\"><div class=\"sk-estimator sk-toggleable\"><input class=\"sk-toggleable__control sk-hidden--visually\" id=\"sk-estimator-id-3\" type=\"checkbox\" checked><label for=\"sk-estimator-id-3\" class=\"sk-toggleable__label sk-toggleable__label-arrow\">Ridge</label><div class=\"sk-toggleable__content\"><pre>Ridge(alpha=1)</pre></div></div></div></div></div>"
      ],
      "text/plain": [
       "Ridge(alpha=1)"
      ]
     },
     "execution_count": 17,
     "metadata": {},
     "output_type": "execute_result"
    }
   ],
   "source": [
    "from sklearn.linear_model import Ridge\n",
    "\n",
    "# 4.机器学习-线性回归(岭回归)\n",
    "estimator = Ridge(alpha=1)\n",
    "# estimator = RidgeCV(alphas=(0.1, 1, 10))\n",
    "estimator.fit(x_train, y_train)"
   ]
  },
  {
   "cell_type": "code",
   "execution_count": 19,
   "id": "c91bcf8b-1eb9-44b1-916a-6f58fbd2cb6c",
   "metadata": {
    "tags": []
   },
   "outputs": [
    {
     "name": "stdout",
     "output_type": "stream",
     "text": [
      "预测值为:\n",
      " [1.4170339  2.0075908  1.02722482 ... 0.76688619 2.89262339 1.13641386]\n",
      "模型中的系数为:\n",
      " [ 0.82193035  0.11454405 -0.258439    0.30202016 -0.00666545 -0.04110036\n",
      " -0.91282746 -0.88434255]\n",
      "模型中的偏置为:\n",
      " 2.0697045130809437\n",
      "误差为:\n",
      " 0.5075135635665936\n"
     ]
    }
   ],
   "source": [
    "# 5.模型评估\n",
    "# 5.1 获取系数等值\n",
    "y_predict = estimator.predict(x_test)\n",
    "print(\"预测值为:\\n\", y_predict)\n",
    "print(\"模型中的系数为:\\n\", estimator.coef_)\n",
    "print(\"模型中的偏置为:\\n\", estimator.intercept_)\n",
    "\n",
    "# 5.2 评价\n",
    "# 均方误差\n",
    "error = mean_squared_error(y_test, y_predict)\n",
    "print(\"误差为:\\n\", error)"
   ]
  },
  {
   "cell_type": "code",
   "execution_count": 21,
   "id": "2dadab3a-e580-4513-b5ca-250cc05cce82",
   "metadata": {
    "tags": []
   },
   "outputs": [
    {
     "name": "stdout",
     "output_type": "stream",
     "text": [
      "预测值为:\n",
      " [1.41846123 2.00770702 1.02944642 ... 0.76940415 2.89180133 1.13614471]\n",
      "模型中的系数为:\n",
      " [ 0.82167056  0.11528443 -0.25701306  0.30013198 -0.00638498 -0.04109911\n",
      " -0.90585296 -0.87731069]\n",
      "模型中的偏置为:\n",
      " 2.0697045130809473\n",
      "误差为:\n",
      " 0.5074854435894751\n"
     ]
    }
   ],
   "source": [
    "from sklearn.linear_model import RidgeCV\n",
    "\n",
    "# 4.机器学习-线性回归(岭回归)\n",
    "# estimator = Ridge(alpha=1)\n",
    "estimator = RidgeCV(alphas=(0.1, 1, 10))\n",
    "estimator.fit(x_train, y_train)\n",
    "\n",
    "# 5.模型评估\n",
    "# 5.1 获取系数等值\n",
    "y_predict = estimator.predict(x_test)\n",
    "print(\"预测值为:\\n\", y_predict)\n",
    "print(\"模型中的系数为:\\n\", estimator.coef_)\n",
    "print(\"模型中的偏置为:\\n\", estimator.intercept_)\n",
    "\n",
    "# 5.2 评价\n",
    "# 均方误差\n",
    "error = mean_squared_error(y_test, y_predict)\n",
    "print(\"误差为:\\n\", error)"
   ]
  },
  {
   "cell_type": "markdown",
   "id": "25ed9ff0-f078-4211-9024-ca28e312b207",
   "metadata": {},
   "source": [
    "# 模型的保存和加载\n",
    "- `from sklearn.externals import joblib`\n",
    "- 保存：`joblib.dump(estimator, 'test.pkl')`\n",
    "- 加载：`estimator = joblib.load('test.pkl')`\n",
    "- 注意：\n",
    "    - 1.保存文件，后缀名是**.pkl\n",
    "    - 2.加载模型是需要通过一个变量进行承接\n",
    "## joblib.dump()\n",
    "\n",
    "```python\n",
    "joblib.dump(value, filename, compress=True, protocol=None, cache_size=None)\n",
    "```\n",
    "\n",
    "`joblib.dump()`函数<font color=blue>将Python对象序列化为文件。</font>\n",
    "\n",
    "- 参数说明：\n",
    "\n",
    "    - `value` : 要序列化的Python对象。\n",
    "    - `filename` : 序列化后的文件名。\n",
    "    - `compress` : 可选参数，表示是否使用压缩。默认为`True`。\n",
    "    - `protocol` : 可选参数，表示使用的协议版本。默认为`None`。\n",
    "    - `cache_size` : 可选参数，表示缓存大小。默认为`None`。\n",
    "    \n",
    "- 返回值：\n",
    "\n",
    "    无返回值。\n",
    "\n",
    "- 参考链接：\n",
    "\n",
    "    官方文档：[joblib.dump](https://joblib.readthedocs.io/en/latest/generated/joblib.dump.html)\n",
    "    \n",
    "- 示例1：\n",
    "\n",
    "```python\n",
    "from joblib import dump, load\n",
    "import numpy as np\n",
    "\n",
    "X = np.array([[0, 0], [0, 0], [1, 1]])\n",
    "y = np.array([0, 0.1, 1])\n",
    "dump(X, 'X.joblib')\n",
    "dump(y, 'y.joblib')\n",
    "```\n",
    "\n",
    "以上示例展示了如何使用`joblib.dump()`函数将`X`和`y`数组序列化为文件。在此示例中，我们将`X`和`y`数组分别保存为`X.joblib`和`y.joblib`。\n",
    "\n",
    "- 实例2：\n",
    "```python\n",
    "# 模型保存\n",
    "joblib.dump(estimator, \"./data/test.pkl\")\n",
    "```"
   ]
  },
  {
   "cell_type": "markdown",
   "id": "93203bd1-a0d2-4661-a73c-49108a8f27aa",
   "metadata": {},
   "source": [
    "## joblib.load()\n",
    "\n",
    "```python\n",
    "joblib.load(filename, mmap_mode=None)\n",
    "```\n",
    "\n",
    "`joblib.load()`函数<font color=blue>从文件中反序列化Python对象。</font>\n",
    "\n",
    "- 参数说明：\n",
    "\n",
    "    - `filename` : 反序列化文件的文件名。\n",
    "    - `mmap_mode` : 可选参数，表示使用的内存映射模式。默认为`None`。\n",
    "    \n",
    "- 返回值：\n",
    "\n",
    "    返回反序列化的Python对象。\n",
    "\n",
    "- 参考链接：\n",
    "\n",
    "    官方文档：[joblib.load](https://joblib.readthedocs.io/en/latest/generated/joblib.load.html)\n",
    "    \n",
    "- 示例1：\n",
    "\n",
    "```python\n",
    "from joblib import dump, load\n",
    "import numpy as np\n",
    "\n",
    "X = np.array([[0, 0], [0, 0], [1, 1]])\n",
    "y = np.array([0, 0.1, 1])\n",
    "dump(X, 'X.joblib')\n",
    "dump(y, 'y.joblib')\n",
    "\n",
    "X_load = load('X.joblib')\n",
    "y_load = load('y.joblib')\n",
    "```\n",
    "\n",
    "以上示例展示了如何使用`joblib.load()`函数从文件中反序列化Python对象。在此示例中，我们从文件`X.joblib`和`y.joblib`中加载数组`X`和`y`。\n",
    "\n",
    "- 示例2：\n",
    "```python\n",
    "# 模型加载\n",
    "estimator = joblib.load(\"./data/test.pkl\")\n",
    "```"
   ]
  },
  {
   "cell_type": "markdown",
   "id": "b461710f-f9d2-44b7-8def-a2d02743b69e",
   "metadata": {},
   "source": [
    "# 案例2：房价预测综合\n",
    "## 1.数据获取"
   ]
  },
  {
   "cell_type": "code",
   "execution_count": 28,
   "id": "a481a15b-7d58-4a03-aafb-4461ff7a7b52",
   "metadata": {
    "tags": []
   },
   "outputs": [],
   "source": [
    "from sklearn.datasets import fetch_california_housing\n",
    "from sklearn.model_selection import train_test_split\n",
    "from sklearn.preprocessing import StandardScaler\n",
    "from sklearn.linear_model import LinearRegression, SGDRegressor, Ridge, RidgeCV, ElasticNet, Lasso\n",
    "from joblib import dump, load"
   ]
  },
  {
   "cell_type": "code",
   "execution_count": 22,
   "id": "3f6f0a06-b7f1-45aa-8053-f5f2f3b2d29a",
   "metadata": {
    "tags": []
   },
   "outputs": [],
   "source": [
    "housing = fetch_california_housing()"
   ]
  },
  {
   "cell_type": "markdown",
   "id": "f0aeef7f-10e2-4866-8876-3777e8e91e88",
   "metadata": {},
   "source": [
    "## 2.数据集划分"
   ]
  },
  {
   "cell_type": "code",
   "execution_count": 23,
   "id": "c7e687fe-0c4a-4565-9783-2a6b191d8721",
   "metadata": {
    "tags": []
   },
   "outputs": [],
   "source": [
    "x_train, x_test, y_train, y_test = train_test_split(housing.data, housing.target, test_size = 0.2, random_state=22)"
   ]
  },
  {
   "cell_type": "markdown",
   "id": "037d2016-1562-4fd0-bf47-38e4829c79de",
   "metadata": {},
   "source": [
    "## 3.特征工程——标准化"
   ]
  },
  {
   "cell_type": "code",
   "execution_count": 26,
   "id": "97f03e52-ffd7-45b8-9b79-2a91b62d75d0",
   "metadata": {
    "tags": []
   },
   "outputs": [],
   "source": [
    "transfer = StandardScaler()\n",
    "x_train = transfer.fit_transform(x_train)\n",
    "x_test = transfer.fit_transform(x_test)"
   ]
  },
  {
   "cell_type": "markdown",
   "id": "741b71ad-05d6-4ffe-9388-fc5c1f75a29f",
   "metadata": {},
   "source": [
    "## 4.机器学习——线性回归\n",
    "### 4.1模型训练"
   ]
  },
  {
   "cell_type": "code",
   "execution_count": 31,
   "id": "1f616b75-c14d-47a7-b3fc-43c9a3b55b97",
   "metadata": {
    "tags": []
   },
   "outputs": [
    {
     "data": {
      "text/html": [
       "<style>#sk-container-id-5 {color: black;background-color: white;}#sk-container-id-5 pre{padding: 0;}#sk-container-id-5 div.sk-toggleable {background-color: white;}#sk-container-id-5 label.sk-toggleable__label {cursor: pointer;display: block;width: 100%;margin-bottom: 0;padding: 0.3em;box-sizing: border-box;text-align: center;}#sk-container-id-5 label.sk-toggleable__label-arrow:before {content: \"▸\";float: left;margin-right: 0.25em;color: #696969;}#sk-container-id-5 label.sk-toggleable__label-arrow:hover:before {color: black;}#sk-container-id-5 div.sk-estimator:hover label.sk-toggleable__label-arrow:before {color: black;}#sk-container-id-5 div.sk-toggleable__content {max-height: 0;max-width: 0;overflow: hidden;text-align: left;background-color: #f0f8ff;}#sk-container-id-5 div.sk-toggleable__content pre {margin: 0.2em;color: black;border-radius: 0.25em;background-color: #f0f8ff;}#sk-container-id-5 input.sk-toggleable__control:checked~div.sk-toggleable__content {max-height: 200px;max-width: 100%;overflow: auto;}#sk-container-id-5 input.sk-toggleable__control:checked~label.sk-toggleable__label-arrow:before {content: \"▾\";}#sk-container-id-5 div.sk-estimator input.sk-toggleable__control:checked~label.sk-toggleable__label {background-color: #d4ebff;}#sk-container-id-5 div.sk-label input.sk-toggleable__control:checked~label.sk-toggleable__label {background-color: #d4ebff;}#sk-container-id-5 input.sk-hidden--visually {border: 0;clip: rect(1px 1px 1px 1px);clip: rect(1px, 1px, 1px, 1px);height: 1px;margin: -1px;overflow: hidden;padding: 0;position: absolute;width: 1px;}#sk-container-id-5 div.sk-estimator {font-family: monospace;background-color: #f0f8ff;border: 1px dotted black;border-radius: 0.25em;box-sizing: border-box;margin-bottom: 0.5em;}#sk-container-id-5 div.sk-estimator:hover {background-color: #d4ebff;}#sk-container-id-5 div.sk-parallel-item::after {content: \"\";width: 100%;border-bottom: 1px solid gray;flex-grow: 1;}#sk-container-id-5 div.sk-label:hover label.sk-toggleable__label {background-color: #d4ebff;}#sk-container-id-5 div.sk-serial::before {content: \"\";position: absolute;border-left: 1px solid gray;box-sizing: border-box;top: 0;bottom: 0;left: 50%;z-index: 0;}#sk-container-id-5 div.sk-serial {display: flex;flex-direction: column;align-items: center;background-color: white;padding-right: 0.2em;padding-left: 0.2em;position: relative;}#sk-container-id-5 div.sk-item {position: relative;z-index: 1;}#sk-container-id-5 div.sk-parallel {display: flex;align-items: stretch;justify-content: center;background-color: white;position: relative;}#sk-container-id-5 div.sk-item::before, #sk-container-id-5 div.sk-parallel-item::before {content: \"\";position: absolute;border-left: 1px solid gray;box-sizing: border-box;top: 0;bottom: 0;left: 50%;z-index: -1;}#sk-container-id-5 div.sk-parallel-item {display: flex;flex-direction: column;z-index: 1;position: relative;background-color: white;}#sk-container-id-5 div.sk-parallel-item:first-child::after {align-self: flex-end;width: 50%;}#sk-container-id-5 div.sk-parallel-item:last-child::after {align-self: flex-start;width: 50%;}#sk-container-id-5 div.sk-parallel-item:only-child::after {width: 0;}#sk-container-id-5 div.sk-dashed-wrapped {border: 1px dashed gray;margin: 0 0.4em 0.5em 0.4em;box-sizing: border-box;padding-bottom: 0.4em;background-color: white;}#sk-container-id-5 div.sk-label label {font-family: monospace;font-weight: bold;display: inline-block;line-height: 1.2em;}#sk-container-id-5 div.sk-label-container {text-align: center;}#sk-container-id-5 div.sk-container {/* jupyter's `normalize.less` sets `[hidden] { display: none; }` but bootstrap.min.css set `[hidden] { display: none !important; }` so we also need the `!important` here to be able to override the default hidden behavior on the sphinx rendered scikit-learn.org. See: https://github.com/scikit-learn/scikit-learn/issues/21755 */display: inline-block !important;position: relative;}#sk-container-id-5 div.sk-text-repr-fallback {display: none;}</style><div id=\"sk-container-id-5\" class=\"sk-top-container\"><div class=\"sk-text-repr-fallback\"><pre>RidgeCV(alphas=(0.1, 1, 10))</pre><b>In a Jupyter environment, please rerun this cell to show the HTML representation or trust the notebook. <br />On GitHub, the HTML representation is unable to render, please try loading this page with nbviewer.org.</b></div><div class=\"sk-container\" hidden><div class=\"sk-item\"><div class=\"sk-estimator sk-toggleable\"><input class=\"sk-toggleable__control sk-hidden--visually\" id=\"sk-estimator-id-5\" type=\"checkbox\" checked><label for=\"sk-estimator-id-5\" class=\"sk-toggleable__label sk-toggleable__label-arrow\">RidgeCV</label><div class=\"sk-toggleable__content\"><pre>RidgeCV(alphas=(0.1, 1, 10))</pre></div></div></div></div></div>"
      ],
      "text/plain": [
       "RidgeCV(alphas=(0.1, 1, 10))"
      ]
     },
     "execution_count": 31,
     "metadata": {},
     "output_type": "execute_result"
    }
   ],
   "source": [
    "# 正规方程\n",
    "estimator_LinearRegression = LinearRegression()\n",
    "estimator_LinearRegression.fit(x_train, y_train)\n",
    "\n",
    "# 梯度下降\n",
    "estimator_SGDRegressor = SGDRegressor(max_iter=1000)\n",
    "estimator_SGDRegressor.fit(x_train, y_train)\n",
    "\n",
    "# 岭回归(Ridge)\n",
    "estimator_Ridge = Ridge(alpha=1)\n",
    "estimator_Ridge.fit(x_train, y_train)\n",
    "\n",
    "# 岭回归(RidgeCV)\n",
    "estimator_RidgeCV = RidgeCV(alphas=(0.1, 1, 10))\n",
    "estimator_RidgeCV.fit(x_train, y_train)"
   ]
  },
  {
   "cell_type": "markdown",
   "id": "eecc0e94-2858-4066-8f8a-7a61000d0b03",
   "metadata": {},
   "source": [
    "### 4.2模型保存"
   ]
  },
  {
   "cell_type": "code",
   "execution_count": 36,
   "id": "c075a6fc-f498-4a45-b3bb-b80c37e2f17c",
   "metadata": {
    "tags": []
   },
   "outputs": [
    {
     "data": {
      "text/plain": [
       "['./data/RidgeCV.pkl']"
      ]
     },
     "execution_count": 36,
     "metadata": {},
     "output_type": "execute_result"
    }
   ],
   "source": [
    "dump(estimator_LinearRegression, \"./data/LinearRegression.pkl\")\n",
    "dump(estimator_SGDRegressor, \"./data/SGDRegressor.pkl\")\n",
    "dump(estimator_Ridge, \"./data/Ridge.pkl\")\n",
    "dump(estimator_RidgeCV, \"./data/RidgeCV.pkl\")"
   ]
  },
  {
   "cell_type": "markdown",
   "id": "f8240058-074d-4eb9-89f7-b1b849dd3b6d",
   "metadata": {},
   "source": [
    "### 4.3模型加载"
   ]
  },
  {
   "cell_type": "code",
   "execution_count": 37,
   "id": "02205cce-780d-45ab-ba0c-5ce6fdb5ceae",
   "metadata": {
    "tags": []
   },
   "outputs": [],
   "source": [
    "estimator_LinearRegression = load(\"./data/LinearRegression.pkl\")\n",
    "estimator_SGDRegressor = load(\"./data/SGDRegressor.pkl\")\n",
    "estimator_Ridge = load(\"./data/Ridge.pkl\")\n",
    "estimator_RidgeCV = load(\"./data/RidgeCV.pkl\")"
   ]
  },
  {
   "cell_type": "markdown",
   "id": "12a33fb0-3ab1-4e4b-b61f-98b54094640d",
   "metadata": {},
   "source": [
    "## 5.模型评估"
   ]
  },
  {
   "cell_type": "code",
   "execution_count": 46,
   "id": "89b7fa2c-16ef-40aa-a1d1-c5d7acb3d297",
   "metadata": {
    "tags": []
   },
   "outputs": [
    {
     "name": "stdout",
     "output_type": "stream",
     "text": [
      "LinearRegression预测值为:\n",
      " [1.41032993 2.01179033 1.0060783  ... 0.7521827  2.90847526 1.10653729]\n",
      "LinearRegression模型中的系数为:\n",
      " [ 0.8219582   0.11446086 -0.25859685  0.30223006 -0.00669696 -0.04110045\n",
      " -0.91361027 -0.88513168]\n",
      "LinearRegression模型中的偏置为:\n",
      " 2.0697045130809433\n",
      "误差为:\n",
      " 0.5065887967856285\n",
      "--------------------------------------------------------------------------\n",
      "SGDRegressor预测值为:\n",
      " [  55.2405177    -4.99592555 -103.65171145 ...   87.20329621  128.85877416\n",
      "   30.46376238]\n",
      "SGDRegressor模型中的系数为:\n",
      " [  13.13420757  -44.44496551  -56.96629207   17.62211875  -66.79506187\n",
      " -472.01125177   12.58850047   19.20830158]\n",
      "SGDRegressor模型中的偏置为:\n",
      " [-7.06059179]\n",
      "误差为:\n",
      " 233031.83420607378\n",
      "--------------------------------------------------------------------------\n",
      "Ridge预测值为:\n",
      " [1.41048649 2.01179559 1.00632554 ... 0.75246146 2.90839464 1.10651753]\n",
      "Ridge模型中的系数为:\n",
      " [ 0.82193035  0.11454405 -0.258439    0.30202016 -0.00666545 -0.04110036\n",
      " -0.91282746 -0.88434255]\n",
      "Ridge模型中的偏置为:\n",
      " 2.0697045130809437\n",
      "误差为:\n",
      " 0.5065797551510128\n",
      "--------------------------------------------------------------------------\n",
      "RidgeCV预测值为:\n",
      " [1.41188891 2.01183892 1.00853014 ... 0.7549528  2.90767041 1.1063499 ]\n",
      "RidgeCV模型中的系数为:\n",
      " [ 0.82167056  0.11528443 -0.25701306  0.30013198 -0.00638498 -0.04109911\n",
      " -0.90585296 -0.87731069]\n",
      "RidgeCV模型中的偏置为:\n",
      " 2.0697045130809473\n",
      "误差为:\n",
      " 0.506507297452635\n",
      "--------------------------------------------------------------------------\n"
     ]
    }
   ],
   "source": [
    "print(\"LinearRegression预测值为:\\n\", estimator_LinearRegression.predict(x_test))\n",
    "print(\"LinearRegression模型中的系数为:\\n\", estimator_LinearRegression.coef_)\n",
    "print(\"LinearRegression模型中的偏置为:\\n\", estimator_LinearRegression.intercept_)\n",
    "error = mean_squared_error(y_test, estimator_LinearRegression.predict(x_test))\n",
    "print(\"误差为:\\n\", error)\n",
    "print(\"--------------------------------------------------------------------------\")\n",
    "print(\"SGDRegressor预测值为:\\n\", estimator_SGDRegressor.predict(x_test))\n",
    "print(\"SGDRegressor模型中的系数为:\\n\", estimator_SGDRegressor.coef_)\n",
    "print(\"SGDRegressor模型中的偏置为:\\n\", estimator_SGDRegressor.intercept_)\n",
    "error = mean_squared_error(y_test, estimator_SGDRegressor.predict(x_test))\n",
    "print(\"误差为:\\n\", error)\n",
    "print(\"--------------------------------------------------------------------------\")\n",
    "print(\"Ridge预测值为:\\n\", estimator_Ridge.predict(x_test))\n",
    "print(\"Ridge模型中的系数为:\\n\", estimator_Ridge.coef_)\n",
    "print(\"Ridge模型中的偏置为:\\n\", estimator_Ridge.intercept_)\n",
    "error = mean_squared_error(y_test, estimator_Ridge.predict(x_test))\n",
    "print(\"误差为:\\n\", error)\n",
    "print(\"--------------------------------------------------------------------------\")\n",
    "print(\"RidgeCV预测值为:\\n\", estimator_RidgeCV.predict(x_test))\n",
    "print(\"RidgeCV模型中的系数为:\\n\", estimator_RidgeCV.coef_)\n",
    "print(\"RidgeCV模型中的偏置为:\\n\", estimator_RidgeCV.intercept_)\n",
    "error = mean_squared_error(y_test, estimator_RidgeCV.predict(x_test))\n",
    "print(\"误差为:\\n\", error)\n",
    "print(\"--------------------------------------------------------------------------\")"
   ]
  }
 ],
 "metadata": {
  "kernelspec": {
   "display_name": "Python 3 (ipykernel)",
   "language": "python",
   "name": "python3"
  },
  "language_info": {
   "codemirror_mode": {
    "name": "ipython",
    "version": 3
   },
   "file_extension": ".py",
   "mimetype": "text/x-python",
   "name": "python",
   "nbconvert_exporter": "python",
   "pygments_lexer": "ipython3",
   "version": "3.10.11"
  }
 },
 "nbformat": 4,
 "nbformat_minor": 5
}
